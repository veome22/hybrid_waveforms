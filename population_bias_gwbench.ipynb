{
 "cells": [
  {
   "cell_type": "code",
   "execution_count": 1,
   "metadata": {},
   "outputs": [],
   "source": [
    "import numpy as np\n",
    "import matplotlib.pyplot as plt\n",
    "from scipy import interpolate, integrate, optimize\n",
    "\n",
    "from gwbench import injections"
   ]
  },
  {
   "cell_type": "code",
   "execution_count": 2,
   "metadata": {},
   "outputs": [],
   "source": [
    "def p_m1(m1, alpha, beta, m_min, m_t, m_max):\n",
    "    '''\n",
    "    BBH merger primary mass PDF.\n",
    "    '''\n",
    "    if alpha != -1 and beta != -1:\n",
    "        N1 = 1 / ((m_t**(alpha+1) - m_min**(alpha+1))/(alpha+1)\n",
    "                  + m_t**(alpha-beta)*(m_max**(beta+1) - m_t**(beta+1))/(beta+1))\n",
    "    else:\n",
    "        if alpha == -1 and beta != -1:\n",
    "            N1 = 1 / (np.log(m_t/m_min) + m_t**(alpha-beta) *\n",
    "                      (m_max**(beta+1) - m_t**(beta+1))/(beta+1))\n",
    "        elif alpha != -1 and beta == -1:\n",
    "            N1 = 1 / ((m_t**(alpha+1) - m_min**(alpha+1)) /\n",
    "                      (alpha+1) + m_t**(alpha-beta)*np.log(m_max/m_t))\n",
    "        else:\n",
    "            N1 = 1/(np.log(m_t/m_min) + m_t**(alpha-beta)*np.log(m_max/m_t))\n",
    "\n",
    "    return np.piecewise(m1, [(m1 < m_min), (m1 >= m_min)*(m1 < m_t), (m1 >= m_t)*(m1 < m_max), (m1 >= m_max)],\n",
    "                        [0, lambda m1: N1*m1**alpha, lambda m1: N1*m_t**(alpha-beta)*m1**beta, 0])\n",
    "\n",
    "def p_q(q, gamma, q_min):\n",
    "    '''\n",
    "    BBH merger mass ratio PDF.\n",
    "    '''\n",
    "    Nq = (gamma+1)/(1-q_min**(gamma+1))\n",
    "    return Nq * q**gamma\n",
    "\n",
    "\n",
    "def p_z(z, z_min, z_max):\n",
    "    '''\n",
    "    BBH merger redshift PDF.\n",
    "    '''\n",
    "    Nz = 1/integrate.quad(lambda x: (1+x)**(2.6) /\n",
    "                          (1 + ((1+x)/3.2)**(6.2)), z_min, z_max)[0]\n",
    "    return Nz * (1+z)**(2.6)/(1 + ((1+z)/3.2)**(6.2))\n",
    "\n",
    "\n",
    "def p_s(s, alpha_s, beta_s):\n",
    "    '''\n",
    "    BH spin PDF.\n",
    "    '''\n",
    "    N_s = 1 / integrate.quad(lambda ss: ss**(alpha_s-1)\n",
    "                             * (1-ss)**(beta_s-1), 0, 1)[0]\n",
    "    return N_s * s**(alpha_s-1)*(1-s)**(beta_s-1)\n",
    "\n",
    "\n",
    "def R_mrg(z, R02, z_min, z_max):\n",
    "    '''\n",
    "    Volumetric merger rate density.\n",
    "    '''\n",
    "    return R02 * p_z(z, z_min, z_max)/p_z(0.2, z_min, z_max)"
   ]
  },
  {
   "cell_type": "code",
   "execution_count": 3,
   "metadata": {},
   "outputs": [],
   "source": [
    "N_events = 5000\n",
    "\n",
    "seed = 329\n",
    "# Initialize pseudo-random number generator:\n",
    "np.random.seed(seed)"
   ]
  },
  {
   "cell_type": "code",
   "execution_count": 33,
   "metadata": {},
   "outputs": [
    {
     "data": {
      "image/png": "[encoded data removed]",
      "text/plain": [
       "<Figure size 432x288 with 1 Axes>"
      ]
     },
     "metadata": {
      "needs_background": "light"
     },
     "output_type": "display_data"
    }
   ],
   "source": [
    "# Sample primary masses:\n",
    "alpha=-1.\n",
    "beta=-2.\n",
    "m_min = 1\n",
    "m_t = 20.\n",
    "m_max = 100\n",
    "\n",
    "m1 = np.linspace(m_min, m_max, 10**5)\n",
    "\n",
    "pdf_m1 = p_m1(m1, alpha, beta, m_min, m_t, m_max)\n",
    "cdf_m1 = integrate.cumulative_trapezoid(pdf_m1, m1, initial=0)\n",
    "inv_cdf_m1 = interpolate.interp1d(cdf_m1 / cdf_m1[-1], m1)\n",
    "m1_events = inv_cdf_m1(np.random.rand(N_events))\n",
    "\n",
    "plt.hist(m1_events)\n",
    "plt.loglog()\n",
    "plt.show()"
   ]
  },
  {
   "cell_type": "code",
   "execution_count": 34,
   "metadata": {},
   "outputs": [],
   "source": [
    "# Sample secondary masses:\n",
    "m2_events = np.zeros(N_events)\n",
    "gamma = 0.\n",
    "for i in range(0, N_events):\n",
    "    q_min = m_min/m1_events[i]\n",
    "    q = np.linspace(q_min, 1, 10**2)\n",
    "    pdf_q = p_q(q, gamma, q_min)\n",
    "    cdf_q = integrate.cumulative_trapezoid(pdf_q, q, initial=0)\n",
    "    inv_cdf_q = interpolate.interp1d(cdf_q / cdf_q[-1], q)\n",
    "    m2_events[i] = m1_events[i] * inv_cdf_q(np.random.rand())"
   ]
  },
  {
   "cell_type": "code",
   "execution_count": 35,
   "metadata": {},
   "outputs": [],
   "source": [
    "alpha_s = 1.\n",
    "beta_s = 2. \n",
    "# Sample primary spins:\n",
    "s1 = np.linspace(0, 1, 10**3)\n",
    "pdf_s1 = p_s(s1, alpha_s, beta_s)\n",
    "cdf_s1 = integrate.cumulative_trapezoid(pdf_s1, s1, initial=0)\n",
    "inv_cdf_s1 = interpolate.interp1d(cdf_s1 / cdf_s1[-1], s1)\n",
    "s1_events = inv_cdf_s1(np.random.rand(N_events))\n",
    "# Sample secondary spins:\n",
    "s2 = np.linspace(0, 1, 10**3)\n",
    "pdf_s2 = p_s(s2, alpha_s, beta_s)\n",
    "cdf_s2 = integrate.cumulative_trapezoid(pdf_s2, s2, initial=0)\n",
    "inv_cdf_s2 = interpolate.interp1d(cdf_s2 / cdf_s2[-1], s2)\n",
    "s2_events = inv_cdf_s2(np.random.rand(N_events))\n",
    "\n",
    "z_min = 0.1\n",
    "z_out = 3.0\n",
    "# Sample redshifts:\n",
    "z = np.linspace(z_min, z_out, 10**3)\n",
    "pdf_z = p_z(z, z_min, z_out)\n",
    "cdf_z = integrate.cumulative_trapezoid(pdf_z, z, initial=0)\n",
    "inv_cdf_z = interpolate.interp1d(cdf_z / cdf_z[-1], z)\n",
    "z_events = inv_cdf_z(np.random.rand(N_events))\n",
    "# Sample external angles:\n",
    "iota_events, ra_events, dec_events, psi_events = injections.angle_sampler(\n",
    "    N_events, seed)\n"
   ]
  },
  {
   "cell_type": "markdown",
   "metadata": {},
   "source": [
    "# Infer Population Parameters"
   ]
  },
  {
   "cell_type": "code",
   "execution_count": 36,
   "metadata": {},
   "outputs": [],
   "source": [
    "def fit_function(m1, alpha, beta, m_t):\n",
    "    m_min = 1\n",
    "    # m_t = 20\n",
    "    m_max = 100\n",
    "    '''\n",
    "    BBH merger primary mass PDF.\n",
    "    '''\n",
    "    if alpha != -1 and beta != -1:\n",
    "        N1 = 1 / ((m_t**(alpha+1) - m_min**(alpha+1))/(alpha+1)\n",
    "                  + m_t**(alpha-beta)*(m_max**(beta+1) - m_t**(beta+1))/(beta+1))\n",
    "    else:\n",
    "        if alpha == -1 and beta != -1:\n",
    "            N1 = 1 / (np.log(m_t/m_min) + m_t**(alpha-beta) *\n",
    "                      (m_max**(beta+1) - m_t**(beta+1))/(beta+1))\n",
    "        elif alpha != -1 and beta == -1:\n",
    "            N1 = 1 / ((m_t**(alpha+1) - m_min**(alpha+1)) /\n",
    "                      (alpha+1) + m_t**(alpha-beta)*np.log(m_max/m_t))\n",
    "        else:\n",
    "            N1 = 1/(np.log(m_t/m_min) + m_t**(alpha-beta)*np.log(m_max/m_t))\n",
    "\n",
    "    return np.piecewise(m1, [(m1 < m_min), (m1 >= m_min)*(m1 < m_t), (m1 >= m_t)*(m1 < m_max), (m1 >= m_max)],\n",
    "                        [0, lambda m1: N1*m1**alpha, lambda m1: N1*m_t**(alpha-beta)*m1**beta, 0])"
   ]
  },
  {
   "cell_type": "code",
   "execution_count": 37,
   "metadata": {},
   "outputs": [
    {
     "data": {
      "image/png": "[encoded data removed]",
      "text/plain": [
       "<Figure size 720x360 with 1 Axes>"
      ]
     },
     "metadata": {
      "needs_background": "light"
     },
     "output_type": "display_data"
    }
   ],
   "source": [
    "target_func = fit_function\n",
    "bins = np.logspace(0, 2, 100)\n",
    "\n",
    "y, X = np.histogram(m1_events, bins=bins, density=True)\n",
    "X = X[:-1]\n",
    "# plt.plot(X, y)\n",
    "# plt.loglog()\n",
    "\n",
    "popt, pcov = optimize.curve_fit(target_func, X, y, p0=[-0.8, -2.3, 30])\n",
    "\n",
    "plt.figure(figsize=(10, 5))\n",
    "plt.plot(X, target_func(X, *popt), '--', label='Fit')\n",
    "\n",
    "plt.plot(X, y, 'ro', label='Data')\n",
    "plt.loglog()\n",
    "plt.legend()\n",
    "plt.show()"
   ]
  },
  {
   "cell_type": "code",
   "execution_count": 38,
   "metadata": {},
   "outputs": [
    {
     "data": {
      "text/plain": [
       "array([-1.00195381, -1.73363023, 16.29746724])"
      ]
     },
     "execution_count": 38,
     "metadata": {},
     "output_type": "execute_result"
    }
   ],
   "source": [
    "popt"
   ]
  },
  {
   "cell_type": "code",
   "execution_count": null,
   "metadata": {},
   "outputs": [],
   "source": []
  }
 ],
 "metadata": {
  "kernelspec": {
   "display_name": "Python 3.7.13 ('gwbench')",
   "language": "python",
   "name": "python3"
  },
  "language_info": {
   "codemirror_mode": {
    "name": "ipython",
    "version": 3
   },
   "file_extension": ".py",
   "mimetype": "text/x-python",
   "name": "python",
   "nbconvert_exporter": "python",
   "pygments_lexer": "ipython3",
   "version": "3.7.13"
  },
  "orig_nbformat": 4,
  "vscode": {
   "interpreter": {
    "hash": "cbe1fb295ede18687e704982bc89cf918a072ae67c1f3b9a387e3fbbe13ee567"
   }
  }
 },
 "nbformat": 4,
 "nbformat_minor": 2
}
