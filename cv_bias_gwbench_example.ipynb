{
 "cells": [
  {
   "cell_type": "code",
   "execution_count": 1,
   "metadata": {},
   "outputs": [],
   "source": [
    "import numpy as np\n",
    "from gwbench import network\n",
    "from gwbench.snr import scalar_product_freq_array"
   ]
  },
  {
   "cell_type": "code",
   "execution_count": 2,
   "metadata": {},
   "outputs": [],
   "source": [
    "def get_network_response(inj_params, f_min=5., f_max=1024., d_f = 2**-4,\n",
    "        network_spec = ['CE-40_C', 'CE-20_S', 'ET_ET1', 'ET_ET2', 'ET_ET3'], \n",
    "        approximant='IMRPhenomD', \n",
    "        deriv_symbs_string = 'Mc eta chi1z chi2z DL tc phic iota ra dec psi', \n",
    "        cond_num=1e25, calc_detector_responses=True, calc_derivs=True, calc_fisher=True, **kwargs):\n",
    "    \n",
    "\n",
    "    # initialize the network with the desired detectors\n",
    "    net = network.Network(network_spec)\n",
    "\n",
    "    # choose the desired waveform \n",
    "    wf_model_name = 'lal_bbh'\n",
    "    # pass the chosen waveform to the network for initialization\n",
    "    net.set_wf_vars(wf_model_name=wf_model_name, wf_other_var_dic = {'approximant': approximant})\n",
    "\n",
    "    # pick the desired frequency range\n",
    "    f = np.arange(f_min, f_max, d_f)\n",
    "\n",
    "    # choose whether to take Earth's rotation into account\n",
    "    use_rot = 0\n",
    "\n",
    "    # pass all these variables to the network\n",
    "    net.set_net_vars(\n",
    "        f=f, inj_params=inj_params,\n",
    "        deriv_symbs_string=deriv_symbs_string,\n",
    "        use_rot=use_rot, **kwargs\n",
    "        )\n",
    "\n",
    "    # compute the WF polarizations\n",
    "    net.calc_wf_polarizations()\n",
    "\n",
    "    if not calc_detector_responses:\n",
    "        return net\n",
    "    \n",
    "    if calc_derivs:\n",
    "        # compute the WF polarizations and their derivatives\n",
    "        net.calc_wf_polarizations_derivs_num()\n",
    "\n",
    "    # setup antenna patterns, location phase factors, and PSDs\n",
    "    net.setup_ant_pat_lpf_psds()\n",
    "\n",
    "    # compute the detector responses\n",
    "    net.calc_det_responses()\n",
    "\n",
    "    if calc_derivs:\n",
    "        # compute the detector responses and their derivatives\n",
    "        net.calc_det_responses_derivs_num()\n",
    "\n",
    "    # calculate the network and detector SNRs\n",
    "    net.calc_snrs()\n",
    "\n",
    "    if calc_fisher:\n",
    "        # calculate the network and detector Fisher matrices, condition numbers,\n",
    "        # covariance matrices, error estimates, and inversion errors\n",
    "        net.calc_errors(cond_sup=cond_num)\n",
    "\n",
    "\n",
    "    return net"
   ]
  },
  {
   "cell_type": "code",
   "execution_count": 3,
   "metadata": {},
   "outputs": [
    {
     "name": "stderr",
     "output_type": "stream",
     "text": [
      "2023-12-19 14:26:33,967 - Network - INFO : Polarizations calculated.\n",
      "2023-12-19 14:26:33,968 - Network - INFO : Calculate numeric derivatives of polarizations.\n",
      "2023-12-19 14:26:33,975 - Network - INFO : Polarizations calculated.\n"
     ]
    },
    {
     "name": "stderr",
     "output_type": "stream",
     "text": [
      "2023-12-19 14:26:38,002 - Network - INFO : Numeric derivatives of polarizations calculated.\n",
      "2023-12-19 14:26:38,026 - Network - INFO : PSDs loaded.\n",
      "2023-12-19 14:26:38,029 - Network - INFO : Antenna patterns and LPFs loaded.\n",
      "2023-12-19 14:26:38,040 - Network - INFO : Detector responses calculated.\n",
      "2023-12-19 14:26:38,041 - Network - INFO : Calculate numeric derivatives of detector responses.\n",
      "2023-12-19 14:26:38,041 - Network - INFO :    A+_H\n",
      "2023-12-19 14:26:41,047 - Network - INFO :    A+_L\n",
      "2023-12-19 14:26:44,013 - Network - INFO :    V+_V\n",
      "2023-12-19 14:26:46,989 - Network - INFO : Numeric derivatives of detector responses calculated.\n",
      "2023-12-19 14:26:46,993 - Network - INFO : SNRs calculated.\n",
      "2023-12-19 14:26:46,994 - Network - INFO : Calculate errors (Fisher & cov matrices).\n",
      "2023-12-19 14:26:46,994 - Network - INFO :    A+_H\n",
      "2023-12-19 14:26:47,075 - Network - INFO :    A+_L\n",
      "2023-12-19 14:26:47,154 - Network - INFO :    V+_V\n",
      "2023-12-19 14:26:47,257 - Network - INFO : Errors calculated.\n",
      "2023-12-19 14:26:47,263 - Network - INFO : Polarizations calculated.\n",
      "2023-12-19 14:26:47,263 - Network - INFO : Calculate numeric derivatives of polarizations.\n",
      "2023-12-19 14:26:47,268 - Network - INFO : Polarizations calculated.\n",
      "2023-12-19 14:26:51,375 - Network - INFO : Numeric derivatives of polarizations calculated.\n",
      "2023-12-19 14:26:51,396 - Network - INFO : PSDs loaded.\n",
      "2023-12-19 14:26:51,399 - Network - INFO : Antenna patterns and LPFs loaded.\n",
      "2023-12-19 14:26:51,413 - Network - INFO : Detector responses calculated.\n",
      "2023-12-19 14:26:51,414 - Network - INFO : Calculate numeric derivatives of detector responses.\n",
      "2023-12-19 14:26:51,414 - Network - INFO :    A+_H\n",
      "2023-12-19 14:26:54,458 - Network - INFO :    A+_L\n",
      "2023-12-19 14:26:57,473 - Network - INFO :    V+_V\n",
      "2023-12-19 14:27:00,477 - Network - INFO : Numeric derivatives of detector responses calculated.\n",
      "2023-12-19 14:27:00,482 - Network - INFO : SNRs calculated.\n",
      "2023-12-19 14:27:00,482 - Network - INFO : Calculate errors (Fisher & cov matrices).\n",
      "2023-12-19 14:27:00,483 - Network - INFO :    A+_H\n",
      "2023-12-19 14:27:00,563 - Network - INFO :    A+_L\n",
      "2023-12-19 14:27:00,687 - Network - INFO :    V+_V\n",
      "2023-12-19 14:27:00,789 - Network - INFO : Errors calculated.\n"
     ]
    }
   ],
   "source": [
    "# Compute Naiive biases\n",
    "def cutler_vallisneri_overlap_vec(del_hf, delta_hf, psd, freqs, df=None):\n",
    "    return np.array([ scalar_product_freq_array(del_hf[deriv], delta_hf, psd, freqs, df=df) for deriv in del_hf ])\n",
    "\n",
    "inj_params = dict()\n",
    "inj_params['Mc'] = 30.9\n",
    "inj_params['eta'] = 0.247\n",
    "inj_params['iota'] = np.pi/4\n",
    "inj_params['chi1x'] = 0\n",
    "inj_params['chi1y'] = 0\n",
    "inj_params['chi1z'] = 0\n",
    "inj_params['chi2x'] = 0\n",
    "inj_params['chi2y'] = 0\n",
    "inj_params['chi2z'] = 0\n",
    "inj_params['DL'] = 475\n",
    "inj_params['tc'] = 0\n",
    "inj_params['phic'] = 0\n",
    "inj_params['ra'] = np.pi/4\n",
    "inj_params['dec'] = np.pi/4\n",
    "inj_params['psi'] = np.pi/4\n",
    "inj_params['gmst0'] = 0\n",
    "inj_params['phiRef'] = 0\n",
    "\n",
    "deriv_symbs_string = 'Mc eta DL tc phic iota ra dec psi'\n",
    "deriv_variables = ['log_Mc', 'eta', 'log_DL', 'tc', 'phic', 'cos_iota', 'ra', 'cos_dec', 'psi']\n",
    "\n",
    "d_f = 1/16\n",
    "f_low = 10.\n",
    "f_high = 2048.\n",
    "network_spec = ['A+_H', 'A+_L', 'V+_V']\n",
    "\n",
    "net_ap = get_network_response(inj_params=inj_params, \n",
    "    deriv_symbs_string=deriv_symbs_string,\n",
    "    f_min=f_low, f_max=f_high, d_f=d_f,\n",
    "    approximant='IMRPhenomD', network_spec=network_spec \n",
    "    ,conv_cos = ('iota','dec'),\n",
    "    conv_log = ('Mc','DL')\n",
    "    )\n",
    "\n",
    "net_tr = get_network_response(inj_params=inj_params, \n",
    "    deriv_symbs_string=deriv_symbs_string,\n",
    "    f_min=f_low, f_max=f_high, d_f=d_f,\n",
    "    approximant='IMRPhenomXAS', network_spec=network_spec\n",
    "    ,conv_cos = ('iota','dec'),\n",
    "    conv_log = ('Mc','DL')\n",
    "    )\n",
    "\n",
    "overlap_vecs_network = np.zeros((len(net_ap.detectors), len(net_ap.deriv_variables)))\n",
    "\n",
    "for d in range(len(net_ap.detectors)):\n",
    "    ## set up initial waveforms\n",
    "    h1 = net_tr.detectors[d].hf\n",
    "    h2 = net_ap.detectors[d].hf\n",
    "    f = net_ap.detectors[d].f\n",
    "    Sn = net_ap.detectors[d].psd\n",
    "    network_spec_d = [net_ap.detectors[d].det_key]\n",
    "\n",
    "    ## Compute CV overlap vector for this detector\n",
    "    delta_hf = net_tr.detectors[d].hf - net_ap.detectors[d].hf\n",
    "    overlap_vecs_network[d] = cutler_vallisneri_overlap_vec(net_ap.detectors[d].del_hf, delta_hf, net_ap.detectors[d].psd, net_ap.detectors[d].f)\n",
    "\n",
    "cv_bias = np.matmul(net_ap.cov, np.sum(overlap_vecs_network, axis=0))\n",
    "cv_bias = cv_bias.tolist()[0]"
   ]
  },
  {
   "cell_type": "code",
   "execution_count": 4,
   "metadata": {},
   "outputs": [
    {
     "name": "stdout",
     "output_type": "stream",
     "text": [
      "[0.011927592817112753, 0.032435896414379606, 1.7396149342051785, -0.0024082189985945163, 0.6106673240979035, 0.2773988703078203, -0.0015799870002783933, 0.0009277569480614645, -0.15251242323563474]\n"
     ]
    }
   ],
   "source": [
    "print(cv_bias)"
   ]
  },
  {
   "cell_type": "code",
   "execution_count": 5,
   "metadata": {},
   "outputs": [
    {
     "name": "stdout",
     "output_type": "stream",
     "text": [
      "log_Mc: 8.906%\n",
      "eta: 4.215%\n",
      "log_DL: 0.093%\n",
      "tc: -12.057%\n",
      "phic: 56.364%\n",
      "cos_iota: 4.902%\n",
      "ra: -15.549%\n",
      "cos_dec: 8.714%\n",
      "psi: -138.790%\n"
     ]
    }
   ],
   "source": [
    "arnab_bias = np.array([ 1.30937195e-02, 3.38632109e-02, 1.74124245e+00, -2.14910145e-03, 3.90542706e-01, 2.64436484e-01, -1.87088785e-03, 8.53396225e-04, -6.38689364e-02 ])\n",
    "\n",
    "cv_bias = np.array(cv_bias)\n",
    "for n, bias in enumerate(100*np.abs(arnab_bias-cv_bias)/arnab_bias):\n",
    "    print(f\"{deriv_variables[n]}: {bias:.3f}%\")"
   ]
  },
  {
   "cell_type": "code",
   "execution_count": null,
   "metadata": {},
   "outputs": [],
   "source": []
  }
 ],
 "metadata": {
  "kernelspec": {
   "display_name": "gwbench_dev",
   "language": "python",
   "name": "python3"
  },
  "language_info": {
   "codemirror_mode": {
    "name": "ipython",
    "version": 3
   },
   "file_extension": ".py",
   "mimetype": "text/x-python",
   "name": "python",
   "nbconvert_exporter": "python",
   "pygments_lexer": "ipython3",
   "version": "3.9.16"
  }
 },
 "nbformat": 4,
 "nbformat_minor": 2
}
