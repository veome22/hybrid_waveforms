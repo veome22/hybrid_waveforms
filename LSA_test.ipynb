{
 "cells": [
  {
   "cell_type": "code",
   "execution_count": 54,
   "metadata": {},
   "outputs": [],
   "source": [
    "import numpy as np\n",
    "import glob\n",
    "from scipy.integrate import simps\n",
    "\n",
    "from gwbench import snr\n",
    "from gwbench import waveform as wfc\n",
    "from gwbench import injections\n",
    "from gwbench import network\n",
    "from gwbench import basic_relations as br\n",
    "\n",
    "from pycbc import conversions as conv\n",
    "from  pycbc.filter.matchedfilter import optimized_match\n",
    "\n",
    "from astropy.cosmology import Planck18, z_at_value\n",
    "\n",
    "import gwbench_network_funcs as gwnet\n",
    "\n",
    "from pycbc.types import FrequencySeries\n",
    "from pycbc.filter import match\n",
    "from pycbc.filter import matchedfilter\n",
    "\n",
    "from pycbc import types, fft, waveform"
   ]
  },
  {
   "cell_type": "code",
   "execution_count": 2,
   "metadata": {},
   "outputs": [],
   "source": [
    "import matplotlib.pyplot as plt\n",
    "\n",
    "import matplotlib as mpl\n",
    "\n",
    "plt.rcParams.update({\n",
    "    \"text.usetex\": True,\n",
    "    \"font.family\": \"serif\",\n",
    "    \"font.size\": 18\n",
    "})\n",
    "\n",
    "\n",
    "%config InlineBackend.figure_format='retina' # very useful command for high-res images"
   ]
  },
  {
   "cell_type": "code",
   "execution_count": 12,
   "metadata": {},
   "outputs": [
    {
     "name": "stdout",
     "output_type": "stream",
     "text": [
      "['hybr_0.0_0_20000.csv', 'hybr_0.0_20000_40000.csv', 'hybr_0.0_60000_80000.csv', 'hybr_0.0_100000_100259.csv', 'hybr_0.0_99741_100000.csv', 'hybr_0.0_40000_60000.csv', 'hybr_0.0_80000_100000.csv']\n",
      "40000\n"
     ]
    }
   ],
   "source": [
    "# takes ~ 2 min\n",
    "files = glob.glob1('powerlaw_smooth_hybrid_3G_production/', 'hybr_0.0_*')\n",
    "print(files)\n",
    "\n",
    "df = pd.DataFrame()\n",
    "for fi in files[0:2]:\n",
    "    df_temp = pd.read_csv('powerlaw_smooth_hybrid_3G_production/'+fi)\n",
    "    df = pd.concat([df,df_temp])\n",
    "# drop the zero rows that resulted from NoneType Networks\n",
    "df = df.loc[~(df==0).all(axis=1)]\n",
    "\n",
    "print(len(df[(df[\"hybr\"]==0.0)]))"
   ]
  },
  {
   "cell_type": "code",
   "execution_count": 14,
   "metadata": {},
   "outputs": [
    {
     "name": "stdout",
     "output_type": "stream",
     "text": [
      "Median SNR: 22.209034499015274\n",
      ">0: 40000\n",
      ">10: 35498\n",
      ">50: 5036\n",
      ">100: 1202\n",
      ">200: 357\n",
      ">300: 206\n"
     ]
    }
   ],
   "source": [
    "print(\"Median SNR:\", np.median(df[(df[\"hybr\"]==0.0)][\"snr\"]))\n",
    "\n",
    "print(\">0:\", np.sum((df[\"hybr\"]==0.0) & (df[\"snr\"]>0)))\n",
    "print(\">10:\", np.sum((df[\"hybr\"]==0.0) & (df[\"snr\"]>10)))\n",
    "print(\">50:\", np.sum((df[\"hybr\"]==0.0) & (df[\"snr\"]>50)))\n",
    "print(\">100:\", np.sum((df[\"hybr\"]==0.0) & (df[\"snr\"]>100)))\n",
    "print(\">200:\", np.sum((df[\"hybr\"]==0.0) & (df[\"snr\"]>200)))\n",
    "print(\">300:\", np.sum((df[\"hybr\"]==0.0) & (df[\"snr\"]>300)))"
   ]
  },
  {
   "cell_type": "markdown",
   "metadata": {},
   "source": [
    "# Compute Ratio of LSA likelihood to Exact Likelihood (from Vallisneri 2017)"
   ]
  },
  {
   "cell_type": "code",
   "execution_count": 67,
   "metadata": {},
   "outputs": [],
   "source": [
    "def scalar_product_integrand(hf, gf, psd):\n",
    "    temp = np.multiply(hf, np.conj(gf))\n",
    "    return 2 * np.divide(temp + np.conj(temp), psd)\n",
    "\n",
    "def scalar_product_freq_array(hf, gf, psd, freqs):\n",
    "    return np.real(simps(scalar_product_integrand(hf, gf, psd), freqs))"
   ]
  },
  {
   "cell_type": "code",
   "execution_count": 15,
   "metadata": {},
   "outputs": [],
   "source": [
    "input_file = 'smooth_powerlaw_pop.npz'\n",
    "with np.load(input_file, mmap_mode='r') as binaries:\n",
    "    Mcs = np.array(binaries['Mcs'])\n",
    "    etas = np.array(binaries['etas'])\n",
    "    chi1z = np.array(binaries['chi1z'])\n",
    "    chi2z = np.array(binaries['chi2z'])\n",
    "    DLs = np.array(binaries['DLs'])\n",
    "    iotas = np.array(binaries['iotas'])\n",
    "    ras = np.array(binaries['ras'])\n",
    "    decs = np.array(binaries['decs'])\n",
    "    psis = np.array(binaries['psis'])\n",
    "\n",
    "m1s = conv.mass1_from_mchirp_eta(Mcs, etas)\n",
    "mtots = conv.mtotal_from_mchirp_eta(Mcs, etas)\n",
    "\n"
   ]
  },
  {
   "cell_type": "code",
   "execution_count": 52,
   "metadata": {},
   "outputs": [
    {
     "name": "stderr",
     "output_type": "stream",
     "text": [
      "2023-10-26 14:49:41,916 - Network - INFO : Polarizations calculated.\n",
      "2023-10-26 14:49:41,917 - Network - INFO : Calculate numeric derivatives of polarizations.\n",
      "2023-10-26 14:49:41,920 - Network - INFO : Polarizations calculated.\n",
      "2023-10-26 14:49:42,591 - Network - INFO : Numeric derivatives of polarizations calculated.\n",
      "2023-10-26 14:49:42,640 - Network - INFO : PSDs loaded.\n",
      "2023-10-26 14:49:42,642 - Network - INFO : Antenna patterns and LPFs loaded.\n",
      "2023-10-26 14:49:42,653 - Network - INFO : Detector responses calculated.\n",
      "2023-10-26 14:49:42,653 - Network - INFO : Calculate numeric derivatives of detector responses.\n",
      "2023-10-26 14:49:42,654 - Network - INFO :    CE-40_C\n",
      "2023-10-26 14:49:43,091 - Network - INFO :    CE-20_S\n",
      "2023-10-26 14:49:43,520 - Network - INFO :    ET_ET1\n",
      "2023-10-26 14:49:43,965 - Network - INFO :    ET_ET2\n",
      "2023-10-26 14:49:44,402 - Network - INFO :    ET_ET3\n",
      "2023-10-26 14:49:44,834 - Network - INFO : Numeric derivatives of detector responses calculated.\n",
      "2023-10-26 14:49:44,837 - Network - INFO : SNRs calculated.\n",
      "2023-10-26 14:49:44,837 - Network - INFO : Calculate errors (Fisher & cov matrices).\n",
      "2023-10-26 14:49:44,838 - Network - INFO :    CE-40_C\n",
      "2023-10-26 14:49:44,890 - Network - INFO :    CE-20_S\n",
      "2023-10-26 14:49:44,940 - Network - INFO :    ET_ET1\n",
      "2023-10-26 14:49:44,997 - Network - INFO :    ET_ET2\n",
      "2023-10-26 14:49:45,054 - Network - INFO :    ET_ET3\n",
      "2023-10-26 14:49:45,151 - Network - INFO : Errors calculated.\n"
     ]
    }
   ],
   "source": [
    "i = 54837\n",
    "\n",
    "inj_params = {\n",
    "    'Mc':    Mcs[i],\n",
    "    'eta':   etas[i],\n",
    "    'chi1x': 0.,\n",
    "    'chi2x': 0.,\n",
    "    'chi1y': 0.,\n",
    "    'chi2y': 0.,\n",
    "    'chi1z': chi1z[i],\n",
    "    'chi2z': chi2z[i],\n",
    "    'DL':    DLs[i],\n",
    "    'tc':    0,\n",
    "    'phic':  0,\n",
    "    'iota':  iotas[i],\n",
    "    'ra':    ras[i],\n",
    "    'dec':   decs[i],\n",
    "    'psi':   psis[i],\n",
    "    'gmst0': 0,\n",
    "    'hybr': 0.0\n",
    "} \n",
    "\n",
    "net_key = '3G'\n",
    "\n",
    "d_f = 2**-4\n",
    "f_low = 5.0\n",
    "mtotal = conv.mtotal_from_mchirp_eta(inj_params['Mc'], inj_params['eta'])\n",
    "f_high = np.round(4*br.f_isco_Msolar(mtotal))\n",
    "\n",
    "net_ap = gwnet.get_network_response(inj_params=inj_params, f_max=f_high, approximant=\"IMRPhenomD\", network_key=net_key, calc_detector_responses=True)"
   ]
  },
  {
   "cell_type": "code",
   "execution_count": 66,
   "metadata": {},
   "outputs": [
    {
     "name": "stderr",
     "output_type": "stream",
     "text": [
      "2023-10-26 14:59:10,417 - Network - INFO : Polarizations calculated.\n"
     ]
    },
    {
     "name": "stderr",
     "output_type": "stream",
     "text": [
      "2023-10-26 14:59:10,426 - Network - INFO : Calculate numeric derivatives of polarizations.\n",
      "2023-10-26 14:59:10,435 - Network - INFO : Polarizations calculated.\n"
     ]
    },
    {
     "name": "stdout",
     "output_type": "stream",
     "text": [
      "{'Mc': 39.100505778702114, 'eta': 0.24901617667854037, 'chi1x': 0.0, 'chi2x': 0.0, 'chi1y': 0.0, 'chi2y': 0.0, 'chi1z': 0.15075946210840996, 'chi2z': 0.2207446966565786, 'DL': 1987.1097455046167, 'tc': 0.0010416506556794047, 'phic': 0.727260947227478, 'iota': 0.5246762329548236, 'ra': 0.16787946892691702, 'dec': -0.35175208133766867, 'psi': 4.775045584023324, 'gmst0': 0, 'hybr': 0.0}\n"
     ]
    },
    {
     "name": "stderr",
     "output_type": "stream",
     "text": [
      "2023-10-26 14:59:11,268 - Network - INFO : Numeric derivatives of polarizations calculated.\n",
      "2023-10-26 14:59:11,340 - Network - INFO : PSDs loaded.\n",
      "2023-10-26 14:59:11,342 - Network - INFO : Antenna patterns and LPFs loaded.\n",
      "2023-10-26 14:59:11,354 - Network - INFO : Detector responses calculated.\n",
      "2023-10-26 14:59:11,355 - Network - INFO : Calculate numeric derivatives of detector responses.\n",
      "2023-10-26 14:59:11,356 - Network - INFO :    CE-40_C\n",
      "2023-10-26 14:59:12,019 - Network - INFO :    CE-20_S\n",
      "2023-10-26 14:59:12,673 - Network - INFO :    ET_ET1\n",
      "2023-10-26 14:59:13,317 - Network - INFO :    ET_ET2\n",
      "2023-10-26 14:59:13,948 - Network - INFO :    ET_ET3\n",
      "2023-10-26 14:59:14,598 - Network - INFO : Numeric derivatives of detector responses calculated.\n",
      "2023-10-26 14:59:14,601 - Network - INFO : SNRs calculated.\n",
      "2023-10-26 14:59:14,601 - Network - INFO : Calculate errors (Fisher & cov matrices).\n",
      "2023-10-26 14:59:14,602 - Network - INFO :    CE-40_C\n",
      "2023-10-26 14:59:14,662 - Network - INFO :    CE-20_S\n",
      "2023-10-26 14:59:14,719 - Network - INFO :    ET_ET1\n",
      "2023-10-26 14:59:14,776 - Network - INFO :    ET_ET2\n",
      "2023-10-26 14:59:14,833 - Network - INFO :    ET_ET3\n",
      "2023-10-26 14:59:14,931 - Network - INFO : Errors calculated.\n"
     ]
    }
   ],
   "source": [
    "inj_params_1_sig = net_ap.inj_params.copy()\n",
    "\n",
    "for param in net_ap.deriv_variables:\n",
    "    inj_params_1_sig[param] = net_ap.inj_params[param] + net_ap.errs[param]\n",
    "\n",
    "print(inj_params_1_sig)\n",
    "net_1_sig = gwnet.get_network_response(inj_params=inj_params_1_sig, f_max=f_high, approximant=\"IMRPhenomD\", network_key=net_key, calc_detector_responses=True)"
   ]
  },
  {
   "cell_type": "code",
   "execution_count": 82,
   "metadata": {},
   "outputs": [
    {
     "data": {
      "text/plain": [
       "{'del_Mc_hf': array([-6.35980465e-25-1.33736297e-24j, -1.60165105e-23-1.63697621e-23j,\n",
       "         5.70620513e-24-4.39737654e-23j, ...,\n",
       "         1.34903135e-23-1.37859792e-23j,  1.34319921e-23-1.38228898e-23j,\n",
       "         1.33735379e-23-1.38596228e-23j]),\n",
       " 'del_eta_hf': array([-5.54264123e-24-1.16552685e-23j,  1.66735134e-22+1.32703817e-22j,\n",
       "        -2.73667931e-23+4.14946877e-22j, ...,\n",
       "        -4.02451962e-22+4.27933414e-22j, -4.00681613e-22+4.29134813e-22j,\n",
       "        -3.98904757e-22+4.30329194e-22j]),\n",
       " 'del_chi1z_hf': array([-3.77437579e-25-7.93689536e-25j,  2.30175569e-23+1.95241528e-23j,\n",
       "        -4.80936930e-24+5.87144698e-23j, ...,\n",
       "        -4.07841244e-23+4.22496145e-23j, -4.06064455e-23+4.23632450e-23j,\n",
       "        -4.04281497e-23+4.24761333e-23j]),\n",
       " 'del_chi2z_hf': array([-3.23168511e-25-6.79570557e-25j,  1.95340533e-23+1.65604961e-23j,\n",
       "        -4.07355658e-24+4.98141632e-23j, ...,\n",
       "        -3.08290590e-23+3.19564844e-23j, -3.06935143e-23+3.20412182e-23j,\n",
       "        -3.05575255e-23+3.21253970e-23j]),\n",
       " 'del_DL_hf': array([ 1.54603739e-26+3.25106393e-26j, -2.37275683e-26+2.63659194e-26j,\n",
       "        -3.48023771e-26-3.36914527e-27j, ...,\n",
       "        -4.39847193e-28-4.30918866e-28j, -4.41082650e-28-4.29127564e-28j,\n",
       "        -4.42180445e-28-4.27203644e-28j]),\n",
       " 'del_tc_hf': array([ 2.05469609e-21-9.77106888e-22j,  1.68757980e-21+1.51803547e-21j,\n",
       "        -2.18463075e-22+2.25407313e-21j, ...,\n",
       "        -1.04803694e-21+1.06975151e-21j, -1.04384556e-21+1.07292610e-21j,\n",
       "        -1.03963750e-21+1.07608486e-21j]),\n",
       " 'del_phic_hf': array([-6.45955654e-23+3.07182942e-23j, -5.24071575e-23-4.71420221e-23j,\n",
       "         6.70253859e-24-6.91560290e-23j, ...,\n",
       "         8.56200105e-25-8.73939950e-25j,  8.52502293e-25-8.76252459e-25j,\n",
       "         8.48793568e-25-8.78550234e-25j]),\n",
       " 'del_iota_hf': array([ 1.94605823e-23+3.49842213e-23j, -2.44623663e-23+3.09524703e-23j,\n",
       "        -3.88656457e-23-1.27799633e-24j, ...,\n",
       "        -5.18654872e-25-4.47082018e-25j, -5.19814547e-25-4.44934153e-25j,\n",
       "        -5.20977975e-25-4.42768175e-25j]),\n",
       " 'del_ra_hf': array([ 9.48297106e-23-8.12449208e-23j,  1.10115529e-22+5.57796435e-23j,\n",
       "         2.01947999e-23+1.20355467e-22j, ...,\n",
       "        -1.53635891e-23+1.64798268e-23j, -1.52991608e-23+1.65255412e-23j,\n",
       "        -1.52344912e-23+1.65710104e-23j]),\n",
       " 'del_dec_hf': array([ 7.43907342e-23+1.01149058e-23j,  1.92231787e-23+7.17485961e-23j,\n",
       "        -4.56750302e-23+5.75897014e-23j, ...,\n",
       "        -1.41390594e-23+1.34278784e-23j, -1.40857088e-23+1.34711661e-23j,\n",
       "        -1.40321465e-23+1.35142657e-23j]),\n",
       " 'del_psi_hf': array([ 1.29337873e-22-6.29209764e-23j,  1.06220448e-22+9.38555272e-23j,\n",
       "        -1.22421198e-23+1.39176240e-22j, ...,\n",
       "        -1.70602648e-24+1.77259835e-24j, -1.69854990e-24+1.77718205e-24j,\n",
       "        -1.69105092e-24+1.78173660e-24j])}"
      ]
     },
     "execution_count": 82,
     "metadata": {},
     "output_type": "execute_result"
    }
   ],
   "source": [
    "net_1_sig.detectors[0].del_hf"
   ]
  },
  {
   "cell_type": "code",
   "execution_count": 84,
   "metadata": {},
   "outputs": [],
   "source": [
    "log_r_j = np.zeros(len(net_ap.deriv_variables))\n",
    "\n",
    "d = 0\n",
    "\n",
    "for j, param_j in enumerate(net_ap.deriv_variables):\n",
    "    theta_1_sig_j = net_1_sig.inj_params[param_j]\n",
    "\n",
    "    h_j = net_ap.detectors[d].hf\n",
    "    h_1_sig = net_1_sig.detectors[d].hf\n",
    "    delta_h_1_sig_j = h_1_sig - h_j\n",
    "    \n",
    "    a = (theta_1_sig_j*net_1_sig.detectors[d].del_hf['del_'+param_j+'_hf']) - delta_h_1_sig_j\n",
    "\n",
    "    for k, param_k in enumerate(net_ap.deriv_variables):\n",
    "        theta_1_sig_k = net_1_sig.inj_params[param_k]\n",
    "\n",
    "        h_k = net_ap.detectors[d].hf\n",
    "        h_1_sig = net_1_sig.detectors[d].hf\n",
    "        delta_h_1_sig_k = h_1_sig - h_k\n",
    "\n",
    "        b = (theta_1_sig_k * net_1_sig.detectors[d].del_hf['del_'+param_k+'_hf']) - delta_h_1_sig_k\n",
    "\n",
    "        log_r_j[j] += scalar_product_freq_array(a, b, psd=net_ap.detectors[d].psd, freqs=net_ap.detectors[d].f)/2\n"
   ]
  },
  {
   "cell_type": "code",
   "execution_count": 85,
   "metadata": {},
   "outputs": [
    {
     "data": {
      "text/plain": [
       "array([ 3.72998601e+10, -4.54045695e+09, -3.38636542e+08, -4.11668666e+08,\n",
       "        8.81480671e+06, -9.17921864e+06,  5.61149955e+07,  6.44772903e+06,\n",
       "       -4.39840514e+07,  8.82142102e+07, -6.38071621e+08])"
      ]
     },
     "execution_count": 85,
     "metadata": {},
     "output_type": "execute_result"
    }
   ],
   "source": [
    "log_r_j"
   ]
  }
 ],
 "metadata": {
  "kernelspec": {
   "display_name": "gwbench_dev",
   "language": "python",
   "name": "python3"
  },
  "language_info": {
   "codemirror_mode": {
    "name": "ipython",
    "version": 3
   },
   "file_extension": ".py",
   "mimetype": "text/x-python",
   "name": "python",
   "nbconvert_exporter": "python",
   "pygments_lexer": "ipython3",
   "version": "3.9.16"
  }
 },
 "nbformat": 4,
 "nbformat_minor": 2
}
