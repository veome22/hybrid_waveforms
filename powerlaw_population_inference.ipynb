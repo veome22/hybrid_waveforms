{
 "cells": [
  {
   "cell_type": "code",
   "execution_count": 1,
   "metadata": {},
   "outputs": [],
   "source": [
    "import numpy as np\n",
    "import matplotlib.pyplot as plt\n",
    "import pandas as pd\n",
    "from scipy import interpolate, integrate, optimize\n",
    "from astropy.cosmology import FlatLambdaCDM\n",
    "import astropy.units as u\n",
    "cosmo = FlatLambdaCDM(H0=70 * u.km / u.s / u.Mpc, Tcmb0=2.725 * u.K, Om0=0.3)\n",
    "\n",
    "import pycbc.conversions as conv\n",
    "\n",
    "from gwbench import injections\n",
    "from gwbench import network\n",
    "from gwbench import snr"
   ]
  },
  {
   "attachments": {},
   "cell_type": "markdown",
   "metadata": {},
   "source": [
    "# Read simulation"
   ]
  },
  {
   "cell_type": "code",
   "execution_count": 2,
   "metadata": {},
   "outputs": [
    {
     "name": "stdout",
     "output_type": "stream",
     "text": [
      "Total number of events: 1296\n"
     ]
    }
   ],
   "source": [
    "# File with Mc biases\n",
    "\n",
    "files = ['powerlaw_3.5_lams/powerlaw_alpha_3.5_lam_0_1_Mc_0_1296.csv']\n",
    "\n",
    "df1 = pd.DataFrame()\n",
    "for fi in files:\n",
    "    df_temp = pd.read_csv(fi)\n",
    "    df1 = df1.append(df_temp)\n",
    "# drop the zero rows that resulted from NoneType Networks\n",
    "df_mc = df1.loc[~(df1==0).all(axis=1)]\n",
    "df_mc = df_mc[df_mc[\"Mc\"] > 0]\n",
    "print(\"Total number of events:\",len(df_mc))\n"
   ]
  },
  {
   "cell_type": "code",
   "execution_count": 3,
   "metadata": {},
   "outputs": [
    {
     "name": "stdout",
     "output_type": "stream",
     "text": [
      "Total number of events: 1296\n"
     ]
    }
   ],
   "source": [
    "# File with eta biases\n",
    "\n",
    "files = ['powerlaw_3.5_lams/powerlaw_alpha_3.5_lam_0_1_eta_0_1296.csv']\n",
    "\n",
    "df1 = pd.DataFrame()\n",
    "for fi in files:\n",
    "    df_temp = pd.read_csv(fi)\n",
    "    df1 = df1.append(df_temp)\n",
    "# drop the zero rows that resulted from NoneType Networks\n",
    "df_eta = df1.loc[~(df1==0).all(axis=1)]\n",
    "df_eta = df_eta[df_eta[\"Mc\"] > 0]\n",
    "print(\"Total number of events:\",len(df_eta))"
   ]
  },
  {
   "attachments": {},
   "cell_type": "markdown",
   "metadata": {},
   "source": [
    "$$ p(\\alpha) = e^{-N_s} \\Gamma_{i=1}^{N_t} N_s \\int_{m_{1, min}}^{m_{1, max}} \\rm{d} m_1 \\pi(m_1 | \\alpha ') p(d_i | m_1) $$\n",
    "\n",
    "The products are over all events. "
   ]
  },
  {
   "attachments": {},
   "cell_type": "markdown",
   "metadata": {},
   "source": [
    "Or, in log likelihood space, \n",
    "$$ log(p(\\alpha)) = log(e^{-N_s}) * log(\\Gamma_{i=1}^{N_t} N_s \\int_{m_{1, min}}^{m_{1, max}} \\rm{d} m_1 \\pi(m_1 | \\alpha ') p(d_i | m_1) )$$\n",
    "\n",
    "which simplifies to \n",
    "\n",
    "$$ log(p(\\alpha)) = -N_s \\Sigma_{i=1}^{N_t} log(N_s * \\int_{m_{1, min}}^{m_{1, max}} \\rm{d} m_1 \\pi(m_1 | \\alpha ') p(d_i | m_1)) $$"
   ]
  },
  {
   "attachments": {},
   "cell_type": "markdown",
   "metadata": {},
   "source": [
    "#  Define the functions"
   ]
  },
  {
   "cell_type": "code",
   "execution_count": 4,
   "metadata": {},
   "outputs": [],
   "source": [
    "def p_m1(m1, alpha, m_min, m_max):\n",
    "    '''\n",
    "    BBH merger primary mass PDF.\n",
    "    '''\n",
    "    if alpha != -1:\n",
    "        N1 = 1 / ((m_max**(alpha+1) - m_min**(alpha+1))/(alpha+1))\n",
    "    else:\n",
    "        N1 = 1/(np.log(m_max/m_min))\n",
    "\n",
    "    return np.piecewise(m1, [(m1 < m_min), (m1 >= m_min)*(m1 < m_max), (m1 >= m_max)],\n",
    "                        [0, lambda m1: N1*m1**alpha, 0])\n",
    "\n",
    "\n",
    "def normal_dist(m1, mu, sigma):\n",
    "    A = np.sqrt(2*np.pi) * sigma\n",
    "    return np.exp(-(m1 - mu) ** 2 / (2 * sigma**2)) / A"
   ]
  },
  {
   "cell_type": "code",
   "execution_count": 6,
   "metadata": {},
   "outputs": [
    {
     "data": {
      "image/png": "[encoded data removed]",
      "text/plain": [
       "<Figure size 720x288 with 2 Axes>"
      ]
     },
     "metadata": {
      "needs_background": "light"
     },
     "output_type": "display_data"
    }
   ],
   "source": [
    "# Visualize the defined functions for sanity\n",
    "\n",
    "m1_min=5\n",
    "m1_max=100\n",
    "\n",
    "m1 = np.linspace(m1_min, m1_max, 1000)\n",
    "mu = 34\n",
    "sigma = 1.4\n",
    "alpha=-1.3\n",
    "\n",
    "fig, [ax1, ax2] = plt.subplots(nrows=1, ncols=2, figsize=(10,4))\n",
    "\n",
    "ax1.plot(m1, normal_dist(m1, mu, sigma))\n",
    "ax2.plot(m1, p_m1(m1, alpha, m1_min, m1_max))\n",
    "plt.show()\n"
   ]
  },
  {
   "attachments": {},
   "cell_type": "markdown",
   "metadata": {},
   "source": [
    "# Compute Hyper posterior ($\\lambda = 0$)"
   ]
  },
  {
   "attachments": {},
   "cell_type": "markdown",
   "metadata": {},
   "source": [
    "All the masses here are in the Detector Frame! The original power law sampling was done in SOURCE FRAME."
   ]
  },
  {
   "cell_type": "code",
   "execution_count": 7,
   "metadata": {},
   "outputs": [],
   "source": [
    "m1_mu_events = df_mc[\"m1\"] # Add bias here if necessary\n",
    "\n",
    "mchirp = df_mc[\"Mc\"]\n",
    "eta = df_mc[\"eta\"]\n",
    "sigMc = df_mc[\"Mc_stat_err\"]\n",
    "sigEta = df_eta[\"eta_stat_err\"]\n",
    "\n",
    "aux0=((3.+((3.*((1.+(-4.*eta))**0.5))+(10.*(((1.+(-4.*eta))**-0.5)*eta))))**2)\n",
    "aux1=(aux0*((mchirp**2)*(sigEta**2)))+(25.*((((1.+((1.+(-4.*eta))**0.5))**2))*((eta**2)*(sigMc**2))))\n",
    "m1_sigma_events=0.1*(np.sqrt(((eta**-3.2)*aux1)))\n",
    "\n"
   ]
  },
  {
   "cell_type": "code",
   "execution_count": 8,
   "metadata": {},
   "outputs": [],
   "source": [
    "m1_min = 5.0\n",
    "m1_max = 500.0\n",
    "Ns = np.sum(df_mc[\"snr\"]>8)\n",
    "Nt = len(df_mc[\"Mc\"])\n",
    "\n",
    "m1_int_range = np.linspace(m1_min, m1_max, 10000)\n",
    "\n",
    "n_alpha = 30\n",
    "alpha_range = np.linspace(-2, -1, n_alpha)\n",
    "log_p_alpha_lam_0 = np.zeros(n_alpha)\n",
    "\n",
    "for a in range(n_alpha):\n",
    "    alpha = alpha_range[a]\n",
    "    total_int = 0\n",
    "\n",
    "    for i in range(Nt):\n",
    "        integrand = p_m1(m1_int_range, alpha, m1_min, m1_max) * normal_dist(m1_int_range, m1_mu_events[i], m1_sigma_events[i])\n",
    "        int_term = np.sum(integrand)\n",
    "\n",
    "        total_int = total_int + np.log(Ns) + np.log(int_term)\n",
    "        \n",
    "    log_p_alpha_lam_0[a] = -Ns * total_int"
   ]
  },
  {
   "cell_type": "code",
   "execution_count": 9,
   "metadata": {},
   "outputs": [
    {
     "name": "stdout",
     "output_type": "stream",
     "text": [
      "most likely alpha= -1.3793103448275863\n"
     ]
    },
    {
     "data": {
      "image/png": "[encoded data removed]",
      "text/plain": [
       "<Figure size 432x288 with 1 Axes>"
      ]
     },
     "metadata": {
      "needs_background": "light"
     },
     "output_type": "display_data"
    }
   ],
   "source": [
    "print(\"most likely alpha=\",alpha_range[np.argmin(log_p_alpha_lam_0)])\n",
    "\n",
    "plt.plot(alpha_range, log_p_alpha_lam_0)\n",
    "plt.ylabel(\"log $p(\\\\alpha$)\")\n",
    "plt.xlabel(\"$\\\\alpha$\")\n",
    "plt.title(\"$\\\\alpha$ likelihood, $\\lambda$=0\")\n",
    "plt.show()\n"
   ]
  },
  {
   "attachments": {},
   "cell_type": "markdown",
   "metadata": {},
   "source": [
    "Here are the results if I use source frame masses instead:"
   ]
  },
  {
   "cell_type": "code",
   "execution_count": 10,
   "metadata": {},
   "outputs": [],
   "source": [
    "m1_mu_events = df_mc[\"m1\"] / (1+df_mc[\"z\"]) # Add bias here if necessary\n",
    "\n",
    "mchirp = df_mc[\"Mc\"]/ (1+df_mc[\"z\"])\n",
    "eta = df_mc[\"eta\"]\n",
    "sigMc = df_mc[\"Mc_stat_err\"]\n",
    "sigEta = df_eta[\"eta_stat_err\"]\n",
    "\n",
    "aux0=((3.+((3.*((1.+(-4.*eta))**0.5))+(10.*(((1.+(-4.*eta))**-0.5)*eta))))**2)\n",
    "aux1=(aux0*((mchirp**2)*(sigEta**2)))+(25.*((((1.+((1.+(-4.*eta))**0.5))**2))*((eta**2)*(sigMc**2))))\n",
    "m1_sigma_events=0.1*(np.sqrt(((eta**-3.2)*aux1)))\n",
    "\n",
    "m1_min = 5.0\n",
    "m1_max = 500.0\n",
    "Ns = np.sum(df_mc[\"snr\"]>8)\n",
    "Nt = len(df_mc[\"Mc\"])\n",
    "\n",
    "m1_int_range = np.linspace(m1_min, m1_max, 10000)\n",
    "\n",
    "n_alpha = 30\n",
    "alpha_range = np.linspace(-6, -2, n_alpha)\n",
    "log_p_alpha_lam_0 = np.zeros(n_alpha)\n",
    "\n",
    "for a in range(n_alpha):\n",
    "    alpha = alpha_range[a]\n",
    "    total_int = 0\n",
    "\n",
    "    for i in range(Nt):\n",
    "        integrand = p_m1(m1_int_range, alpha, m1_min, m1_max) * normal_dist(m1_int_range, m1_mu_events[i], m1_sigma_events[i])\n",
    "        int_term = np.sum(integrand)\n",
    "\n",
    "        total_int = total_int + np.log(Ns) + np.log(int_term)\n",
    "        \n",
    "    log_p_alpha_lam_0[a] = -Ns * total_int"
   ]
  },
  {
   "cell_type": "code",
   "execution_count": 11,
   "metadata": {},
   "outputs": [
    {
     "name": "stdout",
     "output_type": "stream",
     "text": [
      "most likely alpha (IN SOURCE FRAME)= -3.793103448275862\n"
     ]
    },
    {
     "data": {
      "image/png": "[encoded data removed]",
      "text/plain": [
       "<Figure size 432x288 with 1 Axes>"
      ]
     },
     "metadata": {
      "needs_background": "light"
     },
     "output_type": "display_data"
    }
   ],
   "source": [
    "print(\"most likely alpha (IN SOURCE FRAME)=\",alpha_range[np.argmin(log_p_alpha_lam_0)])\n",
    "\n",
    "plt.plot(alpha_range, log_p_alpha_lam_0)\n",
    "plt.ylabel(\"log $p(\\\\alpha$)\")\n",
    "plt.xlabel(\"$\\\\alpha$\")\n",
    "plt.title(\"$\\\\alpha$ likelihood, $\\lambda$=0\")\n",
    "plt.show()\n"
   ]
  },
  {
   "cell_type": "markdown",
   "metadata": {},
   "source": [
    "# Compute Hyper posterior ($\\lambda = 1$)"
   ]
  },
  {
   "attachments": {},
   "cell_type": "markdown",
   "metadata": {},
   "source": [
    "I'm getting some weird results for when the bias makes eta exceed 0.25."
   ]
  },
  {
   "cell_type": "code",
   "execution_count": 12,
   "metadata": {},
   "outputs": [],
   "source": [
    "# Add bias here if necessary\n",
    "mchirp = df_mc[\"Mc\"]+df_mc[\"bias_19\"]\n",
    "eta = np.minimum(df_eta[\"eta\"]+df_eta[\"bias_19\"], 0.25)\n",
    "\n",
    "m1_mu_events = conv.mass1_from_mchirp_eta(mchirp, eta)\n",
    "\n",
    "# Use unbiased mc, eta for sigma_m1 calc, otherwise I get a bunch of infs\n",
    "mchirp = df_mc[\"Mc\"]\n",
    "eta = df_mc[\"eta\"]\n",
    "sigMc = df_mc[\"Mc_stat_err\"]\n",
    "sigEta = df_eta[\"eta_stat_err\"]\n",
    "\n",
    "aux0=((3.+((3.*((1.+(-4.*eta))**0.5))+(10.*(((1.+(-4.*eta))**-0.5)*eta))))**2)\n",
    "aux1=(aux0*((mchirp**2)*(sigEta**2)))+(25.*((((1.+((1.+(-4.*eta))**0.5))**2))*((eta**2)*(sigMc**2))))\n",
    "m1_sigma_events=0.1*(np.sqrt(((eta**-3.2)*aux1)))\n",
    "\n"
   ]
  },
  {
   "cell_type": "code",
   "execution_count": 13,
   "metadata": {},
   "outputs": [],
   "source": [
    "m1_min = 5.0\n",
    "m1_max = 500.0\n",
    "Ns = np.sum(df_mc[\"snr\"]>8)\n",
    "Nt = len(df_mc[\"Mc\"])\n",
    "\n",
    "m1_int_range = np.linspace(m1_min, m1_max, 20000)\n",
    "\n",
    "n_alpha = 30\n",
    "alpha_range = np.linspace(-2, -1, n_alpha)\n",
    "log_p_alpha_lam_1 = np.zeros(n_alpha)\n",
    "\n",
    "for a in range(n_alpha):\n",
    "    alpha = alpha_range[a]\n",
    "    total_int = 0\n",
    "\n",
    "    for i in range(Nt):\n",
    "        integrand = p_m1(m1_int_range, alpha, m1_min, m1_max) * normal_dist(m1_int_range, m1_mu_events[i], m1_sigma_events[i])\n",
    "        int_term = np.sum(integrand)\n",
    "\n",
    "        total_int = total_int + np.log(Ns) + np.log(int_term)\n",
    "        \n",
    "    log_p_alpha_lam_1[a] = -Ns * total_int\n",
    "    "
   ]
  },
  {
   "cell_type": "code",
   "execution_count": 14,
   "metadata": {},
   "outputs": [
    {
     "name": "stdout",
     "output_type": "stream",
     "text": [
      "most likely alpha= -1.4482758620689655\n"
     ]
    },
    {
     "data": {
      "image/png": "[encoded data removed]",
      "text/plain": [
       "<Figure size 432x288 with 1 Axes>"
      ]
     },
     "metadata": {
      "needs_background": "light"
     },
     "output_type": "display_data"
    }
   ],
   "source": [
    "print(\"most likely alpha=\",alpha_range[np.argmin(log_p_alpha_lam_1)])\n",
    "\n",
    "plt.plot(alpha_range, log_p_alpha_lam_1)\n",
    "plt.ylabel(\"log $p(\\\\alpha$)\")\n",
    "plt.xlabel(\"$\\\\alpha$\")\n",
    "plt.title(\"$\\\\alpha$ likelihood, $\\lambda$=1\")\n",
    "plt.show()"
   ]
  },
  {
   "cell_type": "code",
   "execution_count": null,
   "metadata": {},
   "outputs": [],
   "source": []
  }
 ],
 "metadata": {
  "kernelspec": {
   "display_name": "Python 3.7.13 ('gwbench')",
   "language": "python",
   "name": "python3"
  },
  "language_info": {
   "codemirror_mode": {
    "name": "ipython",
    "version": 3
   },
   "file_extension": ".py",
   "mimetype": "text/x-python",
   "name": "python",
   "nbconvert_exporter": "python",
   "pygments_lexer": "ipython3",
   "version": "3.7.13"
  },
  "orig_nbformat": 4,
  "vscode": {
   "interpreter": {
    "hash": "cbe1fb295ede18687e704982bc89cf918a072ae67c1f3b9a387e3fbbe13ee567"
   }
  }
 },
 "nbformat": 4,
 "nbformat_minor": 2
}
