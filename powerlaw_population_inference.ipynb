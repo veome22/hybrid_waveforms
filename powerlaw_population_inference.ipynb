{
 "cells": [
  {
   "cell_type": "code",
   "execution_count": 1,
   "metadata": {},
   "outputs": [],
   "source": [
    "import numpy as np\n",
    "import matplotlib.pyplot as plt\n",
    "import pandas as pd\n",
    "from scipy import interpolate, integrate, optimize, stats\n",
    "from scipy.stats import multivariate_normal\n",
    "\n",
    "from astropy.cosmology import FlatLambdaCDM\n",
    "import astropy.units as u\n",
    "cosmo = FlatLambdaCDM(H0=70 * u.km / u.s / u.Mpc, Tcmb0=2.725 * u.K, Om0=0.3)\n",
    "\n",
    "import jax\n",
    "\n",
    "import time\n",
    "import pycbc.conversions as conv\n",
    "import corner\n",
    "\n",
    "from gwbench import injections\n",
    "from gwbench import network\n",
    "from gwbench import snr"
   ]
  },
  {
   "cell_type": "code",
   "execution_count": 2,
   "metadata": {},
   "outputs": [],
   "source": [
    "save_likelihoods = False\n",
    "\n",
    "# plotdir = 'power_law_hyper_param_plots/'\n",
    "# plotdir = 'power_law_m2_lim_hyper_param_plots/'\n",
    "\n",
    "# likelihood_dir = 'power_law_-3.5_5_100_likelihoods/'\n",
    "likelihood_dir = 'power_law_-3.5_5_100_m2_lim_likelihoods/'\n",
    "\n",
    "alpha_inj = -3.5\n",
    "\n",
    "# https://en.wikipedia.org/wiki/Inverse_distribution says that for a uniformly distributed r.v. X where p(X) = 1/(b-a)\n",
    "# Y = 1/X is distributed as g(Y) = Y^-2 / (b-a)\n",
    "beta_inj = 0.0\n",
    "\n",
    "\n",
    "mmin_inj = 5.0\n",
    "# mmax_inj = 100.\n",
    "mmax_inj = 60.\n",
    "\n",
    "bias_index=1\n",
    "\n",
    "import matplotlib\n",
    "font = {'family' : 'serif',\n",
    "        'size'   : 14}\n",
    "\n",
    "matplotlib.rc('font', **font)"
   ]
  },
  {
   "attachments": {},
   "cell_type": "markdown",
   "metadata": {},
   "source": [
    "# Read simulation"
   ]
  },
  {
   "cell_type": "code",
   "execution_count": 3,
   "metadata": {},
   "outputs": [
    {
     "name": "stdout",
     "output_type": "stream",
     "text": [
      "Total number of events: 9105\n"
     ]
    }
   ],
   "source": [
    "# File with Mc biases\n",
    "\n",
    "# files = [f'powerlaw_3.5_lams_analytic/powerlaw_alpha_3.5_lam_0_1_Mc.csv']\n",
    "# files = ['powerlaw_3.5_lams_analytic/powerlaw_alpha_3.5_lam_0_1_Mc.csv', 'powerlaw_3.5_lams_analytic/powerlaw_alpha_3.5_lam_0_1_Mc_2400_4800.csv', \\\n",
    "    # 'powerlaw_3.5_lams_analytic/powerlaw_alpha_3.5_lam_0_1_Mc_4800_7200.csv', 'powerlaw_3.5_lams_analytic/powerlaw_alpha_3.5_lam_0_1_Mc_7200_10080.csv']\n",
    "\n",
    "\n",
    "# files = [f'powerlaw_3.5_lams_fine/powerlaw_alpha_3.5_lam_0_1_Mc.csv', 'powerlaw_3.5_lams_fine/powerlaw_alpha_3.5_lam_0_1_Mc_2400_10080.csv']\n",
    "\n",
    "files = [f'powerlaw_3.5_lams_m2_lim/powerlaw_alpha_3.5_lam_0_1_Mc_0_9600.csv']\n",
    "\n",
    "\n",
    "df1 = pd.DataFrame()\n",
    "for fi in files:\n",
    "    df_temp = pd.read_csv(fi)\n",
    "    df1 = df1.append(df_temp)\n",
    "# drop the zero rows that resulted from NoneType Networks\n",
    "df_mc_raw = df1.loc[~(df1==0).all(axis=1)]\n",
    "df_mc_raw = df_mc_raw[df_mc_raw[\"Mc\"] > 0]\n",
    "df_mc_raw = df_mc_raw[(df_mc_raw[\"m1\"]/(1+df_mc_raw[\"z\"])) <= 60.]\n",
    "# df_mc_raw = df_mc_raw[df_mc_raw[\"z\"] < 2]\n",
    "print(\"Total number of events:\",len(df_mc_raw))\n"
   ]
  },
  {
   "cell_type": "code",
   "execution_count": 4,
   "metadata": {},
   "outputs": [
    {
     "name": "stdout",
     "output_type": "stream",
     "text": [
      "Total number of events: 9105\n"
     ]
    }
   ],
   "source": [
    "# File with eta biases\n",
    "\n",
    "# files = [f'powerlaw_3.5_lams_analytic/powerlaw_alpha_3.5_lam_0_1_eta.csv']\n",
    "# files = ['powerlaw_3.5_lams_analytic/powerlaw_alpha_3.5_lam_0_1_eta.csv', 'powerlaw_3.5_lams_analytic/powerlaw_alpha_3.5_lam_0_1_eta_2400_4800.csv', \\\n",
    "#     'powerlaw_3.5_lams_analytic/powerlaw_alpha_3.5_lam_0_1_eta_4800_7200.csv', 'powerlaw_3.5_lams_analytic/powerlaw_alpha_3.5_lam_0_1_eta_7200_10080.csv']\n",
    "\n",
    "# files = [f'powerlaw_3.5_lams_fine/powerlaw_alpha_3.5_lam_0_1_eta.csv', 'powerlaw_3.5_lams_fine/powerlaw_alpha_3.5_lam_0_1_eta_2400_10080.csv']\n",
    "\n",
    "files = [f'powerlaw_3.5_lams_m2_lim/powerlaw_alpha_3.5_lam_0_1_eta_0_9600.csv']\n",
    "\n",
    "\n",
    "\n",
    "df1 = pd.DataFrame()\n",
    "for fi in files:\n",
    "    df_temp = pd.read_csv(fi)\n",
    "    df1 = df1.append(df_temp)\n",
    "# drop the zero rows that resulted from NoneType Networks\n",
    "df_eta_raw = df1.loc[~(df1==0).all(axis=1)]\n",
    "df_eta_raw = df_eta_raw[df_eta_raw[\"Mc\"] > 0]\n",
    "df_eta_raw = df_eta_raw[(df_eta_raw[\"m1\"]/(1+df_eta_raw[\"z\"])) <= 60.]\n",
    "# df_eta_raw = df_eta_raw[df_eta_raw[\"z\"] < 2]\n",
    "print(\"Total number of events:\",len(df_eta_raw))"
   ]
  },
  {
   "attachments": {},
   "cell_type": "markdown",
   "metadata": {},
   "source": [
    "## Sample from the events if needed"
   ]
  },
  {
   "cell_type": "code",
   "execution_count": 5,
   "metadata": {},
   "outputs": [
    {
     "name": "stdout",
     "output_type": "stream",
     "text": [
      "9105\n",
      "20.590229726828472\n"
     ]
    }
   ],
   "source": [
    "# # Select random subset of the data\n",
    "# n_samples = 1200\n",
    "# sample_indices = np.random.randint(0, len(df_mc_raw), n_samples)\n",
    "# df_mc = df_mc_raw.iloc[sample_indices]\n",
    "# df_eta = df_eta_raw.iloc[sample_indices]\n",
    "\n",
    "# select all data\n",
    "df_mc = df_mc_raw\n",
    "df_eta = df_eta_raw\n",
    "\n",
    "print(len(df_mc))\n",
    "print(np.median(df_mc[\"Mc\"]))"
   ]
  },
  {
   "cell_type": "code",
   "execution_count": 6,
   "metadata": {},
   "outputs": [],
   "source": [
    "df_mc.reset_index(inplace = True,drop = True)\n",
    "df_eta.reset_index(inplace = True,drop = True)"
   ]
  },
  {
   "attachments": {},
   "cell_type": "markdown",
   "metadata": {},
   "source": [
    "$$ p(\\alpha) = e^{-N_s} \\Gamma_{i=1}^{N_t} N_s \\int_{m_{1, min}}^{m_{1, max}} \\rm{d} m_1 \\pi(m_1 | \\alpha ') p(d_i | m_1) $$\n",
    "\n",
    "The products are over all events. "
   ]
  },
  {
   "cell_type": "code",
   "execution_count": 7,
   "metadata": {},
   "outputs": [
    {
     "data": {
      "image/png": "[encoded data removed]",
      "text/plain": [
       "<Figure size 432x288 with 1 Axes>"
      ]
     },
     "metadata": {
      "needs_background": "light"
     },
     "output_type": "display_data"
    }
   ],
   "source": [
    "bins = np.linspace(3, 120, 50)\n",
    "\n",
    "m1_inj = df_mc[\"m1\"]/(1+df_mc[\"z\"])\n",
    "# y, X = np.histogram(m1_inj, bins=bins, density=True)\n",
    "# X = X[:-1]\n",
    "# plt.plot(X, y, 'bo', label='Injected')\n",
    "\n",
    "plt.hist(m1_inj, bins, histtype='step', lw=3)\n",
    "plt.plot(bins, 6000000*bins**(alpha_inj), linestyle='--', label='$p(m_1) \\propto m_1^{-3.5}$')\n",
    "plt.grid()\n",
    "plt.semilogy()\n",
    "\n",
    "plt.xlabel(\"$m_1$\")\n",
    "plt.ylabel(\"p($m_1$)\")\n",
    "plt.title(\"Mass Dist\")\n",
    "plt.legend()\n",
    "\n",
    "# plt.xlim(3, 7)\n",
    "\n",
    "# plt.savefig(\"powerlaw_3.5_plots/powerlaw_m1_dist.pdf\")\n",
    "plt.show()"
   ]
  },
  {
   "cell_type": "code",
   "execution_count": 8,
   "metadata": {},
   "outputs": [
    {
     "data": {
      "image/png": "[encoded data removed]",
      "text/plain": [
       "<Figure size 432x288 with 1 Axes>"
      ]
     },
     "metadata": {
      "needs_background": "light"
     },
     "output_type": "display_data"
    }
   ],
   "source": [
    "# bins=np.geomspace(0.00001,4.0, 30)\n",
    "\n",
    "# plt.hist(df_mc_raw[\"bias_1\"], bins=bins, density=True)\n",
    "# plt.hist(df_mc_raw[\"bias_1\"][df_mc_raw[\"Mc\"]>20], bins=bins, density=True, histtype=\"step\")\n",
    "# plt.semilogx()\n",
    "# plt.show()\n",
    "# plt.hist(df_eta_raw[\"bias_1\"], bins=bins, density=True)\n",
    "# plt.hist(df_eta_raw[\"bias_1\"][df_eta_raw[\"snr\"]>8], bins=bins, density=True, histtype=\"step\")\n",
    "# plt.semilogx()\n",
    "# plt.show()\n",
    "\n",
    "# plt.hist(df_eta_raw[\"snr\"], bins=np.geomspace(1, 500, 30))\n",
    "# plt.semilogx()\n",
    "# plt.show()\n",
    "\n",
    "plt.hist(df_mc_raw[\"q\"], bins=20, density=True)\n",
    "# plt.semilogx()\n",
    "plt.show()"
   ]
  },
  {
   "attachments": {},
   "cell_type": "markdown",
   "metadata": {},
   "source": [
    "Or, in log likelihood space, \n",
    "$$ log(p(\\alpha)) = log(e^{-N_s}) + log(\\Gamma_{i=1}^{N_t} N_s \\int_{m_{1, min}}^{m_{1, max}} \\rm{d} m_1 \\pi(m_1 | \\alpha ') p(d_i | m_1) )$$\n",
    "\n",
    "which simplifies to \n",
    "\n",
    "$$ log(p(\\alpha)) = -N_s + \\Sigma_{i=1}^{N_t} log(N_s * \\int_{m_{1, min}}^{m_{1, max}} \\rm{d} m_1 \\pi(m_1 | \\alpha ') p(d_i | m_1)) $$"
   ]
  },
  {
   "attachments": {},
   "cell_type": "markdown",
   "metadata": {},
   "source": [
    "#  Define the functions"
   ]
  },
  {
   "cell_type": "code",
   "execution_count": 9,
   "metadata": {},
   "outputs": [],
   "source": [
    "def sample_m1_events(df_mc, df_eta, biased=False, bias_index=19, injected=False):\n",
    "    z = df_mc[\"z\"]\n",
    "    mchirp = df_mc[\"Mc\"]/ (1+z)\n",
    "    eta = df_mc[\"eta\"]\n",
    "\n",
    "    sigMc_raw = df_mc[\"Mc_stat_err\"]\n",
    "    sigEta = df_eta[\"eta_stat_err\"]\n",
    "    sigZ = df_mc[\"z_stat_err\"]\n",
    "\n",
    "    # sigMc = np.sqrt((((mchirp**2)*((sigZ**2)*((1.+z)**-4.)))+((sigMc_raw**2)*((1.+z)**-2.))))\n",
    "\n",
    "\n",
    "    m1_mu_detections = df_mc[\"m1\"] / (1+z)\n",
    "\n",
    "    aux0=0.25*((((1.+((1.+(-4.*eta))**0.5))**2))*((eta**2)*((mchirp**2)*(sigZ**2))))\n",
    "    aux1=(((0.3*((1.+(-4.*eta))**0.5))+((0.3*((1.+(-4.*eta))**1.))+(1.*eta)))**2)\n",
    "    aux2=(((1.+((1.+(-4.*eta))**0.5))**2))*((eta**2)*((sigMc_raw**2)*(((1.+z)**2))))\n",
    "    aux3=(((1.+(-4.*eta))**-1.)*(aux1*((mchirp**2)*((sigEta**2)*(((1.+z)**2))))))+(0.25*aux2)\n",
    "    m1_sigma_events=np.sqrt(((eta**-3.2)*(((1.+z)**-4.)*(aux0+aux3))))\n",
    "    m1_sigma_events = m1_sigma_events.values\n",
    "\n",
    "    if biased:\n",
    "        bias_mc = df_mc[f\"bias_{bias_index}\"]\n",
    "        bias_eta = df_eta[f\"bias_{bias_index}\"]\n",
    "    \n",
    "        mchirp_biased = (df_mc[\"Mc\"] + bias_mc) / (1+z)\n",
    "        eta_biased = np.minimum(df_mc[\"eta\"]+bias_eta, 0.25) # make sure that eta doesn't exceed what is physically possible\n",
    "\n",
    "        m1_mu_detections = conv.mass1_from_mchirp_eta(mchirp_biased, eta_biased)\n",
    "        \n",
    "    # sample mu from the detection gaussians to avoid Biases\n",
    "    # m1_mu_sampled = stats.truncnorm.rvs(0, 1000, m1_mu_detections, m1_sigma_events)\n",
    "    m1_mu_sampled = np.random.normal(m1_mu_detections, m1_sigma_events)\n",
    "\n",
    "    if injected:\n",
    "        m1_mu_sampled = m1_mu_detections.values\n",
    "\n",
    "    return m1_mu_sampled, m1_sigma_events "
   ]
  },
  {
   "cell_type": "code",
   "execution_count": 10,
   "metadata": {},
   "outputs": [],
   "source": [
    "def sample_m2_events(df_mc, df_eta, biased=False, bias_index=19, injected=False):\n",
    "    z = df_mc[\"z\"]\n",
    "    mchirp = df_mc[\"Mc\"]/ (1+z)\n",
    "    eta = df_mc[\"eta\"]\n",
    "\n",
    "    sigMc_raw = df_mc[\"Mc_stat_err\"]\n",
    "    sigEta = df_eta[\"eta_stat_err\"]\n",
    "    sigZ = df_mc[\"z_stat_err\"]\n",
    "\n",
    "    # sigMc = np.sqrt((((mchirp**2)*((sigZ**2)*((1.+z)**-4.)))+((sigMc_raw**2)*((1.+z)**-2.))))\n",
    "\n",
    "\n",
    "    m2_mu_detections = df_mc[\"m2\"] / (1+z)\n",
    "\n",
    "    aux0=0.25*((((-1.+((1.+(-4.*eta))**0.5))**2))*((eta**2)*((mchirp**2)*(sigZ**2))))\n",
    "    aux1=(((0.3*((1.+(-4.*eta))**0.5))+((-0.3*((1.+(-4.*eta))**1.))+(-1.*eta)))**2)\n",
    "    aux2=(((0.5+(-0.5*((1.+(-4.*eta))**0.5)))**2))*((eta**2)*((sigMc_raw**2)*(((1.+z)**2))))\n",
    "    aux3=(((1.+(-4.*eta))**-1.)*(aux1*((mchirp**2)*((sigEta**2)*(((1.+z)**2))))))+aux2\n",
    "    m2_sigma_events=np.sqrt(((eta**-3.2)*(((1.+z)**-4.)*(aux0+aux3))))\n",
    "    m2_sigma_events = m2_sigma_events.values\n",
    "\n",
    "    \n",
    "\n",
    "    if biased:\n",
    "        bias_mc = df_mc[f\"bias_{bias_index}\"]\n",
    "        bias_eta = df_eta[f\"bias_{bias_index}\"]\n",
    "    \n",
    "        mchirp_biased = (df_mc[\"Mc\"] + bias_mc) / (1+z)\n",
    "        eta_biased = np.minimum(df_mc[\"eta\"]+bias_eta, 0.25) # make sure that eta doesn't exceed what is physically possible\n",
    "\n",
    "        m2_mu_detections = conv.mass2_from_mchirp_eta(mchirp_biased, eta_biased)\n",
    "        \n",
    "    # sample mu from the detection gaussians to avoid Biases\n",
    "    # m2_mu_sampled = stats.truncnorm.rvs(0, 1000, m2_mu_detections, m2_sigma_events)\n",
    "    m2_mu_sampled = np.random.normal(m2_mu_detections, m2_sigma_events)\n",
    "\n",
    "    if injected:\n",
    "        m2_mu_sampled = m2_mu_detections.values\n",
    "\n",
    "    return m2_mu_sampled, m2_sigma_events #, m2_mu_detections"
   ]
  },
  {
   "cell_type": "code",
   "execution_count": 11,
   "metadata": {},
   "outputs": [],
   "source": [
    "def sample_m1_m2_events(df_mc, df_eta, biased=False, bias_index=19, injected=False):\n",
    "    z = df_mc[\"z\"]\n",
    "    mchirp = df_mc[\"Mc\"]/ (1+z)\n",
    "    eta = df_mc[\"eta\"]\n",
    "\n",
    "    sigMc = df_mc[\"Mc_stat_err\"]\n",
    "    sigEta = df_eta[\"eta_stat_err\"]\n",
    "    sigZ = df_mc[\"z_stat_err\"]\n",
    "\n",
    "    # sigMc = np.sqrt((((mchirp**2)*((sigZ**2)*((1.+z)**-4.)))+((sigMc_raw**2)*((1.+z)**-2.))))\n",
    "\n",
    "\n",
    "    m1_mu_detections = df_mc[\"m1\"] / (1+z)\n",
    "    m2_mu_detections = df_mc[\"m2\"] / (1+z)\n",
    "\n",
    "    # compute variance of m1\n",
    "    aux0=0.25*((((1.+((1.+(-4.*eta))**0.5))**2))*((eta**2)*((mchirp**2)*(sigZ**2))))\n",
    "    aux1=(((0.3*((1.+(-4.*eta))**0.5))+((0.3*((1.+(-4.*eta))**1.))+(1.*eta)))**2)\n",
    "    aux2=(((1.+((1.+(-4.*eta))**0.5))**2))*((eta**2)*((sigMc**2)*(((1.+z)**2))))\n",
    "    aux3=(((1.+(-4.*eta))**-1.)*(aux1*((mchirp**2)*((sigEta**2)*(((1.+z)**2))))))+(0.25*aux2)\n",
    "    m1_variance=(eta**-3.2)*(((1.+z)**-4.)*(aux0+aux3))\n",
    "    m1_variance = m1_variance.values\n",
    "\n",
    "    # compute variance of m2\n",
    "    aux0=0.25*((((-1.+((1.+(-4.*eta))**0.5))**2))*((eta**2)*((mchirp**2)*(sigZ**2))))\n",
    "    aux1=(((0.3*((1.+(-4.*eta))**0.5))+((-0.3*((1.+(-4.*eta))**1.))+(-1.*eta)))**2)\n",
    "    aux2=(((0.5+(-0.5*((1.+(-4.*eta))**0.5)))**2))*((eta**2)*((sigMc**2)*(((1.+z)**2))))\n",
    "    aux3=(((1.+(-4.*eta))**-1.)*(aux1*((mchirp**2)*((sigEta**2)*(((1.+z)**2))))))+aux2\n",
    "    m2_variance=(eta**-3.2)*(((1.+z)**-4.)*(aux0+aux3))\n",
    "    m2_variance = m2_variance.values\n",
    "\n",
    "    # compute covariance of m1 and m2\n",
    "    aux0=(0.25+(-0.25*((1.+(-4.*eta))**1.)))*((eta**2)*((sigMc**2)*(((1.+(1.*z))**2))))\n",
    "    aux1=(-0.09*((1.+(-4.*eta))**2.))+((((1.+(-4.*eta))**1.)*(0.09+(-0.6*eta)))+(-1.*(eta**2)))\n",
    "    aux2=((0.25+(-0.25*((1.+(-4.*eta))**1.)))*((eta**2)*(sigZ**2)))+(((1.+(-4.*eta))**-1.)*(aux1*((sigEta**2)*(((1.+(1.*z))**2)))))\n",
    "    m1_m2_covariance=(eta**-3.2)*(((1.+z)**-4.)*(aux0+((mchirp**2)*aux2)))\n",
    "    m1_m2_covariance = m1_m2_covariance.values\n",
    "\n",
    "    if biased:\n",
    "        bias_mc = df_mc[f\"bias_{bias_index}\"]\n",
    "        bias_eta = df_eta[f\"bias_{bias_index}\"]\n",
    "    \n",
    "        mchirp_biased = (df_mc[\"Mc\"] + bias_mc) / (1+z)\n",
    "        eta_biased = np.minimum(df_mc[\"eta\"]+bias_eta, 0.25) # make sure that eta doesn't exceed what is physically possible\n",
    "        # eta_biased = df_mc[\"eta\"]+bias_eta\n",
    "\n",
    "        m1_mu_detections = conv.mass1_from_mchirp_eta(mchirp_biased, eta_biased)\n",
    "        m2_mu_detections = conv.mass2_from_mchirp_eta(mchirp_biased, eta_biased)\n",
    "        \n",
    "    # sample mu from the detection gaussians to avoid Biases\n",
    "    m1_mu_sampled = np.random.normal(m1_mu_detections, np.sqrt(m1_variance))\n",
    "    m2_mu_sampled = np.random.normal(m2_mu_detections, np.sqrt(m2_variance))\n",
    "\n",
    "    if injected:\n",
    "        m1_mu_sampled = m1_mu_detections.values\n",
    "        m2_mu_sampled = m2_mu_detections.values\n",
    "\n",
    "    return m1_mu_sampled, m2_mu_sampled,  m1_variance, m2_variance, m1_m2_covariance"
   ]
  },
  {
   "cell_type": "code",
   "execution_count": 12,
   "metadata": {},
   "outputs": [],
   "source": [
    "def log_integral(prior, posteriors, m1_int_range):\n",
    "    # make sure the prior is normalized \n",
    "    # (becomes a problem with geomspaced bins where the first few numbers are 0s)\n",
    "    prior = prior / integrate.trapezoid(prior, m1_int_range)\n",
    "    \n",
    "    integrands = prior*posteriors\n",
    "    integrals = integrate.trapezoid(integrands, m1_int_range, axis=1)\n",
    "    \n",
    "    integrals = integrals[integrals!=0]\n",
    "    \n",
    "    return np.sum(np.log(integrals))"
   ]
  },
  {
   "cell_type": "code",
   "execution_count": 13,
   "metadata": {},
   "outputs": [],
   "source": [
    "def power(m1, alpha, m_min, m_max):\n",
    "    '''\n",
    "    BBH merger primary mass PDF.\n",
    "    '''\n",
    "    if alpha != -1:\n",
    "        N1 = 1 / ((m_max**(alpha+1) - m_min**(alpha+1))/(alpha+1))\n",
    "    else:\n",
    "        N1 = 1/(np.log(m_max/m_min))\n",
    "\n",
    "    return np.piecewise(m1, [(m1 < m_min), (m1 >= m_min)*(m1 < m_max), (m1 >= m_max)],\n",
    "                        [0, lambda m1: N1*m1**alpha, 0])\n",
    "\n",
    "\n",
    "def normal_dist(m1, mu, sigma, amp=1.0):\n",
    "    A = np.sqrt(2*np.pi) * sigma\n",
    "    return amp * np.exp(-(m1 - mu) ** 2 / (2 * sigma**2)) / A\n",
    "    # return stats.norm.pdf(m1, loc=mu, scale=sigma)\n",
    "\n",
    "def trunc_normal_dist(m1, mu, sigma, m_min=None, m_max=None):\n",
    "    if m_min is None:\n",
    "        m_min = np.min(m1)\n",
    "    if m_max is None:\n",
    "        m_max = np.max(m1)\n",
    "        \n",
    "    a, b = (m_min - mu) / sigma, (m_max - mu) / sigma\n",
    "    return stats.truncnorm.pdf(m1, a, b, loc = mu, scale = sigma)\n",
    "\n",
    "def sigmoid(x, a):\n",
    "    return 1/(1 + np.exp(a-x))"
   ]
  },
  {
   "cell_type": "code",
   "execution_count": 14,
   "metadata": {},
   "outputs": [],
   "source": [
    "def bivariate_normal_dist(m1, m2, mu1, mu2, cov):\n",
    "    sig1 = np.sqrt(cov[0,0])\n",
    "    sig2 = np.sqrt(cov[1,1])\n",
    "    sig12 = cov[0,1]\n",
    "\n",
    "    rho = sig12 / (sig1 * sig2)\n",
    "\n",
    "    Z = ((m1-mu1)**2 / (sig1)**2) + ((m2-mu2)**2 / (sig2)**2) - ((2*rho*(m1-mu1)*(m2-mu2)) / (sig1*sig2))\n",
    "\n",
    "    A = 2*np.pi * sig1 * sig2 * np.sqrt(1-(rho**2))\n",
    "\n",
    "    return np.exp(-(Z / (2 * (1 - rho**2)))) / A"
   ]
  },
  {
   "cell_type": "code",
   "execution_count": 15,
   "metadata": {},
   "outputs": [
    {
     "data": {
      "text/plain": [
       "0.14964194127072053"
      ]
     },
     "execution_count": 15,
     "metadata": {},
     "output_type": "execute_result"
    }
   ],
   "source": [
    "m1 = 5.0\n",
    "m2 = 3.0\n",
    "mu1 = 4.5\n",
    "mu2 = 3.0\n",
    "cov = np.array([[1,-0.4], [-0.4,1]])\n",
    "\n",
    "\n",
    "sig1 = np.sqrt(cov[0,0])\n",
    "sig2 = np.sqrt(cov[1,1])\n",
    "sig12 = cov[0,1]\n",
    "\n",
    "rho = sig12 / (sig1 * sig2)\n",
    "\n",
    "Z = ((m1-mu1)**2 / (sig1)**2) + ((m2-mu2)**2 / (sig2)**2) - ((2*rho*(m1-mu1)*(m2-mu2)) / (sig1*sig2))\n",
    "\n",
    "A = 2*np.pi * sig1 * sig2 * np.sqrt(1-(rho**2))\n",
    "\n",
    "np.exp(-(Z / (2 * (1 - rho**2)))) / A"
   ]
  },
  {
   "cell_type": "code",
   "execution_count": 16,
   "metadata": {},
   "outputs": [
    {
     "name": "stdout",
     "output_type": "stream",
     "text": [
      "0.9999999083729039\n",
      "0.9801088516515597\n"
     ]
    }
   ],
   "source": [
    "m1_min_int=5.0\n",
    "m_min_prior = 4.96\n",
    "m1_max_int=100\n",
    "alpha=-3.5\n",
    "\n",
    "\n",
    "m1 = np.geomspace(m1_min_int, m1_max_int, 10000)\n",
    "print(integrate.trapezoid(power(m1, alpha, m1_min_int, m1_max_int), m1))\n",
    "\n",
    "p_interp = interpolate.InterpolatedUnivariateSpline(m1, power(m1, alpha, m_min_prior, m1_max_int))\n",
    "\n",
    "print(integrate.trapezoid(p_interp(m1), m1))\n",
    "# print(integrate.trapezoid(p_m1(m1, alpha, m_min_prior, m1_max_int), m1))"
   ]
  },
  {
   "cell_type": "code",
   "execution_count": 17,
   "metadata": {},
   "outputs": [
    {
     "name": "stdout",
     "output_type": "stream",
     "text": [
      "1.0\n"
     ]
    }
   ],
   "source": [
    "m1_min = 5.0\n",
    "m1_max = 100\n",
    "m1 = np.linspace(m1_min, m1_max, 300000)\n",
    "mu = 34\n",
    "sigma = 1.4\n",
    "\n",
    "print(integrate.trapezoid(normal_dist(m1, mu, sigma), m1))"
   ]
  },
  {
   "cell_type": "code",
   "execution_count": 18,
   "metadata": {},
   "outputs": [
    {
     "name": "stdout",
     "output_type": "stream",
     "text": [
      "1.0000025188661694\n"
     ]
    }
   ],
   "source": [
    "m1 = np.linspace(m1_min, m1_max, 300000)\n",
    "mu = 134\n",
    "sigma = 1.4\n",
    "print(integrate.trapezoid(trunc_normal_dist(m1, mu, sigma), m1))"
   ]
  },
  {
   "cell_type": "code",
   "execution_count": 19,
   "metadata": {},
   "outputs": [
    {
     "data": {
      "image/png": "[encoded data removed]",
      "text/plain": [
       "<Figure size 864x288 with 3 Axes>"
      ]
     },
     "metadata": {
      "needs_background": "light"
     },
     "output_type": "display_data"
    }
   ],
   "source": [
    "# Visualize the defined functions for sanity\n",
    "\n",
    "m1_min=15\n",
    "m1_max=100\n",
    "\n",
    "m1 = np.linspace(m1_min, m1_max, 1000)\n",
    "mu = 10.2\n",
    "sigma = 2.4\n",
    "alpha=-3.5\n",
    "\n",
    "fig, [ax1, ax2, ax3] = plt.subplots(nrows=1, ncols=3, figsize=(12,4))\n",
    "\n",
    "ax1.plot(m1, normal_dist(m1, mu, sigma))\n",
    "ax2.plot(m1, power(m1, alpha, m1_min, m1_max))\n",
    "# ax2.set_xlim(0, 20)\n",
    "ax3.plot(m1, (normal_dist(m1, mu, sigma)*power(m1, alpha, m1_min, m1_max)))\n",
    "\n",
    "plt.ylim(0, 0.02)\n",
    "\n",
    "plt.tight_layout()\n",
    "plt.show()\n"
   ]
  },
  {
   "attachments": {},
   "cell_type": "markdown",
   "metadata": {},
   "source": [
    "### Test m1 m2 bivariate Posterior"
   ]
  },
  {
   "cell_type": "code",
   "execution_count": 68,
   "metadata": {},
   "outputs": [],
   "source": [
    "m1_mu_detections, m2_mu_detections,  m1_variance, m2_variance, m1_m2_covariance = sample_m1_m2_events(df_mc[:30], df_eta[:30], injected=True)\n",
    "covariances = np.zeros((len(m1_mu_detections), 2,2))\n",
    "\n",
    "for i in range(len(m1_mu_detections)):\n",
    "    covariances[i] =  [[m1_variance[i], m1_m2_covariance[i]], [m1_m2_covariance[i], m2_variance[i]]]"
   ]
  },
  {
   "cell_type": "code",
   "execution_count": 75,
   "metadata": {},
   "outputs": [
    {
     "name": "stdout",
     "output_type": "stream",
     "text": [
      "7.165209934880803\n"
     ]
    },
    {
     "data": {
      "image/png": "[encoded data removed]",
      "text/plain": [
       "<Figure size 432x288 with 1 Axes>"
      ]
     },
     "metadata": {
      "needs_background": "light"
     },
     "output_type": "display_data"
    }
   ],
   "source": [
    "m_min=4.9\n",
    "m_max=60\n",
    "\n",
    "k = 7\n",
    "mu1 = m1_mu_detections[k]\n",
    "mu2 = m2_mu_detections[k]\n",
    "cov = covariances[k]\n",
    "cov[0,1] = 0\n",
    "cov[1,0] = 0\n",
    "\n",
    "m2 = np.linspace(m_min, 15, 400)\n",
    "\n",
    "plt.plot(m2, 2.4*bivariate_normal_dist(mu1, m2, mu1, mu2, cov))\n",
    "plt.plot(m2, normal_dist(m2, mu2, np.sqrt(m2_variance[k])))\n",
    "\n",
    "print(mu1)\n",
    "\n",
    "\n",
    "# for m1 in np.linspace(mu1-2.0, mu1+2.0, 3):\n",
    "#     priors_m2 = power(m2, beta_inj, mmin_inj, m1)\n",
    "#     plt.plot(m2, priors_m2 * bivariate_normal_dist(m1, m2, mu1, mu2, cov))\n",
    "#     print(f\"Integral for m1 = {m1}: {integrate.trapezoid(priors_m2 * bivariate_normal_dist(m1, m2, mu1, mu2, cov)):.3f}\")\n",
    "\n",
    "#     plt.axvline(m1, color='k', lw=1, linestyle='--')\n",
    "# plt.xlim(4, 10)\n",
    "\n",
    "# print(integrate.trapezoid(priors_m2 * bivariate_normal_dist(mu1, m2, mu1, mu2, cov), m2))"
   ]
  },
  {
   "cell_type": "code",
   "execution_count": 104,
   "metadata": {},
   "outputs": [
    {
     "name": "stdout",
     "output_type": "stream",
     "text": [
      "46.53647212253709 34.87876651560061\n"
     ]
    },
    {
     "data": {
      "text/plain": [
       "(30.0, 40.0)"
      ]
     },
     "execution_count": 104,
     "metadata": {},
     "output_type": "execute_result"
    },
    {
     "data": {
      "image/png": "[encoded data removed]",
      "text/plain": [
       "<Figure size 432x288 with 1 Axes>"
      ]
     },
     "metadata": {
      "needs_background": "light"
     },
     "output_type": "display_data"
    }
   ],
   "source": [
    "m1_mu_detections, m2_mu_detections,  m1_variance, m2_variance, m1_m2_covariance = sample_m1_m2_events(df_mc, df_eta)\n",
    "covariances = np.zeros((len(m1_mu_detections), 2,2))\n",
    "\n",
    "for i in range(len(m1_mu_detections)):\n",
    "    covariances[i] =  [[m1_variance[i], m1_m2_covariance[i]], [m1_m2_covariance[i], m2_variance[i]]]\n",
    "\n",
    "\n",
    "m1_mean = m1_mu_detections\n",
    "m2_mean = m2_mu_detections\n",
    "\n",
    "\n",
    "m1_range = np.linspace(1, 100, 500)\n",
    "m2_range = np.linspace(1, 100, 500)\n",
    "x,y = np.meshgrid(m2_range, m1_range)\n",
    "pos = np.dstack((x, y))\n",
    "\n",
    "posteriors = np.zeros((len(m1_mu_detections), len(m1_range), len(m2_range)))\n",
    "\n",
    "for i in range(50):\n",
    "    posteriors[i] = (multivariate_normal.pdf(pos, mean=[m1_mean[i], m2_mean[i]], cov=covariances[i]))\n",
    "\n",
    "\n",
    "index = 10\n",
    "plt.contourf(x,y, posteriors[index])\n",
    "plt.axvline(x=m1_mean[index])\n",
    "plt.axhline(y=m2_mean[index])\n",
    "print(m1_mean[index], m2_mean[index])\n",
    "\n",
    "plt.xlim(45, 48)\n",
    "plt.ylim(30, 40)"
   ]
  },
  {
   "cell_type": "code",
   "execution_count": 105,
   "metadata": {},
   "outputs": [
    {
     "data": {
      "text/plain": [
       "(4.5, 10.0)"
      ]
     },
     "execution_count": 105,
     "metadata": {},
     "output_type": "execute_result"
    },
    {
     "data": {
      "image/png": "[encoded data removed]",
      "text/plain": [
       "<Figure size 432x288 with 1 Axes>"
      ]
     },
     "metadata": {
      "needs_background": "light"
     },
     "output_type": "display_data"
    }
   ],
   "source": [
    "# set the prior (m1_range, m2_range)\n",
    "prior_m2_full = power(m2_range, beta_inj, mmin_inj, m1_range[-1])\n",
    "prior_m2 = np.tri(len(m1_range), len(m2_range)) * prior_m2_full\n",
    "norm = integrate.trapezoid(prior_m2, m2_range, axis=1)\n",
    "norm[np.where(norm==0)]=1.0\n",
    "prior_m2 = prior_m2 / norm[:, np.newaxis]\n",
    "\n",
    "plt.plot(m2_range, prior_m2[100])\n",
    "plt.plot(m2_range, prior_m2[200])\n",
    "\n",
    "plt.xlim(4.5, 10)"
   ]
  },
  {
   "cell_type": "code",
   "execution_count": 106,
   "metadata": {},
   "outputs": [],
   "source": [
    "m1_mu_detections, m2_mu_detections,  m1_variance, m2_variance, m1_m2_covariance = sample_m1_m2_events(df_mc[:40], df_eta[:40], injected=True)\n",
    "covariances = np.zeros((len(m1_mu_detections), 2,2))\n",
    "\n",
    "for i in range(len(m1_mu_detections)):\n",
    "    covariances[i] =  [[m1_variance[i], m1_m2_covariance[i]], [m1_m2_covariance[i], m2_variance[i]]]"
   ]
  },
  {
   "cell_type": "code",
   "execution_count": 107,
   "metadata": {},
   "outputs": [
    {
     "name": "stdout",
     "output_type": "stream",
     "text": [
      "0.18 seconds\n"
     ]
    },
    {
     "name": "stderr",
     "output_type": "stream",
     "text": [
      "/opt/anaconda3/envs/gwbench/lib/python3.7/site-packages/ipykernel_launcher.py:6: RuntimeWarning: divide by zero encountered in double_scalars\n",
      "  \n"
     ]
    }
   ],
   "source": [
    "Nt = len(m1_mu_detections)\n",
    "\n",
    "n_m1_int = 100\n",
    "n_m2_int = 400\n",
    "\n",
    "m1_min_int = 5.0\n",
    "m1_max_int = 60.0\n",
    "m1_int_range = np.geomspace(m1_min_int, m1_max_int, n_m1_int)\n",
    "\n",
    "integral_m2 = np.zeros((Nt, n_m1_int))\n",
    "\n",
    "m1_low = 5.0\n",
    "\n",
    "\n",
    "start = time.time()\n",
    "\n",
    "prior_m1 = power(m1_int_range, alpha_inj, m1_low, 60.0)\n",
    "prior_m1 = prior_m1 / integrate.trapezoid(prior_m1, m1_int_range)\n",
    "\n",
    "for j in range(n_m1_int):\n",
    "    m2_int_range = np.linspace(m1_min_int, m1_int_range[j], n_m2_int)\n",
    "    priors_m2 = power(m2_int_range, beta_inj, m1_low, m1_int_range[j])\n",
    "    norm_p2 = integrate.trapezoid(priors_m2, m2_int_range)\n",
    "    if norm_p2 != 0:\n",
    "        priors_m2 = priors_m2/norm_p2\n",
    "        \n",
    "    for i in range(Nt):\n",
    "        posteriors_m2 = bivariate_normal_dist(m1_int_range[j], m2_int_range, m1_mu_detections[i], m2_mu_detections[i], covariances[i])\n",
    "        integral_m2[i,j] = integrate.trapezoid(priors_m2 * posteriors_m2, m2_int_range)\n",
    "    \n",
    "integrands = prior_m1*integral_m2 \n",
    "\n",
    "end = time.time()\n",
    "print(f\"{end-start :.2f} seconds\")\n"
   ]
  },
  {
   "cell_type": "code",
   "execution_count": null,
   "metadata": {},
   "outputs": [],
   "source": [
    "Nt = len(m1_mu_detections)\n",
    "n_m1_int = 100\n",
    "n_m2_int = 400\n",
    "\n",
    "m1_min_int = 5.0\n",
    "m1_max_int = 60.0\n",
    "m1_int_range = np.geomspace(m1_min_int, m1_max_int, n_m1_int)\n",
    "\n",
    "integral_m2 = np.zeros((Nt, n_m1_int))\n",
    "\n",
    "m1_low = 5.0\n",
    "\n",
    "\n",
    "start = time.time()\n",
    "\n",
    "prior_m1 = power(m1_int_range, alpha_inj, m1_low, 60.0)\n",
    "prior_m1 = prior_m1 / integrate.trapezoid(prior_m1, m1_int_range)\n",
    "\n",
    "for j in range(n_m1_int):\n",
    "    m2_int_range = np.linspace(m1_min_int, m1_int_range[j], n_m2_int)\n",
    "    priors_m2 = power(m2_int_range, beta_inj, m1_low, m1_int_range[j])\n",
    "    norm_p2 = integrate.trapezoid(priors_m2, m2_int_range)\n",
    "    if norm_p2 != 0:\n",
    "        priors_m2 = priors_m2/norm_p2\n",
    "        \n",
    "    for i in range(Nt):\n",
    "        posteriors_m2 = bivariate_normal_dist(m1_int_range[j], m2_int_range, m1_mu_detections[i], m2_mu_detections[i], covariances[i])\n",
    "        integral_m2[i,j] = integrate.trapezoid(priors_m2 * posteriors_m2, m2_int_range)\n",
    "    \n",
    "integrands = prior_m1*integral_m2 \n",
    "\n",
    "end = time.time()\n",
    "print(f\"{end-start :.2f} seconds\")\n"
   ]
  },
  {
   "attachments": {},
   "cell_type": "markdown",
   "metadata": {},
   "source": [
    "# Compute 1D Hyper posterior"
   ]
  },
  {
   "cell_type": "code",
   "execution_count": 114,
   "metadata": {},
   "outputs": [],
   "source": [
    "def get_cofidence_int_1d(log_norm, range):\n",
    "    # 68% confidence interval using KDE\n",
    "    cdf_likelihood = integrate.cumulative_trapezoid(np.exp(log_norm), range, initial=0)\n",
    "    cdf_likelihood = cdf_likelihood/np.max(cdf_likelihood)\n",
    "\n",
    "    # make sure the cdf is strictly increasing to interpolate\n",
    "    index_min = np.where(cdf_likelihood == np.min(cdf_likelihood))[0][0]\n",
    "    index_max = np.where(cdf_likelihood == np.max(cdf_likelihood))[0][0]\n",
    "\n",
    "    inv_cdf_interp = interpolate.interp1d(cdf_likelihood[index_min:index_max], range[index_min:index_max], fill_value=\"extrapolate\")\n",
    "\n",
    "\n",
    "    med = inv_cdf_interp(0.5)\n",
    "    sig_pos = inv_cdf_interp(0.84)\n",
    "    sig_neg = inv_cdf_interp(0.16)\n",
    "\n",
    "    return med, sig_pos, sig_neg"
   ]
  },
  {
   "attachments": {},
   "cell_type": "markdown",
   "metadata": {},
   "source": [
    "## $\\alpha$ hyper-posterior"
   ]
  },
  {
   "cell_type": "code",
   "execution_count": 164,
   "metadata": {},
   "outputs": [],
   "source": [
    "def log_likelihood_alpha(m1_mu_events, m2_mu_events, covariances, \\\n",
    "    alpha_min=-4.0, alpha_max=-2.0, n_alpha=30, \\\n",
    "    beta=beta_inj, \\\n",
    "    m1_min_pow=mmin_inj, m1_max_pow=mmax_inj,\\\n",
    "    m1_min_int = 5.0, m1_max_int=60., n_m1_int=10000, n_m2_int = 100,\\\n",
    "    Ns=len(df_mc[\"Mc\"]), Nt=len(df_mc[\"Mc\"])):\n",
    "    \n",
    "    m_int_range = np.geomspace(m1_min_int, m1_max_int, n_m1_int)\n",
    "    \n",
    "    alpha_range = np.linspace(alpha_min, alpha_max, n_alpha)\n",
    "    log_p_alpha = np.zeros(n_alpha)\n",
    "\n",
    "    # priors_m2 = np.zeros((n_m1_int, n_m1_int))\n",
    "\n",
    "    integrand_m2 = np.zeros((Nt, n_m1_int))\n",
    "\n",
    "    posteriors_m1 = np.zeros((Nt, n_m1_int))\n",
    "    \n",
    "\n",
    "    for a in range(n_alpha):\n",
    "        alpha = alpha_range[a]\n",
    "\n",
    "        prior_m1 = power(m_int_range, alpha, m1_min_pow, m1_max_pow)\n",
    "        prior_m1 = prior_m1 / integrate.trapezoid(prior_m1, m_int_range)\n",
    "\n",
    "        for i in range(Nt):\n",
    "            posteriors_m1[i] = bivariate_normal_dist(m_int_range, m2_mu_events[i], m1_mu_events[i], m2_mu_events[i], covariances[i])\n",
    "\n",
    "\n",
    "        for j in range(n_m1_int):\n",
    "            m2_int_range = np.linspace(m1_min_int, m_int_range[j], n_m2_int)\n",
    "            priors_m2 = power(m2_int_range, beta, m1_min_pow, m_int_range[j])\n",
    "            for i in range(Nt):\n",
    "                posteriors_m2 = bivariate_normal_dist(m_int_range[j], m2_int_range, m1_mu_events[i], m2_mu_events[i], covariances[i])\n",
    "                integrand_m2[i,j] = integrate.trapezoid(priors_m2 * posteriors_m2, m2_int_range)    \n",
    "        # integrands = prior_m1*integrand_m2       \n",
    "\n",
    "        integrands = prior_m1 * posteriors_m1* integrand_m2\n",
    "        integrals = integrate.trapezoid(integrands, m_int_range, axis=1)\n",
    "        integrals = integrals[integrals!=0]\n",
    "        log_p_alpha[a] = np.sum(np.log(integrals))\n",
    "        \n",
    "    return log_p_alpha, alpha_range\n"
   ]
  },
  {
   "cell_type": "code",
   "execution_count": 129,
   "metadata": {},
   "outputs": [],
   "source": [
    "# def log_likelihood_alpha(m1_mu_events, m1_sigma_events, \\\n",
    "#     alpha_min=-4.5, alpha_max=-3, n_alpha=30, \\\n",
    "#         m1_min_int = 5., m1_max_int=200., n_m1_int=10000, \\\n",
    "#         m1_min_pow = 5., m1_max_pow=200., \\\n",
    "#             Ns=len(df_mc[\"Mc\"]), Nt=len(df_mc[\"Mc\"])):\n",
    "    \n",
    "#     m1_int_range = np.linspace(m1_min_int, m1_max_int, n_m1_int)\n",
    "    \n",
    "#     alpha_range = np.linspace(alpha_min, alpha_max, n_alpha)\n",
    "#     log_p_alpha = np.zeros(n_alpha)\n",
    "\n",
    "#     posteriors = np.zeros((Nt, n_m1_int))\n",
    "#     for i in range(Nt):\n",
    "#         posteriors[i] = normal_dist(m1_int_range, m1_mu_events[i], m1_sigma_events[i])\n",
    "\n",
    "#     for a in range(n_alpha):\n",
    "#         alpha = alpha_range[a]\n",
    "#         prior = power(m1_int_range, alpha, m1_min_pow, m1_max_pow)\n",
    "        \n",
    "#         log_p_alpha[a] = log_integral(prior, posteriors, m1_int_range)\n",
    "        \n",
    "#     return log_p_alpha, alpha_range\n"
   ]
  },
  {
   "attachments": {},
   "cell_type": "markdown",
   "metadata": {},
   "source": [
    "### $\\lambda$=0, alpha posterior"
   ]
  },
  {
   "cell_type": "code",
   "execution_count": 165,
   "metadata": {},
   "outputs": [],
   "source": [
    "# # Calculate the requisite mu_m1, sigma_m1 for the Event Likelihoods\n",
    "# m1_mu_sampled, m1_sigma_events = sample_m1_events(df_mc, df_eta, biased=False)\n",
    "\n",
    "# set the required data \n",
    "m1_mu_sampled, m2_mu_sampled,  m1_variance, m2_variance, m1_m2_covariance = sample_m1_m2_events(df_mc[:1200], df_eta[:1200], injected=False)\n",
    "covariances = np.zeros((len(m1_mu_sampled), 2,2))\n",
    "\n",
    "for i in range(len(m1_mu_sampled)):\n",
    "    covariances[i] =  [[m1_variance[i], m1_m2_covariance[i]], [m1_m2_covariance[i], m2_variance[i]]]"
   ]
  },
  {
   "cell_type": "code",
   "execution_count": 166,
   "metadata": {},
   "outputs": [],
   "source": [
    "alpha_min = alpha_inj-0.25\n",
    "alpha_max=alpha_inj+0.25\n",
    "n_alpha=10\n",
    "\n",
    "alpha_range_lam_0 = np.linspace(alpha_min, alpha_max, n_alpha)\n",
    "fname_alpha_lam_0 = f\"{likelihood_dir}/N_{len(m1_mu_sampled)}_alpha_{alpha_min:.1f}_{alpha_max:.1f}_n_{n_alpha:.0f}_log_likelihoods_lam_0\"    "
   ]
  },
  {
   "cell_type": "code",
   "execution_count": 167,
   "metadata": {},
   "outputs": [
    {
     "name": "stderr",
     "output_type": "stream",
     "text": [
      "/opt/anaconda3/envs/gwbench/lib/python3.7/site-packages/ipykernel_launcher.py:6: RuntimeWarning: divide by zero encountered in double_scalars\n",
      "  \n"
     ]
    }
   ],
   "source": [
    "log_p_alpha_lam_0_src, alpha_range_lam_0 = log_likelihood_alpha(m1_mu_sampled, m2_mu_sampled, covariances,\\\n",
    "    alpha_min=alpha_min, alpha_max=alpha_max, n_alpha=n_alpha, \\\n",
    "    m1_min_int = mmin_inj, m1_max_int=mmax_inj, n_m1_int=400, n_m2_int=300,\\\n",
    "    m1_min_pow = mmin_inj, m1_max_pow=mmax_inj,\\\n",
    "    Ns=len(m1_mu_sampled), Nt=len(m1_mu_sampled))\n",
    "    \n",
    "log_alpha_norm_lam_0 =log_p_alpha_lam_0_src - np.max(log_p_alpha_lam_0_src)\n",
    "\n",
    "# Save likelihoods to file\n",
    "if save_likelihoods:\n",
    "    np.savetxt(fname_alpha_lam_0, log_alpha_norm_lam_0)\n"
   ]
  },
  {
   "cell_type": "code",
   "execution_count": 168,
   "metadata": {},
   "outputs": [],
   "source": [
    "# Load likelihoods from file\n",
    "# log_alpha_norm_lam_0 = np.loadtxt(fname_alpha_lam_0)"
   ]
  },
  {
   "cell_type": "code",
   "execution_count": 169,
   "metadata": {},
   "outputs": [],
   "source": [
    "# # Infer 68% confidence interval assuming Normal Distribution\n",
    "# target_func = normal_dist\n",
    "# y, X = np.exp(log_alpha_norm_lam_0), alpha_range_lam_0\n",
    "# popt, pcov = optimize.curve_fit(target_func, X, y, p0=[-3.1, 0.6, 1.0])\n",
    "\n",
    "# mu_alpha = popt[0]\n",
    "# sig_alpha = popt[1]\n",
    "# print(popt)\n",
    "\n",
    "# bias_sigma = ((mu_alpha - alpha_inj)/sig_alpha)\n",
    "# print(rf\"Injected alpha is {bias_sigma :.2f} sigma away\")"
   ]
  },
  {
   "cell_type": "code",
   "execution_count": 170,
   "metadata": {},
   "outputs": [
    {
     "name": "stdout",
     "output_type": "stream",
     "text": [
      "68% Confidence interval: -3.407171170960937, -3.33704367307067, -3.2819413581808514\n",
      "Injected alpha is 2.957 sigma away\n"
     ]
    }
   ],
   "source": [
    "# 68% confidence interval using KDE\n",
    "med_alpha, sig_pos_alpha, sig_neg_alpha = get_cofidence_int_1d(log_alpha_norm_lam_0, alpha_range_lam_0)\n",
    "\n",
    "print(f\"68% Confidence interval: {sig_neg_alpha}, {med_alpha}, {sig_pos_alpha}\")\n",
    "bias_sigma = (med_alpha-alpha_inj)/(sig_pos_alpha-med_alpha)\n",
    "print(rf\"Injected alpha is {bias_sigma:.3f} sigma away\")\n"
   ]
  },
  {
   "cell_type": "code",
   "execution_count": 171,
   "metadata": {},
   "outputs": [
    {
     "name": "stdout",
     "output_type": "stream",
     "text": [
      "most likely alpha (IN SOURCE FRAME) = -3.33704367307067\n"
     ]
    },
    {
     "data": {
      "image/png": "[encoded data removed]",
      "text/plain": [
       "<Figure size 720x360 with 2 Axes>"
      ]
     },
     "metadata": {
      "needs_background": "light"
     },
     "output_type": "display_data"
    }
   ],
   "source": [
    "print(\"most likely alpha (IN SOURCE FRAME) =\",med_alpha)\n",
    "fig, axes = plt.subplots(nrows=1, ncols=2, figsize=(10, 5))\n",
    "\n",
    "axes[0].plot(alpha_range_lam_0, log_alpha_norm_lam_0)\n",
    "axes[0].axvline(x=alpha_inj, color='k')\n",
    "axes[0].set_ylabel(\"log $p(\\\\alpha$)\")\n",
    "axes[0].set_xlabel(\"$\\\\alpha$\")\n",
    "axes[0].set_title(\"log-likelihood, $\\lambda$=0\")\n",
    "\n",
    "axes[1].plot(alpha_range_lam_0, np.exp(log_alpha_norm_lam_0))\n",
    "axes[1].axvline(x=alpha_inj, color='k')\n",
    "axes[1].set_ylabel(\"$p(\\\\alpha$)\")\n",
    "axes[1].set_xlabel(\"$\\\\alpha$\")\n",
    "axes[1].set_title(\"likelihood, $\\lambda$=0\")\n",
    "\n",
    "plt.suptitle(f\"$\\\\alpha$ = {med_alpha:.2f}$^{{+{sig_pos_alpha-med_alpha:.3f}}}$ $_{{{sig_neg_alpha - med_alpha:.3f}}}$\", y=0.99)\n",
    "# plt.tight_layout()\n",
    "\n",
    "# plt.savefig(plotdir+f'N_{len(m1_mu_sampled)}_alpha_{alpha_inj:.1f}_hyper_posterior_lam_0.pdf')\n",
    "plt.show()"
   ]
  },
  {
   "cell_type": "code",
   "execution_count": null,
   "metadata": {},
   "outputs": [],
   "source": []
  },
  {
   "attachments": {},
   "cell_type": "markdown",
   "metadata": {},
   "source": [
    "### $\\lambda$=1, alpha posterior"
   ]
  },
  {
   "cell_type": "code",
   "execution_count": null,
   "metadata": {},
   "outputs": [],
   "source": [
    "# Calculate the requisite mu_m1, sigma_m1 for the Event Likelihoods\n",
    "m1_mu_sampled_biased, m1_sigma_events_biased = sample_m1_events(df_mc, df_eta, biased=True, bias_index=bias_index)"
   ]
  },
  {
   "cell_type": "code",
   "execution_count": null,
   "metadata": {},
   "outputs": [],
   "source": [
    "bins = np.geomspace(3, 150, 50)\n",
    "\n",
    "m1_inj = df_mc[\"m1\"] / (1+df_mc[\"z\"])\n",
    "y, X = np.histogram(m1_inj, bins=bins, density=True)\n",
    "X = X[:-1]\n",
    "plt.plot(X, y, 'bo', label='Injected')\n",
    "\n",
    "y, X = np.histogram(m1_mu_sampled_biased, bins=bins, density=True)\n",
    "X = X[:-1]\n",
    "plt.plot(X, y, 'ro', label='Biased')\n",
    "\n",
    "plt.xlabel(\"m1\")\n",
    "plt.ylabel(\"Prob\")\n",
    "plt.legend()\n",
    "\n",
    "plt.semilogy()\n",
    "plt.show()"
   ]
  },
  {
   "attachments": {},
   "cell_type": "markdown",
   "metadata": {},
   "source": [
    "From the Mathematica nb, a small increase in both Mc and eta results in lower m1, higher m2. The biased m1s are lower for high masses, which makes the power-law slope steeper."
   ]
  },
  {
   "cell_type": "code",
   "execution_count": null,
   "metadata": {},
   "outputs": [],
   "source": [
    "alpha_min = alpha_inj-1.0\n",
    "alpha_max=alpha_inj+0.50\n",
    "n_alpha=100\n",
    "\n",
    "alpha_range_lam_1 = np.linspace(alpha_min, alpha_max, n_alpha)\n",
    "fname_alpha_lam_1 = f\"{likelihood_dir}/N_{len(m1_mu_sampled)}_alpha_{alpha_min:.1f}_{alpha_max:.1f}_n_{n_alpha:.0f}_log_likelihoods_lam_1\"    "
   ]
  },
  {
   "cell_type": "code",
   "execution_count": null,
   "metadata": {},
   "outputs": [],
   "source": [
    "log_p_alpha_lam_1, alpha_range_lam_1 = log_likelihood_alpha(m1_mu_sampled_biased, m1_sigma_events_biased, \\\n",
    "    alpha_min=alpha_min, alpha_max=alpha_max, n_alpha=n_alpha, \\\n",
    "    m1_min_int = mmin_inj, m1_max_int=mmax_inj, n_m1_int=10000,\\\n",
    "    m1_min_pow = mmin_inj, m1_max_pow=mmax_inj,\\\n",
    "    Ns=len(m1_mu_sampled_biased), Nt=len(m1_mu_sampled_biased))\n",
    "\n",
    "log_alpha_norm_lam_1 =log_p_alpha_lam_1 - np.max(log_p_alpha_lam_1)\n",
    "\n",
    "# Save likelihoods to file\n",
    "if save_likelihoods:   \n",
    "    np.savetxt(fname_alpha_lam_1, log_alpha_norm_lam_1)"
   ]
  },
  {
   "cell_type": "code",
   "execution_count": null,
   "metadata": {},
   "outputs": [],
   "source": [
    "# Load likelihoods from file\n",
    "# log_alpha_norm_lam_1 = np.loadtxt(fname_alpha_lam_1)"
   ]
  },
  {
   "cell_type": "code",
   "execution_count": null,
   "metadata": {},
   "outputs": [],
   "source": [
    "# 68% confidence interval assuming Normal Distribution\n",
    "target_func = normal_dist\n",
    "y, X = np.exp(log_alpha_norm_lam_1), alpha_range_lam_1\n",
    "popt, pcov = optimize.curve_fit(target_func, X, y, p0=[-3.1, 0.6, 1.0])\n",
    "\n",
    "mu_alpha = popt[0]\n",
    "sig_alpha = popt[1]\n",
    "print(popt)\n",
    "\n",
    "bias_sigma = ((mu_alpha - alpha_inj)/sig_alpha)\n",
    "print(rf\"Injected alpha is {bias_sigma :.2f} sigma away\")"
   ]
  },
  {
   "cell_type": "code",
   "execution_count": null,
   "metadata": {},
   "outputs": [],
   "source": [
    "# 68% confidence interval using KDE\n",
    "med_alpha, sig_pos_alpha, sig_neg_alpha = get_cofidence_int_1d(log_alpha_norm_lam_1, alpha_range_lam_1)\n",
    "\n",
    "print(f\"68% Confidence interval: {sig_neg_alpha}, {med_alpha}, {sig_pos_alpha}\")\n",
    "bias_sigma = (med_alpha-alpha_inj)/(sig_pos_alpha-med_alpha)\n",
    "print(rf\"Injected alpha is {bias_sigma:.3f} sigma away\")\n"
   ]
  },
  {
   "cell_type": "code",
   "execution_count": null,
   "metadata": {},
   "outputs": [],
   "source": [
    "print(\"most likely alpha (IN SOURCE FRAME) =\", mu_alpha)\n",
    "fig, axes = plt.subplots(nrows=1, ncols=2, figsize=(10, 5))\n",
    "\n",
    "axes[0].plot(alpha_range_lam_1, log_alpha_norm_lam_1)\n",
    "axes[0].axvline(x=alpha_inj, color='k')\n",
    "axes[0].set_ylabel(\"log $p(\\\\alpha$)\")\n",
    "axes[0].set_xlabel(\"$\\\\alpha$\")\n",
    "axes[0].set_title(\"log-likelihood, $\\lambda$=1\")\n",
    "\n",
    "axes[1].plot(alpha_range_lam_1, np.exp(log_alpha_norm_lam_1))\n",
    "axes[1].axvline(x=alpha_inj, color='k')\n",
    "axes[1].set_ylabel(\"$p(\\\\alpha$)\")\n",
    "axes[1].set_xlabel(\"$\\\\alpha$\")\n",
    "axes[1].set_title(\"likelihood, $\\lambda$=1\")\n",
    "\n",
    "plt.suptitle(f\"$\\\\alpha$ = {med_alpha:.2f}$^{{+{sig_pos_alpha-med_alpha:.3f}}}$ $_{{{sig_neg_alpha - med_alpha:.3f}}}$\", y=0.99)\n",
    "# plt.tight_layout()\n",
    "\n",
    "# plt.savefig(plotdir+f'N_{len(m1_mu_sampled)}_alpha_{alpha_inj:.1f}_hyper_posterior_lam_1.pdf')\n",
    "plt.show()"
   ]
  },
  {
   "attachments": {},
   "cell_type": "markdown",
   "metadata": {},
   "source": [
    "## m_min hyper-posterior"
   ]
  },
  {
   "cell_type": "code",
   "execution_count": 29,
   "metadata": {},
   "outputs": [],
   "source": [
    "save_likelihoods = False"
   ]
  },
  {
   "cell_type": "code",
   "execution_count": 30,
   "metadata": {},
   "outputs": [],
   "source": [
    "def log_likelihood_mmin(m1_mu_events, m1_sigma_events, m2_mu_events, m2_sigma_events, \\\n",
    "    alpha=-3.5, beta=-2.0,\\\n",
    "    m1_low_min = 3.0, m1_low_max = 7.0, n_m1_low=50,\\\n",
    "    m1_min_int=3.0, m1_max_int=200., n_m1_int=20000, n_m2_int=200, \\\n",
    "    m1_max_pow=60., \\\n",
    "        Ns=len(df_mc[\"Mc\"]), Nt=len(df_mc[\"Mc\"])):\n",
    "\n",
    "    m1_low_range = np.linspace(m1_low_min, m1_low_max, n_m1_low)\n",
    "    log_likelihoods = np.zeros(n_m1_low)\n",
    "\n",
    "    m_int_range = np.geomspace(m1_min_int, m1_max_int, n_m1_int)\n",
    "\n",
    "    integrand_m2 = np.zeros((Nt, n_m1_int))\n",
    "    priors_m2 = np.zeros((n_m1_int, n_m1_int))\n",
    "\n",
    "    posteriors_m1 = np.zeros((Nt, n_m1_int))    \n",
    "    posteriors_m2 = np.zeros((Nt, n_m1_int))\n",
    "\n",
    "    for i in range(Nt):\n",
    "        posteriors_m1[i] = normal_dist(m_int_range, m1_mu_events[i], m1_sigma_events[i])\n",
    "\n",
    "    for m1_low_index, m1_low in enumerate(m1_low_range):\n",
    "\n",
    "        # priors_m2 = np.zeros((n_m1_int, n_m1_int))\n",
    "\n",
    "        # posteriors_m1 = np.zeros((Nt, n_m1_int))\n",
    "        # posteriors_m2 = np.zeros((Nt, n_m1_int))\n",
    "\n",
    "        prior_m1 = power(m_int_range, alpha, m1_low, m1_max_pow)\n",
    "        prior_m1 = prior_m1 / integrate.trapezoid(prior_m1, m_int_range)\n",
    "\n",
    "\n",
    "        # for j in range(n_m1_int):\n",
    "        #     priors_m2[j] = power(m_int_range, beta, m1_low, m_int_range[j])\n",
    "        #     norm_p2 = integrate.trapezoid(priors_m2[j])\n",
    "        #     if norm_p2 != 0:\n",
    "        #         priors_m2[j] = priors_m2[j]/norm_p2\n",
    "        for j in range(n_m1_int):\n",
    "            m2_int_range = np.geomspace(m1_min_int, m_int_range[j], n_m2_int)\n",
    "            priors_m2 = power(m2_int_range, beta, m1_low, m_int_range[j])\n",
    "            norm_p2 = integrate.trapezoid(priors_m2)\n",
    "            if norm_p2 != 0:\n",
    "                priors_m2 = priors_m2/norm_p2\n",
    "                \n",
    "            for i in range(Nt):\n",
    "                posteriors_m2 = normal_dist(m2_int_range, m2_mu_events[i], m2_sigma_events[i])\n",
    "                integrand_m2[i,j] = integrate.trapezoid(priors_m2 * posteriors_m2, m2_int_range)\n",
    "          \n",
    "        # integrand_m2 = jax.numpy.matmul(priors_m2, posteriors_m2.T).T\n",
    "\n",
    "        integrands = prior_m1*posteriors_m1*integrand_m2 \n",
    "\n",
    "\n",
    "        \n",
    "        #     posteriors_m2[i] = normal_dist(m_int_range, m2_mu_events[i], m2_sigma_events[i])\n",
    "\n",
    "        \n",
    "        # # this block of code actually works, confirmed (although it 'integrates' along m2 using np.sum())\n",
    "        # integrand_m2 = jax.numpy.matmul(priors_m2, posteriors_m2.T).T\n",
    "\n",
    "        # integrands = prior_m1*posteriors_m1*integrand_m2       \n",
    "\n",
    "        integrals = integrate.trapezoid(integrands, m_int_range, axis=1)\n",
    "        integrals = integrals[integrals!=0]\n",
    "        log_likelihoods[m1_low_index] = np.sum(np.log(integrals))\n",
    "\n",
    "        \n",
    "    return log_likelihoods, m1_low_range"
   ]
  },
  {
   "cell_type": "code",
   "execution_count": null,
   "metadata": {},
   "outputs": [],
   "source": [
    "# def log_likelihood_mmin(m1_mu_events, m1_sigma_events, \\\n",
    "#     alpha=-3.5, \\\n",
    "#     m1_low_min = 3.0, m1_low_max = 7.0, n_m1_low=50,\\\n",
    "#     m1_max_int=200., n_m1_int=20000, \\\n",
    "#     m1_max_pow=200., \\\n",
    "#         Ns=len(df_mc[\"Mc\"]), Nt=len(df_mc[\"Mc\"])):\n",
    "    \n",
    "#     m1_min_int = m1_low_min\n",
    "\n",
    "#     m1_low_range = np.linspace(m1_low_min, m1_low_max, n_m1_low)\n",
    "#     log_likelihoods = np.zeros(n_m1_low)\n",
    "\n",
    "#     m1_int_range = np.geomspace(m1_min_int, m1_max_int, n_m1_int)\n",
    "\n",
    "#     posteriors = np.zeros((Nt, n_m1_int))\n",
    "#     for i in range(Nt):\n",
    "#         posteriors[i] = normal_dist(m1_int_range, m1_mu_events[i], m1_sigma_events[i])\n",
    "    \n",
    "#     for m1_low_index in range(n_m1_low):\n",
    "#         m1_min_pow = m1_low_range[m1_low_index]\n",
    "        \n",
    "#         prior = power(m1_int_range, alpha, m1_min_pow, m1_max_pow)\n",
    "#         log_likelihoods[m1_low_index] = log_integral(prior, posteriors, m1_int_range)\n",
    "\n",
    "#         # prior_interp = interpolate.InterpolatedUnivariateSpline(m1_int_range, prior)\n",
    "#         # log_likelihoods[m1_low_index] = log_integral(prior_interp(m1_int_range), posteriors, m1_int_range)\n",
    "        \n",
    "#     return log_likelihoods, m1_low_range\n"
   ]
  },
  {
   "cell_type": "code",
   "execution_count": null,
   "metadata": {},
   "outputs": [],
   "source": [
    "# def log_likelihood_mmin(m1_mu_events, m1_sigma_events, m2_mu_events, m2_sigma_events,\\\n",
    "#     alpha=-3.5, \\\n",
    "#     m1_low_min = 3.0, m1_low_max = 7.0, n_m1_low=50,\\\n",
    "#     m1_max_int=200., n_m1_int=20000, \\\n",
    "#     m1_max_pow=200., \\\n",
    "#         Ns=len(df_mc[\"Mc\"]), Nt=len(df_mc[\"Mc\"])):\n",
    "    \n",
    "#     m1_low_range = np.linspace(m1_low_min, m1_low_max, n_m1_low)\n",
    "#     log_likelihoods = np.zeros(n_m1_low)\n",
    "\n",
    "#     for m1_low_index in range(n_m1_low):\n",
    "#         m1_min_pow = m1_low_range[m1_low_index]\n",
    "#         m1_int_range = np.geomspace(m1_min_pow, m1_max_int, n_m1_int)\n",
    "\n",
    "#         m2_int_range = np.geomspace(m1_min_pow, m1_max_int, n_m1_int)\n",
    "\n",
    "#         total_int = 0\n",
    "\n",
    "#         for i in range(Nt):\n",
    "#             # Need to set the integral to zero if posterior is very far from the data and returns log(0) = -inf\n",
    "#             # DO NOT USE TRUNCATED GAUSSIAN for the posterior if m_min, m_max will vary from integral to integral. \n",
    "#             # This introduces a limit-dependent integrand that can artificially inflate the hyperposterior in one direction endlessly\n",
    "#             p_m2 = power(m2_int_range, beta_inj, m1_min_pow, m1_mu_events[i])\n",
    "#             integrand_m2 = p_m2 * normal_dist(m1_int_range, m2_mu_events[i], m2_sigma_events[i])\n",
    "#             m2_int_term = integrate.trapezoid(integrand_m2, m2_int_range)\n",
    "\n",
    "#             integrand = m2_int_term * power(m1_int_range, alpha, m1_min_pow, m1_max_pow) * normal_dist(m1_int_range, m1_mu_events[i], m1_sigma_events[i])\n",
    "#             int_term = integrate.trapezoid(integrand, m1_int_range)\n",
    "#             if int_term==0:\n",
    "#                 int_term=1\n",
    "\n",
    "#             total_int = total_int + np.log(Ns) + np.log(int_term)\n",
    "            \n",
    "#         log_likelihoods[m1_low_index] = -Ns + total_int\n",
    "        \n",
    "#     return log_likelihoods, m1_low_range"
   ]
  },
  {
   "attachments": {},
   "cell_type": "markdown",
   "metadata": {},
   "source": [
    "### Test blocks"
   ]
  },
  {
   "cell_type": "code",
   "execution_count": null,
   "metadata": {},
   "outputs": [],
   "source": [
    "m1_mu_events, m1_sigma_events = sample_m1_events(df_mc, df_eta, biased=False)\n",
    "m2_mu_events, m2_sigma_events = sample_m2_events(df_mc, df_eta, biased=False)\n",
    "\n",
    "Nt = len(m1_mu_events)\n",
    "\n",
    "m1_min_int=3.5\n",
    "m1_max_int=40.0\n",
    "\n",
    "m1_max_pow = 60.0\n",
    "\n",
    "n_m1_int = 10000\n",
    "m_int_range = np.geomspace(m1_min_int, m1_max_int, n_m1_int)\n"
   ]
  },
  {
   "cell_type": "code",
   "execution_count": null,
   "metadata": {},
   "outputs": [],
   "source": [
    "# m_min = 5.1\n",
    "\n",
    "# integral_m2_m1 = np.zeros(n_m1_int)\n",
    "\n",
    "# log_int = 0\n",
    "# for i in range(Nt):\n",
    "#     prior_m2 = power(m_int_range, beta_inj, m_min, m1_mu_events[i])#* (m1_mu_events[i]**(1-beta_inj))\n",
    "#     norm = integrate.trapezoid(prior_m2, m_int_range)\n",
    "#     if norm ==0:\n",
    "#         continue\n",
    "#     prior_m2 = prior_m2 / integrate.trapezoid(prior_m2, m_int_range)\n",
    "\n",
    "#     posterior_m2 = normal_dist(m_int_range, m2_mu_events[i], m2_sigma_events[i])\n",
    "#     integral = integrate.trapezoid(prior_m2*posterior_m2, m_int_range)\n",
    "\n",
    "#     if integral==0:\n",
    "#         integral=1\n",
    "\n",
    "#     log_int = log_int + np.log(integral)\n",
    "\n",
    "# log_int"
   ]
  },
  {
   "cell_type": "code",
   "execution_count": null,
   "metadata": {},
   "outputs": [],
   "source": [
    "# m_min = 5.1\n",
    "\n",
    "# priors_m2 = np.zeros((n_m1_int, n_m1_int))\n",
    "\n",
    "# posteriors_m1 = np.zeros((Nt, n_m1_int))\n",
    "# posteriors_m2 = np.zeros((Nt, n_m1_int))\n",
    "\n",
    "# prior_m1 = power(m_int_range, alpha, m_min, m1_max_pow)\n",
    "# prior_m1 = prior_m1 / integrate.trapezoid(prior_m1, m_int_range)\n",
    "\n",
    "\n",
    "# for j in range(n_m1_int):\n",
    "#     priors_m2[j] = power(m_int_range, beta_inj, m_min, m_int_range[j])\n",
    "\n",
    "# total_int = 0\n",
    "# for i in range(Nt):\n",
    "#     posteriors_m1 = normal_dist(m_int_range, m1_mu_events[i], m1_sigma_events[i])\n",
    "#     posteriors_m2 = normal_dist(m_int_range, m2_mu_events[i], m2_sigma_events[i])\n",
    "\n",
    "#     integrand_m2 = priors_m2 * posteriors_m2\n",
    "#     integral_m2_m1 = integrate.trapezoid(integrand_m2, m_int_range, axis=1)\n",
    "\n",
    "#     integrands_m1 = prior_m1*posteriors_m1*integral_m2_m1\n",
    "\n",
    "#     integral = integrate.trapezoid(integrands_m1, m_int_range)\n",
    "\n",
    "#     if integral !=0:\n",
    "#         total_int = total_int + np.log(integral)\n",
    "\n",
    "# print(total_int)"
   ]
  },
  {
   "cell_type": "code",
   "execution_count": null,
   "metadata": {},
   "outputs": [],
   "source": [
    "# m_min = 4.9\n",
    "\n",
    "likelihoods_mmin = np.zeros(20)\n",
    "m_min_range = np.linspace(4.9, 5.1, 20)\n",
    "\n",
    "for m, m_min in enumerate(m_min_range):\n",
    "\n",
    "    priors_m2 = np.zeros((n_m1_int, n_m1_int))\n",
    "\n",
    "    posteriors_m1 = np.zeros((Nt, n_m1_int))\n",
    "    posteriors_m2 = np.zeros((Nt, n_m1_int))\n",
    "\n",
    "    prior_m1 = power(m_int_range, alpha, m_min, m1_max_pow)\n",
    "    prior_m1 = prior_m1 / integrate.trapezoid(prior_m1, m_int_range)\n",
    "\n",
    "\n",
    "    for j in range(n_m1_int):\n",
    "        priors_m2[j] = power(m_int_range, beta_inj, m_min, m_int_range[j])\n",
    "\n",
    "\n",
    "    for i in range(Nt):\n",
    "        posteriors_m1[i] = normal_dist(m_int_range, m1_mu_events[i], m1_sigma_events[i])\n",
    "        posteriors_m2[i] = normal_dist(m_int_range, m2_mu_events[i], m2_sigma_events[i])\n",
    "\n",
    "    ######\n",
    "    # i = 134\n",
    "    # integrand_test = priors_m2 * posteriors_m2[i]\n",
    "    # print(integrate.trapezoid(integrand_test, m_int_range, axis=1))\n",
    "    ####\n",
    "\n",
    "    # this block of code actually works, confirmed (although it 'integrates' along m2 using np.sum())\n",
    "    integrand_m2 = np.matmul(priors_m2 ,posteriors_m2.T).T\n",
    "\n",
    "    integrands = prior_m1*posteriors_m1*integrand_m2       \n",
    "\n",
    "    integrals = integrate.trapezoid(integrands, m_int_range, axis=1)\n",
    "    integrals = integrals[integrals!=0]\n",
    "    likelihoods_mmin[m] = np.sum(np.log(integrals))\n"
   ]
  },
  {
   "cell_type": "code",
   "execution_count": null,
   "metadata": {},
   "outputs": [],
   "source": [
    "plt.plot(m_min_range, likelihoods_mmin)"
   ]
  },
  {
   "attachments": {},
   "cell_type": "markdown",
   "metadata": {},
   "source": [
    "### $\\lambda=0$, m_min posterior"
   ]
  },
  {
   "cell_type": "code",
   "execution_count": 31,
   "metadata": {},
   "outputs": [],
   "source": [
    "# Calculate the requisite mu_m1, sigma_m1 for the Event Likelihoods\n",
    "m1_mu_sampled, m1_sigma_events = sample_m1_events(df_mc, df_eta, biased=False)\n",
    "m2_mu_sampled, m2_sigma_events = sample_m2_events(df_mc, df_eta, biased=False)"
   ]
  },
  {
   "cell_type": "code",
   "execution_count": 32,
   "metadata": {},
   "outputs": [],
   "source": [
    "m1_low_min = 4.97\n",
    "m1_low_max= 5.05\n",
    "n_m1_low= 10\n",
    "\n",
    "m1_low_range_lam_0 = np.linspace(m1_low_min, m1_low_max, n_m1_low)\n",
    "fname_mmin_lam_0 = f\"{likelihood_dir}/N_{len(m1_mu_sampled)}_mmin_{m1_low_min:.2f}_{m1_low_max:.2f}_n_{n_m1_low:.0f}_log_likelihoods_lam_0\"    "
   ]
  },
  {
   "cell_type": "code",
   "execution_count": 33,
   "metadata": {},
   "outputs": [
    {
     "name": "stderr",
     "output_type": "stream",
     "text": [
      "/opt/anaconda3/envs/gwbench/lib/python3.7/site-packages/ipykernel_launcher.py:6: RuntimeWarning: divide by zero encountered in double_scalars\n",
      "  \n"
     ]
    },
    {
     "ename": "KeyboardInterrupt",
     "evalue": "",
     "output_type": "error",
     "traceback": [
      "\u001b[0;31m---------------------------------------------------------------------------\u001b[0m",
      "\u001b[0;31mKeyboardInterrupt\u001b[0m                         Traceback (most recent call last)",
      "\u001b[0;32m/var/folders/wj/l7fs8hg555n8nzz7myk9cysw0000gn/T/ipykernel_14609/712074351.py\u001b[0m in \u001b[0;36m<module>\u001b[0;34m\u001b[0m\n\u001b[1;32m      5\u001b[0m     \u001b[0mm1_min_int\u001b[0m \u001b[0;34m=\u001b[0m \u001b[0mm1_low_min\u001b[0m\u001b[0;34m,\u001b[0m \u001b[0mm1_max_int\u001b[0m\u001b[0;34m=\u001b[0m\u001b[0mmmax_inj\u001b[0m\u001b[0;34m,\u001b[0m \u001b[0mn_m1_int\u001b[0m\u001b[0;34m=\u001b[0m\u001b[0;36m500\u001b[0m\u001b[0;34m,\u001b[0m \u001b[0mn_m2_int\u001b[0m\u001b[0;34m=\u001b[0m\u001b[0;36m500\u001b[0m\u001b[0;34m,\u001b[0m\u001b[0;31m \u001b[0m\u001b[0;31m\\\u001b[0m\u001b[0;34m\u001b[0m\u001b[0;34m\u001b[0m\u001b[0m\n\u001b[1;32m      6\u001b[0m     \u001b[0mm1_max_pow\u001b[0m\u001b[0;34m=\u001b[0m\u001b[0mmmax_inj\u001b[0m\u001b[0;34m,\u001b[0m\u001b[0;31m \u001b[0m\u001b[0;31m\\\u001b[0m\u001b[0;34m\u001b[0m\u001b[0;34m\u001b[0m\u001b[0m\n\u001b[0;32m----> 7\u001b[0;31m     Ns=len(m1_mu_sampled), Nt=len(m1_mu_sampled))\n\u001b[0m\u001b[1;32m      8\u001b[0m \u001b[0;34m\u001b[0m\u001b[0m\n\u001b[1;32m      9\u001b[0m \u001b[0;34m\u001b[0m\u001b[0m\n",
      "\u001b[0;32m/var/folders/wj/l7fs8hg555n8nzz7myk9cysw0000gn/T/ipykernel_14609/4156218226.py\u001b[0m in \u001b[0;36mlog_likelihood_mmin\u001b[0;34m(m1_mu_events, m1_sigma_events, m2_mu_events, m2_sigma_events, alpha, beta, m1_low_min, m1_low_max, n_m1_low, m1_min_int, m1_max_int, n_m1_int, n_m2_int, m1_max_pow, Ns, Nt)\u001b[0m\n\u001b[1;32m     44\u001b[0m \u001b[0;34m\u001b[0m\u001b[0m\n\u001b[1;32m     45\u001b[0m             \u001b[0;32mfor\u001b[0m \u001b[0mi\u001b[0m \u001b[0;32min\u001b[0m \u001b[0mrange\u001b[0m\u001b[0;34m(\u001b[0m\u001b[0mNt\u001b[0m\u001b[0;34m)\u001b[0m\u001b[0;34m:\u001b[0m\u001b[0;34m\u001b[0m\u001b[0;34m\u001b[0m\u001b[0m\n\u001b[0;32m---> 46\u001b[0;31m                 \u001b[0mposteriors_m2\u001b[0m \u001b[0;34m=\u001b[0m \u001b[0mnormal_dist\u001b[0m\u001b[0;34m(\u001b[0m\u001b[0mm2_int_range\u001b[0m\u001b[0;34m,\u001b[0m \u001b[0mm2_mu_events\u001b[0m\u001b[0;34m[\u001b[0m\u001b[0mi\u001b[0m\u001b[0;34m]\u001b[0m\u001b[0;34m,\u001b[0m \u001b[0mm2_sigma_events\u001b[0m\u001b[0;34m[\u001b[0m\u001b[0mi\u001b[0m\u001b[0;34m]\u001b[0m\u001b[0;34m)\u001b[0m\u001b[0;34m\u001b[0m\u001b[0;34m\u001b[0m\u001b[0m\n\u001b[0m\u001b[1;32m     47\u001b[0m                 \u001b[0mintegrand_m2\u001b[0m\u001b[0;34m[\u001b[0m\u001b[0mi\u001b[0m\u001b[0;34m,\u001b[0m\u001b[0mj\u001b[0m\u001b[0;34m]\u001b[0m \u001b[0;34m=\u001b[0m \u001b[0mintegrate\u001b[0m\u001b[0;34m.\u001b[0m\u001b[0mtrapezoid\u001b[0m\u001b[0;34m(\u001b[0m\u001b[0mpriors_m2\u001b[0m \u001b[0;34m*\u001b[0m \u001b[0mposteriors_m2\u001b[0m\u001b[0;34m,\u001b[0m \u001b[0mm2_int_range\u001b[0m\u001b[0;34m)\u001b[0m\u001b[0;34m\u001b[0m\u001b[0;34m\u001b[0m\u001b[0m\n\u001b[1;32m     48\u001b[0m \u001b[0;34m\u001b[0m\u001b[0m\n",
      "\u001b[0;32m/var/folders/wj/l7fs8hg555n8nzz7myk9cysw0000gn/T/ipykernel_14609/1354415339.py\u001b[0m in \u001b[0;36mnormal_dist\u001b[0;34m(m1, mu, sigma, amp)\u001b[0m\n\u001b[1;32m     14\u001b[0m \u001b[0;32mdef\u001b[0m \u001b[0mnormal_dist\u001b[0m\u001b[0;34m(\u001b[0m\u001b[0mm1\u001b[0m\u001b[0;34m,\u001b[0m \u001b[0mmu\u001b[0m\u001b[0;34m,\u001b[0m \u001b[0msigma\u001b[0m\u001b[0;34m,\u001b[0m \u001b[0mamp\u001b[0m\u001b[0;34m=\u001b[0m\u001b[0;36m1.0\u001b[0m\u001b[0;34m)\u001b[0m\u001b[0;34m:\u001b[0m\u001b[0;34m\u001b[0m\u001b[0;34m\u001b[0m\u001b[0m\n\u001b[1;32m     15\u001b[0m     \u001b[0mA\u001b[0m \u001b[0;34m=\u001b[0m \u001b[0mnp\u001b[0m\u001b[0;34m.\u001b[0m\u001b[0msqrt\u001b[0m\u001b[0;34m(\u001b[0m\u001b[0;36m2\u001b[0m\u001b[0;34m*\u001b[0m\u001b[0mnp\u001b[0m\u001b[0;34m.\u001b[0m\u001b[0mpi\u001b[0m\u001b[0;34m)\u001b[0m \u001b[0;34m*\u001b[0m \u001b[0msigma\u001b[0m\u001b[0;34m\u001b[0m\u001b[0;34m\u001b[0m\u001b[0m\n\u001b[0;32m---> 16\u001b[0;31m     \u001b[0;32mreturn\u001b[0m \u001b[0mamp\u001b[0m \u001b[0;34m*\u001b[0m \u001b[0mnp\u001b[0m\u001b[0;34m.\u001b[0m\u001b[0mexp\u001b[0m\u001b[0;34m(\u001b[0m\u001b[0;34m-\u001b[0m\u001b[0;34m(\u001b[0m\u001b[0mm1\u001b[0m \u001b[0;34m-\u001b[0m \u001b[0mmu\u001b[0m\u001b[0;34m)\u001b[0m \u001b[0;34m**\u001b[0m \u001b[0;36m2\u001b[0m \u001b[0;34m/\u001b[0m \u001b[0;34m(\u001b[0m\u001b[0;36m2\u001b[0m \u001b[0;34m*\u001b[0m \u001b[0msigma\u001b[0m\u001b[0;34m**\u001b[0m\u001b[0;36m2\u001b[0m\u001b[0;34m)\u001b[0m\u001b[0;34m)\u001b[0m \u001b[0;34m/\u001b[0m \u001b[0mA\u001b[0m\u001b[0;34m\u001b[0m\u001b[0;34m\u001b[0m\u001b[0m\n\u001b[0m\u001b[1;32m     17\u001b[0m     \u001b[0;31m# return stats.norm.pdf(m1, loc=mu, scale=sigma)\u001b[0m\u001b[0;34m\u001b[0m\u001b[0;34m\u001b[0m\u001b[0;34m\u001b[0m\u001b[0m\n\u001b[1;32m     18\u001b[0m \u001b[0;34m\u001b[0m\u001b[0m\n",
      "\u001b[0;31mKeyboardInterrupt\u001b[0m: "
     ]
    }
   ],
   "source": [
    "log_p_mmin_lam_0, m1_low_range_lam_0 = log_likelihood_mmin(m1_mu_sampled, m1_sigma_events, \\\n",
    "    m2_mu_sampled, m2_sigma_events,                                                       \n",
    "    alpha=alpha_inj, beta=beta_inj,\\\n",
    "    m1_low_min =m1_low_min, m1_low_max =m1_low_max, n_m1_low=n_m1_low,\\\n",
    "    m1_min_int = m1_low_min, m1_max_int=mmax_inj, n_m1_int=500, n_m2_int=500, \\\n",
    "    m1_max_pow=mmax_inj, \\\n",
    "    Ns=len(m1_mu_sampled), Nt=len(m1_mu_sampled))\n",
    "    \n",
    "    \n",
    "log_mmin_norm_lam_0 =log_p_mmin_lam_0 - np.max(log_p_mmin_lam_0)\n",
    "\n",
    "# Save likelihoods to file\n",
    "if save_likelihoods:\n",
    "    np.savetxt(fname_mmin_lam_0, log_mmin_norm_lam_0)"
   ]
  },
  {
   "cell_type": "code",
   "execution_count": null,
   "metadata": {},
   "outputs": [],
   "source": [
    "# Load likelihoods from file\n",
    "# log_mmin_norm_lam_0 = np.loadtxt(fname_mmin_lam_0)"
   ]
  },
  {
   "cell_type": "code",
   "execution_count": null,
   "metadata": {},
   "outputs": [],
   "source": [
    "# # 68% confidence interval assuming Normal Distribution\n",
    "# target_func = normal_dist\n",
    "# y, X = np.exp(log_mmin_norm_lam_0), m1_low_range_lam_0\n",
    "# popt, pcov = optimize.curve_fit(target_func, X, y, p0=[5.0, 0.6, 1.0])\n",
    "\n",
    "# mu_mmin = popt[0]\n",
    "# sig_mmin = popt[1]\n",
    "# print(popt)\n",
    "\n",
    "# bias_sigma = ((mu_mmin - mmin_inj)/sig_mmin)\n",
    "# print(rf\"Injected m1_min is {bias_sigma :.2f} sigma away\")"
   ]
  },
  {
   "cell_type": "code",
   "execution_count": null,
   "metadata": {},
   "outputs": [],
   "source": [
    "# 68% confidence interval using KDE\n",
    "med_mmin, sig_pos_mmin, sig_neg_mmin = get_cofidence_int_1d(log_mmin_norm_lam_0, m1_low_range_lam_0)\n",
    "\n",
    "print(f\"68% Confidence interval: {sig_neg_mmin}, {med_mmin}, {sig_pos_mmin}\")\n",
    "bias_sigma = (med_mmin-mmin_inj)/(sig_pos_mmin-med_mmin)\n",
    "print(rf\"Injected mmin is {bias_sigma:.3f} sigma away\")\n"
   ]
  },
  {
   "cell_type": "code",
   "execution_count": null,
   "metadata": {},
   "outputs": [],
   "source": [
    "# print(\"most likely m1_min (IN SOURCE FRAME) =\",mu_mmin)\n",
    "fig, axes = plt.subplots(nrows=1, ncols=2, figsize=(10, 5))\n",
    "\n",
    "axes[0].plot(m1_low_range_lam_0, log_mmin_norm_lam_0)\n",
    "axes[0].axvline(x=mmin_inj, color='k')\n",
    "axes[0].set_ylabel(\"log $p(m_{min}$)\")\n",
    "axes[0].set_xlabel(\"$m_{min}$\")\n",
    "axes[0].set_title(\"log-likelihood, $\\lambda$=0\")\n",
    "\n",
    "axes[1].scatter(m1_low_range_lam_0, np.exp(log_mmin_norm_lam_0))\n",
    "axes[1].axvline(x=mmin_inj, color='k')\n",
    "axes[1].set_ylabel(\"$p(m_{min}$)\")\n",
    "axes[1].set_xlabel(\"$m_{min}$\")\n",
    "axes[1].set_title(\"likelihood, $\\lambda$=0\")\n",
    "\n",
    "plt.suptitle(f\"m_min = {med_mmin:.2f}$^{{+{sig_pos_mmin-med_mmin:.3f}}}$ $_{{{sig_neg_mmin - med_mmin:.3f}}} \\,\\, M_\\odot$\", y=1.0)\n",
    "plt.tight_layout\n",
    "\n",
    "# plt.savefig(plotdir+f'N_{len(m1_mu_sampled)}_mmin_hyper_posterior_lam_0.pdf')\n",
    "plt.show()"
   ]
  },
  {
   "attachments": {},
   "cell_type": "markdown",
   "metadata": {},
   "source": [
    "### $\\lambda=1$, m_min posterior"
   ]
  },
  {
   "cell_type": "code",
   "execution_count": null,
   "metadata": {},
   "outputs": [],
   "source": [
    "# Calculate the requisite mu_m1, sigma_m1 for the Event Likelihoods\n",
    "m1_mu_sampled_biased, m1_sigma_events_biased = sample_m1_events(df_mc, df_eta, biased=True, bias_index=bias_index)\n",
    "m2_mu_sampled_biased, m2_sigma_events_biased = sample_m2_events(df_mc, df_eta, biased=True, bias_index=bias_index)"
   ]
  },
  {
   "cell_type": "code",
   "execution_count": null,
   "metadata": {},
   "outputs": [],
   "source": [
    "m1_low_min = 5.0\n",
    "m1_low_max= 5.3\n",
    "n_m1_low=20\n",
    "\n",
    "m1_low_range_lam_1 = np.linspace(m1_low_min, m1_low_max, n_m1_low)\n",
    "fname_mmin_lam_1 = f\"{likelihood_dir}/N_{len(m1_mu_sampled)}_mmin_{m1_low_min:.2f}_{m1_low_max:.2f}_n_{n_m1_low:.0f}_log_likelihoods_lam_1\"    "
   ]
  },
  {
   "cell_type": "code",
   "execution_count": null,
   "metadata": {},
   "outputs": [],
   "source": [
    "log_p_mmin_lam_1, m1_low_range_lam_1 = log_likelihood_mmin(m1_mu_sampled_biased, m1_sigma_events_biased, \\\n",
    "    m2_mu_sampled_biased, m2_sigma_events_biased,                                                       \n",
    "    alpha=alpha_inj, beta=beta_inj,\\\n",
    "    m1_low_min =m1_low_min, m1_low_max =m1_low_max, n_m1_low=n_m1_low,\\\n",
    "    m1_min_int = 4.9, m1_max_int=mmax_inj, n_m1_int=10000, \\\n",
    "    m1_max_pow=mmax_inj, \\\n",
    "    Ns=len(m1_mu_sampled), Nt=len(m1_mu_sampled))\n",
    "    \n",
    "    \n",
    "log_mmin_norm_lam_1 =log_p_mmin_lam_1 - np.max(log_p_mmin_lam_1)\n",
    "\n",
    "# Save likelihoods to file\n",
    "if save_likelihoods:   \n",
    "    np.savetxt(fname_mmin_lam_1, log_mmin_norm_lam_1)"
   ]
  },
  {
   "cell_type": "code",
   "execution_count": null,
   "metadata": {},
   "outputs": [],
   "source": [
    "# Load likelihoods from file\n",
    "# log_mmin_norm_lam_1 = np.loadtxt(fname_mmin_lam_1)"
   ]
  },
  {
   "cell_type": "code",
   "execution_count": null,
   "metadata": {},
   "outputs": [],
   "source": [
    "# # 68% confidence interval assuming Normal Distribution\n",
    "# target_func = normal_dist\n",
    "# y, X = np.exp(log_mmin_norm_lam_1), m1_low_range_lam_1\n",
    "# popt, pcov = optimize.curve_fit(target_func, X, y, p0=[5.0, 0.6, 1.0])\n",
    "\n",
    "# mu_mmin = popt[0]\n",
    "# sig_mmin = popt[1]\n",
    "# print(popt)\n",
    "\n",
    "# bias_sigma = ((mu_mmin - mmin_inj)/sig_mmin)\n",
    "# print(rf\"Injected m1_min is {bias_sigma :.2f} sigma away\")"
   ]
  },
  {
   "cell_type": "code",
   "execution_count": null,
   "metadata": {},
   "outputs": [],
   "source": [
    "# 68% confidence interval using KDE\n",
    "med_mmin, sig_pos_mmin, sig_neg_mmin = get_cofidence_int_1d(log_mmin_norm_lam_1, m1_low_range_lam_1)\n",
    "\n",
    "print(f\"68% Confidence interval: {sig_neg_mmin}, {med_mmin}, {sig_pos_mmin}\")\n",
    "bias_sigma = (med_mmin-mmin_inj)/(sig_pos_mmin-med_mmin)\n",
    "print(rf\"Injected mmin is {bias_sigma:.3f} sigma away\")\n"
   ]
  },
  {
   "cell_type": "code",
   "execution_count": null,
   "metadata": {},
   "outputs": [],
   "source": [
    "# print(\"most likely m1_min (IN SOURCE FRAME) =\",mu_mmin)\n",
    "fig, axes = plt.subplots(nrows=1, ncols=2, figsize=(10, 5))\n",
    "\n",
    "axes[0].plot(m1_low_range_lam_1, log_mmin_norm_lam_1)\n",
    "axes[0].axvline(x=mmin_inj, color='k')\n",
    "axes[0].set_ylabel(\"log $p(m_{min}$)\")\n",
    "axes[0].set_xlabel(\"$m_{min}$\")\n",
    "axes[0].set_title(\"log-likelihood, $\\lambda$=1\")\n",
    "\n",
    "axes[1].plot(m1_low_range_lam_1, np.exp(log_mmin_norm_lam_1))\n",
    "axes[1].axvline(x=mmin_inj, color='k')\n",
    "axes[1].set_ylabel(\"log $p(m_{min}$)\")\n",
    "axes[1].set_xlabel(\"$m_{min}$\")\n",
    "axes[1].set_title(\"likelihood, $\\lambda$=1\")\n",
    "\n",
    "plt.suptitle(f\"m_min = {med_mmin:.2f}$^{{+{sig_pos_mmin-med_mmin:.3f}}}$ $_{{{sig_neg_mmin - med_mmin:.3f}}} \\,\\, M_\\odot$\", y=1.0)\n",
    "# plt.savefig(plotdir+f'N_{len(m1_mu_sampled)}_mmin_hyper_posterior_lam_1.pdf')\n",
    "plt.tight_layout\n",
    "\n",
    "plt.show()"
   ]
  },
  {
   "attachments": {},
   "cell_type": "markdown",
   "metadata": {},
   "source": [
    "## m_min hyper posterior with Bivariate integrals"
   ]
  },
  {
   "cell_type": "code",
   "execution_count": 95,
   "metadata": {},
   "outputs": [],
   "source": [
    "def log_likelihood_mmin_2D(m1_mu_events, m2_mu_events, covariances, \\\n",
    "    alpha=-3.5, beta=-2.0,\\\n",
    "    m1_low_min = 3.0, m1_low_max = 7.0, n_m1_low=50,\\\n",
    "    m1_min_int=3.0, m1_max_int=200., n_m1_int=500, n_m2_int=200, \\\n",
    "    m1_max_pow=60., \\\n",
    "        Ns=len(df_mc[\"Mc\"]), Nt=len(df_mc[\"Mc\"])):\n",
    "\n",
    "    m1_low_range = np.linspace(m1_low_min, m1_low_max, n_m1_low)\n",
    "    log_likelihoods = np.zeros(n_m1_low)\n",
    "\n",
    "    m1_int_range = np.geomspace(m1_min_int, m1_max_int, n_m1_int)\n",
    "\n",
    "    integral_m2 = np.zeros((Nt, n_m1_int))\n",
    "    prior_m2 = np.zeros((n_m1_int, n_m1_int))\n",
    "\n",
    "    integrands = np.zeros((Nt, n_m1_int))\n",
    "\n",
    "    posteriors_m1 = np.zeros((Nt, n_m1_int))    \n",
    "\n",
    "    # for i in range(Nt):\n",
    "    #     posteriors_m1[i] = bivariate_normal_dist(m1_int_range, m2_mu_events[i], m1_mu_events[i], m2_mu_events[i], covariances[i])\n",
    "\n",
    "    for m1_low_index, m1_low in enumerate(m1_low_range):\n",
    "\n",
    "        prior_m1 = power(m1_int_range, alpha, m1_low, m1_max_pow)\n",
    "        prior_m1 = prior_m1 / integrate.trapezoid(prior_m1, m1_int_range)\n",
    "\n",
    "        for j, m1 in enumerate(m1_int_range):\n",
    "            m2_int_range = np.geomspace(m1_min_int, m1, n_m2_int)\n",
    "            prior_m2 = power(m2_int_range, beta, m1_low, m1)\n",
    "            norm_p2 = integrate.trapezoid(prior_m2, m2_int_range)\n",
    "            if norm_p2 != 0:\n",
    "                prior_m2 = prior_m2/norm_p2\n",
    "                \n",
    "            for i in range(Nt):\n",
    "                posteriors_m2 = bivariate_normal_dist(m1, m2_int_range, m1_mu_events[i], m2_mu_events[i], covariances[i])\n",
    "                integral_m2[i,j] = integrate.trapezoid(prior_m2 * posteriors_m2, m2_int_range)\n",
    "          \n",
    "        integrands = prior_m1*integral_m2 \n",
    "\n",
    "        integrals = integrate.trapezoid(integrands, m1_int_range, axis=1)\n",
    "        integrals = integrals[integrals!=0]\n",
    "        log_likelihoods[m1_low_index] = np.sum(np.log(integrals))\n",
    "\n",
    "        \n",
    "    return log_likelihoods, m1_low_range"
   ]
  },
  {
   "cell_type": "code",
   "execution_count": 96,
   "metadata": {},
   "outputs": [],
   "source": [
    "# def log_likelihood_mmin_2D(m1_range, m2_range, posteriors,\\\n",
    "#     alpha=-3.5, beta=0.0,\\\n",
    "#     m1_low_min = 3.0, m1_low_max = 7.0, n_m1_low=50,\\\n",
    "#     m1_max_pow=200., \\\n",
    "#         Ns=len(df_mc[\"Mc\"]), Nt=len(df_mc[\"Mc\"])):\n",
    "\n",
    "#     m1_low_range = np.linspace(m1_low_min, m1_low_max, n_m1_low)\n",
    "#     log_likelihoods = np.zeros(n_m1_low)\n",
    "\n",
    "    \n",
    "#     for m1_low_index in range(n_m1_low):\n",
    "#         m1_min_pow = m1_low_range[m1_low_index]\n",
    "        \n",
    "#         # set the prior on m2\n",
    "#         prior_m2_full = power(m2_range, beta, m1_min_pow, m1_range[-1])\n",
    "#         prior_m2 = np.tri(len(m1_range), len(m2_range)) * prior_m2_full\n",
    "#         norm = integrate.trapezoid(prior_m2, m2_range, axis=1)\n",
    "#         norm[np.where(norm==0)]=1.0\n",
    "#         prior_m2 = prior_m2 / norm[:, np.newaxis]\n",
    "\n",
    "#         # compute the integral over m2\n",
    "#         integrals_m2 = np.zeros((len(posteriors), len(m1_range)))\n",
    "#         for i in range(len(posteriors)): \n",
    "#             integrals_m2[i] = np.sum(np.dot(prior_m2 , np.transpose(posteriors[i])), axis=0)\n",
    "\n",
    "#         # # try without m2 prior\n",
    "#         # integrals_m2 = np.zeros((len(posteriors), len(m1_range)))\n",
    "#         # for i in range(len(posteriors)):\n",
    "#         #     integrals_m2[i] = integrate.trapezoid(posteriors[0], m2_range, axis=1)\n",
    "\n",
    "#         # set the prior on m1\n",
    "#         prior_m1 = power(m1_range, alpha, m1_min_pow, m1_max_pow)\n",
    "#         prior_m1 = prior_m1 / integrate.trapezoid(prior_m1, m1_range)\n",
    "\n",
    "#         # compute the integral over m1\n",
    "#         m1_integrand = prior_m1 * integrals_m2\n",
    "#         log_likelihoods[m1_low_index] = np.sum(np.log(integrate.trapezoid(m1_integrand, m1_range, axis=1)))\n",
    "        \n",
    "        \n",
    "#     return log_likelihoods, m1_low_range"
   ]
  },
  {
   "attachments": {},
   "cell_type": "markdown",
   "metadata": {},
   "source": [
    "### $\\lambda=0$, m_min posterior"
   ]
  },
  {
   "cell_type": "code",
   "execution_count": 97,
   "metadata": {},
   "outputs": [],
   "source": [
    "m1_low_min = 4.7\n",
    "m1_low_max = 5.3\n",
    "n_m1_low = 10\n",
    "\n",
    "m1_low_range_lam_0 = np.linspace(m1_low_min, m1_low_max, n_m1_low)\n",
    "# fname_mmin_lam_0 = f\"{likelihood_dir}/N_{len(m1_mu_sampled)}_mmin_{m1_low_min:.2f}_{m1_low_max:.2f}_n_{n_m1_low:.0f}_log_likelihoods_lam_0\"    "
   ]
  },
  {
   "cell_type": "code",
   "execution_count": 98,
   "metadata": {},
   "outputs": [],
   "source": [
    "# set the required data (takes ~ 1 min for 1000 events)\n",
    "m1_mu_detections, m2_mu_detections,  m1_variance, m2_variance, m1_m2_covariance = sample_m1_m2_events(df_mc[:400], df_eta[:400], injected=False)\n",
    "covariances = np.zeros((len(m1_mu_detections), 2,2))\n",
    "\n",
    "for i in range(len(m1_mu_detections)):\n",
    "    covariances[i] =  [[m1_variance[i], m1_m2_covariance[i]], [m1_m2_covariance[i], m2_variance[i]]]"
   ]
  },
  {
   "cell_type": "code",
   "execution_count": 99,
   "metadata": {},
   "outputs": [
    {
     "name": "stderr",
     "output_type": "stream",
     "text": [
      "/opt/anaconda3/envs/gwbench/lib/python3.7/site-packages/ipykernel_launcher.py:6: RuntimeWarning: divide by zero encountered in double_scalars\n",
      "  \n"
     ]
    }
   ],
   "source": [
    "log_p_mmin_lam_0, m1_low_range_lam_0 = log_likelihood_mmin_2D(m1_mu_detections, m2_mu_detections, covariances, \\\n",
    "    alpha=alpha_inj, beta=beta_inj,\\\n",
    "    m1_low_min=m1_low_min, m1_low_max=m1_low_max, n_m1_low=n_m1_low,\\\n",
    "    m1_min_int=m1_low_min, m1_max_int=60., n_m1_int=300, n_m2_int=300, \\\n",
    "    m1_max_pow=mmax_inj, \\\n",
    "    Ns=len(m1_mu_detections), Nt=len(m1_mu_detections))\n",
    "    \n",
    "log_mmin_norm_lam_0 =log_p_mmin_lam_0 - np.max(log_p_mmin_lam_0)\n"
   ]
  },
  {
   "cell_type": "code",
   "execution_count": 100,
   "metadata": {},
   "outputs": [
    {
     "ename": "ValueError",
     "evalue": "x and y arrays must have at least 2 entries",
     "output_type": "error",
     "traceback": [
      "\u001b[0;31m---------------------------------------------------------------------------\u001b[0m",
      "\u001b[0;31mValueError\u001b[0m                                Traceback (most recent call last)",
      "\u001b[0;32m/var/folders/wj/l7fs8hg555n8nzz7myk9cysw0000gn/T/ipykernel_18812/838631910.py\u001b[0m in \u001b[0;36m<module>\u001b[0;34m\u001b[0m\n\u001b[1;32m      1\u001b[0m \u001b[0;31m# 68% confidence interval using KDE\u001b[0m\u001b[0;34m\u001b[0m\u001b[0;34m\u001b[0m\u001b[0;34m\u001b[0m\u001b[0m\n\u001b[0;32m----> 2\u001b[0;31m \u001b[0mmed_mmin\u001b[0m\u001b[0;34m,\u001b[0m \u001b[0msig_pos_mmin\u001b[0m\u001b[0;34m,\u001b[0m \u001b[0msig_neg_mmin\u001b[0m \u001b[0;34m=\u001b[0m \u001b[0mget_cofidence_int_1d\u001b[0m\u001b[0;34m(\u001b[0m\u001b[0mlog_mmin_norm_lam_0\u001b[0m\u001b[0;34m,\u001b[0m \u001b[0mm1_low_range_lam_0\u001b[0m\u001b[0;34m)\u001b[0m\u001b[0;34m\u001b[0m\u001b[0;34m\u001b[0m\u001b[0m\n\u001b[0m\u001b[1;32m      3\u001b[0m \u001b[0;34m\u001b[0m\u001b[0m\n\u001b[1;32m      4\u001b[0m \u001b[0mprint\u001b[0m\u001b[0;34m(\u001b[0m\u001b[0;34mf\"68% Confidence interval: {sig_neg_mmin}, {med_mmin}, {sig_pos_mmin}\"\u001b[0m\u001b[0;34m)\u001b[0m\u001b[0;34m\u001b[0m\u001b[0;34m\u001b[0m\u001b[0m\n\u001b[1;32m      5\u001b[0m \u001b[0mbias_sigma\u001b[0m \u001b[0;34m=\u001b[0m \u001b[0;34m(\u001b[0m\u001b[0mmed_mmin\u001b[0m\u001b[0;34m-\u001b[0m\u001b[0mmmin_inj\u001b[0m\u001b[0;34m)\u001b[0m\u001b[0;34m/\u001b[0m\u001b[0;34m(\u001b[0m\u001b[0msig_pos_mmin\u001b[0m\u001b[0;34m-\u001b[0m\u001b[0mmed_mmin\u001b[0m\u001b[0;34m)\u001b[0m\u001b[0;34m\u001b[0m\u001b[0;34m\u001b[0m\u001b[0m\n",
      "\u001b[0;32m/var/folders/wj/l7fs8hg555n8nzz7myk9cysw0000gn/T/ipykernel_18812/3835354442.py\u001b[0m in \u001b[0;36mget_cofidence_int_1d\u001b[0;34m(log_norm, range)\u001b[0m\n\u001b[1;32m      8\u001b[0m     \u001b[0mindex_max\u001b[0m \u001b[0;34m=\u001b[0m \u001b[0mnp\u001b[0m\u001b[0;34m.\u001b[0m\u001b[0mwhere\u001b[0m\u001b[0;34m(\u001b[0m\u001b[0mcdf_likelihood\u001b[0m \u001b[0;34m==\u001b[0m \u001b[0mnp\u001b[0m\u001b[0;34m.\u001b[0m\u001b[0mmax\u001b[0m\u001b[0;34m(\u001b[0m\u001b[0mcdf_likelihood\u001b[0m\u001b[0;34m)\u001b[0m\u001b[0;34m)\u001b[0m\u001b[0;34m[\u001b[0m\u001b[0;36m0\u001b[0m\u001b[0;34m]\u001b[0m\u001b[0;34m[\u001b[0m\u001b[0;36m0\u001b[0m\u001b[0;34m]\u001b[0m\u001b[0;34m\u001b[0m\u001b[0;34m\u001b[0m\u001b[0m\n\u001b[1;32m      9\u001b[0m \u001b[0;34m\u001b[0m\u001b[0m\n\u001b[0;32m---> 10\u001b[0;31m     \u001b[0minv_cdf_interp\u001b[0m \u001b[0;34m=\u001b[0m \u001b[0minterpolate\u001b[0m\u001b[0;34m.\u001b[0m\u001b[0minterp1d\u001b[0m\u001b[0;34m(\u001b[0m\u001b[0mcdf_likelihood\u001b[0m\u001b[0;34m[\u001b[0m\u001b[0mindex_min\u001b[0m\u001b[0;34m:\u001b[0m\u001b[0mindex_max\u001b[0m\u001b[0;34m]\u001b[0m\u001b[0;34m,\u001b[0m \u001b[0mrange\u001b[0m\u001b[0;34m[\u001b[0m\u001b[0mindex_min\u001b[0m\u001b[0;34m:\u001b[0m\u001b[0mindex_max\u001b[0m\u001b[0;34m]\u001b[0m\u001b[0;34m,\u001b[0m \u001b[0mfill_value\u001b[0m\u001b[0;34m=\u001b[0m\u001b[0;34m\"extrapolate\"\u001b[0m\u001b[0;34m)\u001b[0m\u001b[0;34m\u001b[0m\u001b[0;34m\u001b[0m\u001b[0m\n\u001b[0m\u001b[1;32m     11\u001b[0m \u001b[0;34m\u001b[0m\u001b[0m\n\u001b[1;32m     12\u001b[0m \u001b[0;34m\u001b[0m\u001b[0m\n",
      "\u001b[0;32m/opt/anaconda3/envs/gwbench/lib/python3.7/site-packages/scipy/interpolate/interpolate.py\u001b[0m in \u001b[0;36m__init__\u001b[0;34m(***failed resolving arguments***)\u001b[0m\n\u001b[1;32m    560\u001b[0m         \u001b[0;32mif\u001b[0m \u001b[0mlen\u001b[0m\u001b[0;34m(\u001b[0m\u001b[0mself\u001b[0m\u001b[0;34m.\u001b[0m\u001b[0mx\u001b[0m\u001b[0;34m)\u001b[0m \u001b[0;34m<\u001b[0m \u001b[0mminval\u001b[0m\u001b[0;34m:\u001b[0m\u001b[0;34m\u001b[0m\u001b[0;34m\u001b[0m\u001b[0m\n\u001b[1;32m    561\u001b[0m             raise ValueError(\"x and y arrays must have at \"\n\u001b[0;32m--> 562\u001b[0;31m                              \"least %d entries\" % minval)\n\u001b[0m\u001b[1;32m    563\u001b[0m \u001b[0;34m\u001b[0m\u001b[0m\n\u001b[1;32m    564\u001b[0m     \u001b[0;34m@\u001b[0m\u001b[0mproperty\u001b[0m\u001b[0;34m\u001b[0m\u001b[0;34m\u001b[0m\u001b[0m\n",
      "\u001b[0;31mValueError\u001b[0m: x and y arrays must have at least 2 entries"
     ]
    }
   ],
   "source": [
    "# 68% confidence interval using KDE\n",
    "med_mmin, sig_pos_mmin, sig_neg_mmin = get_cofidence_int_1d(log_mmin_norm_lam_0, m1_low_range_lam_0)\n",
    "\n",
    "print(f\"68% Confidence interval: {sig_neg_mmin}, {med_mmin}, {sig_pos_mmin}\")\n",
    "bias_sigma = (med_mmin-mmin_inj)/(sig_pos_mmin-med_mmin)\n",
    "print(rf\"Injected mmin is {bias_sigma:.3f} sigma away\")"
   ]
  },
  {
   "cell_type": "code",
   "execution_count": 101,
   "metadata": {},
   "outputs": [
    {
     "data": {
      "image/png": "[encoded data removed]",
      "text/plain": [
       "<Figure size 720x360 with 2 Axes>"
      ]
     },
     "metadata": {
      "needs_background": "light"
     },
     "output_type": "display_data"
    }
   ],
   "source": [
    "# print(\"most likely m1_min (IN SOURCE FRAME) =\",mu_mmin)\n",
    "fig, axes = plt.subplots(nrows=1, ncols=2, figsize=(10, 5))\n",
    "\n",
    "axes[0].scatter(m1_low_range_lam_0, log_mmin_norm_lam_0)\n",
    "axes[0].axvline(x=mmin_inj, color='k')\n",
    "axes[0].set_ylabel(\"log $p(m_{min}$)\")\n",
    "axes[0].set_xlabel(\"$m_{min}$\")\n",
    "axes[0].set_title(\"log-likelihood, $\\lambda$=0\")\n",
    "\n",
    "axes[1].scatter(m1_low_range_lam_0, np.exp(log_mmin_norm_lam_0))\n",
    "axes[1].axvline(x=mmin_inj, color='k')\n",
    "axes[1].set_ylabel(\"$p(m_{min}$)\")\n",
    "axes[1].set_xlabel(\"$m_{min}$\")\n",
    "axes[1].set_title(\"likelihood, $\\lambda$=0\")\n",
    "\n",
    "plt.suptitle(f\"m_min = {med_mmin:.2f}$^{{+{sig_pos_mmin-med_mmin:.3f}}}$ $_{{{sig_neg_mmin - med_mmin:.3f}}} \\,\\, M_\\odot$\", y=1.0)\n",
    "plt.tight_layout\n",
    "\n",
    "# plt.savefig(plotdir+f'N_{len(m1_mu_sampled)}_mmin_hyper_posterior_lam_0.pdf')\n",
    "plt.show()"
   ]
  },
  {
   "attachments": {},
   "cell_type": "markdown",
   "metadata": {},
   "source": [
    "## m_max hyper-posterior"
   ]
  },
  {
   "cell_type": "code",
   "execution_count": null,
   "metadata": {},
   "outputs": [],
   "source": [
    "def log_likelihood_mmax(m1_mu_events, m1_sigma_events, \\\n",
    "    alpha=alpha_inj, \\\n",
    "    m1_high_min = 93.0, m1_high_max = 107., n_m1_high=10,\\\n",
    "    m1_min_int=5., m1_max_int=100., n_m1_int=20000, \\\n",
    "    m1_min_pow=5., \\\n",
    "    Ns=len(df_mc[\"Mc\"]), Nt=len(df_mc[\"Mc\"])):\n",
    "    \n",
    "    m1_max_int=m1_high_max\n",
    "    \n",
    "    m1_high_range = np.linspace(m1_high_min, m1_high_max, n_m1_high)\n",
    "    log_likelihoods = np.zeros(n_m1_high)\n",
    "\n",
    "    m1_int_range = np.linspace(m1_min_int, m1_max_int, n_m1_int)\n",
    "\n",
    "    posteriors = np.zeros((Nt, n_m1_int))\n",
    "    for i in range(Nt):\n",
    "        posteriors[i] = normal_dist(m1_int_range, m1_mu_events[i], m1_sigma_events[i])\n",
    "\n",
    "    for m1_high_index in range(n_m1_high):\n",
    "        m1_max_pow = m1_high_range[m1_high_index]\n",
    "        prior = power(m1_int_range, alpha, m1_min_pow, m1_max_pow)\n",
    "        log_likelihoods[m1_high_index] = log_integral(prior, posteriors, m1_int_range)\n",
    "            \n",
    "        \n",
    "    return log_likelihoods, m1_high_range"
   ]
  },
  {
   "attachments": {},
   "cell_type": "markdown",
   "metadata": {},
   "source": [
    "### $\\lambda=0$, m_max posterior"
   ]
  },
  {
   "cell_type": "code",
   "execution_count": null,
   "metadata": {},
   "outputs": [],
   "source": [
    "# Calculate the requisite mu_m1, sigma_m1 for the Event Likelihoods\n",
    "m1_mu_sampled, m1_sigma_events = sample_m1_events(df_mc, df_eta, biased=False)"
   ]
  },
  {
   "cell_type": "code",
   "execution_count": null,
   "metadata": {},
   "outputs": [],
   "source": [
    "m1_high_min = mmax_inj - 20.\n",
    "m1_high_max= mmax_inj + 40.\n",
    "n_m1_high=50\n",
    "\n",
    "m1_high_range_lam_0 = np.linspace(m1_high_min, m1_high_max, n_m1_high)\n",
    "fname_mmax_lam_0 = f\"{likelihood_dir}/N_{len(m1_mu_sampled)}_mmax_{m1_high_min:.2f}_{m1_high_max:.2f}_n_{n_m1_high:.0f}_log_likelihoods_lam_0\"    "
   ]
  },
  {
   "cell_type": "code",
   "execution_count": null,
   "metadata": {},
   "outputs": [],
   "source": [
    "log_p_mmax_lam_0, m1_high_range_lam_0 = log_likelihood_mmax(m1_mu_sampled, m1_sigma_events, \\\n",
    "    alpha=alpha_inj,\n",
    "    m1_high_min =m1_high_min, m1_high_max =m1_high_max, n_m1_high=n_m1_high,\\\n",
    "    m1_min_int=mmin_inj, n_m1_int=10000, \\\n",
    "    m1_min_pow=mmin_inj, \\\n",
    "    Ns=len(m1_mu_sampled), Nt=len(m1_mu_sampled))\n",
    "    \n",
    "    \n",
    "log_mmax_norm_lam_0 =log_p_mmax_lam_0 - np.max(log_p_mmax_lam_0)\n",
    "\n",
    "# # Save likelihoods to file\n",
    "if save_likelihoods:   \n",
    "    np.savetxt(fname_mmax_lam_0, log_mmax_norm_lam_0)"
   ]
  },
  {
   "cell_type": "code",
   "execution_count": null,
   "metadata": {},
   "outputs": [],
   "source": [
    "# # Load likelihoods from file\n",
    "# log_mmax_norm_lam_0 = np.loadtxt(fname_mmax_lam_0)"
   ]
  },
  {
   "cell_type": "code",
   "execution_count": null,
   "metadata": {},
   "outputs": [],
   "source": [
    "# 68% confidence interval assuming Normal Distribution\n",
    "target_func = normal_dist\n",
    "y, X = np.exp(log_mmax_norm_lam_0), m1_high_range_lam_0\n",
    "popt, pcov = optimize.curve_fit(target_func, X, y, p0=[60., 0.6, 1.0])\n",
    "\n",
    "mu_mmax = popt[0]\n",
    "sig_mmax = popt[1]\n",
    "print(popt)\n",
    "\n",
    "bias_sigma = ((mu_mmax - mmax_inj)/sig_mmax)\n",
    "print(rf\"Injected m1_max is {bias_sigma :.2f} sigma away\")"
   ]
  },
  {
   "cell_type": "code",
   "execution_count": null,
   "metadata": {},
   "outputs": [],
   "source": [
    "med_mmax, sig_pos_mmax, sig_neg_mmax = get_cofidence_int_1d(log_mmax_norm_lam_0, m1_high_range_lam_0)\n",
    "\n",
    "print(f\"68% Confidence interval: {sig_neg_mmax}, {med_mmax}, {sig_pos_mmax}\")\n",
    "bias_sigma = (med_mmax-mmax_inj)/(sig_pos_mmax-med_mmax)\n",
    "print(rf\"Injected mmin is {bias_sigma:.3f} sigma away\")\n"
   ]
  },
  {
   "cell_type": "code",
   "execution_count": null,
   "metadata": {},
   "outputs": [],
   "source": [
    "print(\"most likely m1_max (IN SOURCE FRAME) =\",mu_mmax)\n",
    "fig, axes = plt.subplots(nrows=1, ncols=2, figsize=(10, 5))\n",
    "\n",
    "axes[0].plot(m1_high_range_lam_0, log_mmax_norm_lam_0)\n",
    "axes[0].axvline(x=mmax_inj, color='k')\n",
    "axes[0].set_ylabel(\"log $p(m_{max}$)\")\n",
    "axes[0].set_xlabel(\"$m_{max}$\")\n",
    "axes[0].set_title(\"log-likelihood, $\\lambda$=0\")\n",
    "\n",
    "axes[1].plot(m1_high_range_lam_0, np.exp(log_mmax_norm_lam_0))\n",
    "axes[1].axvline(x=mmax_inj, color='k')\n",
    "axes[1].set_ylabel(\"log $p(m_{max}$)\")\n",
    "axes[1].set_xlabel(\"$m_{max}$\")\n",
    "axes[1].set_title(\"likelihood, $\\lambda$=0\")\n",
    "\n",
    "plt.suptitle(f\"m_max = {med_mmax:.2f}$^{{+{sig_pos_mmax-med_mmax:.3f}}}$ $_{{{sig_neg_mmax - med_mmax:.3f}}} \\,\\, M_\\odot$\", y=1.0)\n",
    "plt.tight_layout\n",
    "\n",
    "# plt.savefig(plotdir+f'N_{len(m1_mu_sampled)}_mmax_hyper_posterior_lam_0.pdf')\n",
    "plt.show()"
   ]
  },
  {
   "attachments": {},
   "cell_type": "markdown",
   "metadata": {},
   "source": [
    "### $\\lambda=1$, m_max posterior"
   ]
  },
  {
   "cell_type": "code",
   "execution_count": null,
   "metadata": {},
   "outputs": [],
   "source": [
    "# Calculate the requisite mu_m1, sigma_m1 for the Event Likelihoods\n",
    "m1_mu_sampled_biased, m1_sigma_events_biased = sample_m1_events(df_mc, df_eta, biased=True, bias_index=bias_index)"
   ]
  },
  {
   "cell_type": "code",
   "execution_count": null,
   "metadata": {},
   "outputs": [],
   "source": [
    "# mask = (m1_mu_sampled_biased>50)\n",
    "# print((m1_mu_sampled_biased)[mask])\n",
    "# # df_mc[mask][\"bias_19\"]/ (df_mc[mask][\"z\"]+1)\n",
    "# # df_mc[mask][\"Mc_stat_err\"]\n",
    "# # df_mc[mask]\n",
    "\n",
    "# m1 = np.linspace(5, 250, 500)\n",
    "# for i in range(np.sum(mask)):\n",
    "#     m1_mu = m1_mu_sampled_biased[mask][i]\n",
    "#     m1_sig = m1_sigma_events_biased[mask][i]\n",
    "#     plt.plot(m1, stats.norm.pdf(m1, loc=m1_mu, scale=m1_sig))"
   ]
  },
  {
   "cell_type": "code",
   "execution_count": null,
   "metadata": {},
   "outputs": [],
   "source": [
    "np.max(m1_mu_sampled_biased)"
   ]
  },
  {
   "cell_type": "code",
   "execution_count": null,
   "metadata": {},
   "outputs": [],
   "source": [
    "m1_high_min = mmax_inj - 20.0\n",
    "m1_high_max= mmax_inj + 100.\n",
    "n_m1_high = 50\n",
    "\n",
    "m1_high_range_lam_1 = np.linspace(m1_high_min, m1_high_max, n_m1_high)\n",
    "fname_mmax_lam_1 = f\"{likelihood_dir}/N_{len(m1_mu_sampled)}_mmax_{m1_high_min:.2f}_{m1_high_max:.2f}_n_{n_m1_high:.0f}_log_likelihoods_lam_1\"    "
   ]
  },
  {
   "cell_type": "code",
   "execution_count": null,
   "metadata": {},
   "outputs": [],
   "source": [
    "log_p_mmax_lam_1, m1_high_range_lam_1 = log_likelihood_mmax(m1_mu_sampled_biased, m1_sigma_events_biased, \\\n",
    "    alpha=alpha_inj,\n",
    "    m1_high_min=m1_high_min, m1_high_max=m1_high_max, n_m1_high=n_m1_high,\\\n",
    "    m1_min_int=mmin_inj, m1_max_int=300., n_m1_int=10000, \\\n",
    "    m1_min_pow=mmin_inj, \\\n",
    "    Ns=len(m1_mu_sampled_biased), Nt=len(m1_mu_sampled_biased))\n",
    "    \n",
    "    \n",
    "log_mmax_norm_lam_1 =log_p_mmax_lam_1 - np.max(log_p_mmax_lam_1)\n",
    "\n",
    "# # Save likelihoods to file\n",
    "if save_likelihoods:   \n",
    "    np.savetxt(fname_mmax_lam_1, log_mmax_norm_lam_1)"
   ]
  },
  {
   "cell_type": "code",
   "execution_count": null,
   "metadata": {},
   "outputs": [],
   "source": [
    "# # Load likelihoods from file\n",
    "# log_mmax_norm_lam_1 = np.loadtxt(fname_mmax_lam_1)"
   ]
  },
  {
   "cell_type": "code",
   "execution_count": null,
   "metadata": {},
   "outputs": [],
   "source": [
    "# 68% confidence interval assuming Normal Distribution\n",
    "target_func = normal_dist\n",
    "y, X = np.exp(log_mmax_norm_lam_1), m1_high_range_lam_1\n",
    "popt, pcov = optimize.curve_fit(target_func, X, y, p0=[60., 0.6, 1.0])\n",
    "\n",
    "mu_mmax = popt[0]\n",
    "sig_mmax = popt[1]\n",
    "print(popt)\n",
    "\n",
    "bias_sigma = ((mu_mmax - mmax_inj)/sig_mmax)\n",
    "print(rf\"Injected m1_max is {bias_sigma :.2f} sigma away\")"
   ]
  },
  {
   "cell_type": "code",
   "execution_count": null,
   "metadata": {},
   "outputs": [],
   "source": [
    "med_mmax, sig_pos_mmax, sig_neg_mmax = get_cofidence_int_1d(log_mmax_norm_lam_1, m1_high_range_lam_1)\n",
    "\n",
    "print(f\"68% Confidence interval: {sig_neg_mmax}, {med_mmax}, {sig_pos_mmax}\")\n",
    "bias_sigma = (med_mmax-mmax_inj)/(sig_pos_mmax-med_mmax)\n",
    "print(rf\"Injected mmin is {bias_sigma:.3f} sigma away\")\n"
   ]
  },
  {
   "cell_type": "code",
   "execution_count": null,
   "metadata": {},
   "outputs": [],
   "source": [
    "# print(f\"most likely m1_max (IN SOURCE FRAME) = {m1_high_range_lam_1[np.argmax(log_mmax_norm_lam_1)]:.3f}\")\n",
    "fig, axes = plt.subplots(nrows=1, ncols=2, figsize=(10, 5))\n",
    "\n",
    "axes[0].plot(m1_high_range_lam_1, log_mmax_norm_lam_1)\n",
    "axes[0].axvline(x=mmax_inj, color='k')\n",
    "axes[0].set_ylabel(\"log $p(m_{max}$)\")\n",
    "axes[0].set_xlabel(\"$m_{max}$\")\n",
    "axes[0].set_title(\"log-likelihood, $\\lambda$=1\")\n",
    "\n",
    "axes[1].plot(m1_high_range_lam_1, np.exp(log_mmax_norm_lam_1))\n",
    "axes[1].axvline(x=mmax_inj, color='k')\n",
    "axes[1].set_ylabel(\"log $p(m_{max}$)\")\n",
    "axes[1].set_xlabel(\"$m_{max}$\")\n",
    "axes[1].set_title(\"likelihood, $\\lambda$=1\")\n",
    "\n",
    "plt.suptitle(f\"m_max = {med_mmax:.2f}$^{{+{sig_pos_mmax-med_mmax:.3f}}}$ $_{{{sig_neg_mmax - med_mmax:.3f}}} \\,\\, M_\\odot$\", y=1.0)\n",
    "\n",
    "# plt.savefig(plotdir+f'N_{len(m1_mu_sampled)}_mmax_hyper_posterior_lam_1.pdf')\n",
    "plt.tight_layout\n",
    "\n",
    "plt.show()"
   ]
  },
  {
   "cell_type": "code",
   "execution_count": null,
   "metadata": {},
   "outputs": [],
   "source": [
    "bins = np.geomspace(5, 400, 30)\n",
    "\n",
    "y, X = np.histogram(m1_mu_sampled_biased, bins=bins, density=True)\n",
    "X = X[:-1]\n",
    "# plt.plot(X, y)\n",
    "# plt.loglog()\n",
    "\n",
    "\n",
    "\n",
    "plt.figure(figsize=(10, 5))\n",
    "plt.plot(X, power(X,  alpha_inj, mmin_inj, med_mmax), '--', label='Best-Fit')\n",
    "\n",
    "plt.plot(X, power(X,  alpha_inj, mmin_inj, mmax_inj), '--', label='Simulated')\n",
    "\n",
    "plt.plot(X, y, 'ro', label='Data')\n",
    "plt.xlabel(\"m1\")\n",
    "plt.loglog()\n",
    "plt.legend()\n",
    "\n",
    "# plt.xlim(30, 70)\n",
    "\n",
    "plt.show()"
   ]
  },
  {
   "attachments": {},
   "cell_type": "markdown",
   "metadata": {},
   "source": [
    "## beta hyper-posterior"
   ]
  },
  {
   "cell_type": "code",
   "execution_count": 31,
   "metadata": {},
   "outputs": [],
   "source": [
    "def log_likelihood_beta(m1_mu_events, m2_mu_events, covariances, \\\n",
    "    beta_min=-3.5, beta_max=1.0, n_beta=30, \\\n",
    "    alpha=alpha_inj, \\\n",
    "    m1_min_pow=mmin_inj, m1_max_pow=mmax_inj,\\\n",
    "    m1_min_int = 5.0, m1_max_int=60., n_m1_int=10000, n_m2_int = 100,\\\n",
    "    Ns=len(df_mc[\"Mc\"]), Nt=len(df_mc[\"Mc\"])):\n",
    "    \n",
    "    m_int_range = np.geomspace(m1_min_int, m1_max_int, n_m1_int)\n",
    "    \n",
    "    beta_range = np.linspace(beta_min, beta_max, n_beta)\n",
    "    log_p_beta = np.zeros(n_beta)\n",
    "\n",
    "    # priors_m2 = np.zeros((n_m1_int, n_m1_int))\n",
    "\n",
    "    integrand_m2 = np.zeros((Nt, n_m1_int))\n",
    "\n",
    "    prior_m1 = power(m_int_range, alpha, m1_min_pow, m1_max_pow)\n",
    "    prior_m1 = prior_m1 / integrate.trapezoid(prior_m1, m_int_range)\n",
    "\n",
    "    for b in range(n_beta):\n",
    "        beta = beta_range[b]\n",
    "\n",
    "        for j in range(n_m1_int):\n",
    "            m2_int_range = np.linspace(m1_min_int, m_int_range[j], n_m2_int)\n",
    "            priors_m2 = power(m2_int_range, beta, m1_min_pow, m_int_range[j])\n",
    "            for i in range(Nt):\n",
    "                posteriors_m2 = bivariate_normal_dist(m_int_range[j], m2_int_range, m1_mu_events[i], m2_mu_events[i], covariances[i])\n",
    "                integrand_m2[i,j] = integrate.trapezoid(priors_m2 * posteriors_m2, m2_int_range)\n",
    "          \n",
    "        # integrand_m2 = jax.numpy.matmul(priors_m2, posteriors_m2.T).T\n",
    "\n",
    "        integrands = prior_m1*integrand_m2       \n",
    "\n",
    "        integrals = integrate.trapezoid(integrands, m_int_range, axis=1)\n",
    "        integrals = integrals[integrals!=0]\n",
    "        log_p_beta[b] = np.sum(np.log(integrals))\n",
    "        \n",
    "    return log_p_beta, beta_range\n"
   ]
  },
  {
   "cell_type": "code",
   "execution_count": 32,
   "metadata": {},
   "outputs": [],
   "source": [
    "save_likelihoods=False"
   ]
  },
  {
   "attachments": {},
   "cell_type": "markdown",
   "metadata": {},
   "source": [
    "### $\\lambda=0$, beta posterior"
   ]
  },
  {
   "cell_type": "code",
   "execution_count": 33,
   "metadata": {},
   "outputs": [],
   "source": [
    "# # Calculate the requisite mu_m1, sigma_m1 for the Event Likelihoods\n",
    "# m1_mu_sampled, m1_sigma_events = sample_m1_events(df_mc, df_eta, biased=False, injected=True)\n",
    "# m2_mu_sampled, m2_sigma_events = sample_m2_events(df_mc, df_eta, biased=False, injected=True)\n",
    "\n",
    "# set the required data \n",
    "m1_mu_detections, m2_mu_detections,  m1_variance, m2_variance, m1_m2_covariance = sample_m1_m2_events(df_mc[:300], df_eta[:300], injected=True)\n",
    "covariances = np.zeros((len(m1_mu_detections), 2,2))\n",
    "\n",
    "for i in range(len(m1_mu_detections)):\n",
    "    covariances[i] =  [[m1_variance[i], m1_m2_covariance[i]], [m1_m2_covariance[i], m2_variance[i]]]"
   ]
  },
  {
   "cell_type": "code",
   "execution_count": 34,
   "metadata": {},
   "outputs": [],
   "source": [
    "beta_min = beta_inj-1.25\n",
    "beta_max = beta_inj+1.25\n",
    "\n",
    "n_beta = 10\n",
    "\n",
    "beta_range_lam_0 = np.linspace(beta_min, beta_max, n_beta)\n",
    "# fname_beta_lam_0 = f\"{likelihood_dir}/N_{len(m1_mu_sampled)}_beta_{beta_min:.2f}_{beta_max:.2f}_n_{n_beta:.0f}_log_likelihoods_lam_0\"    "
   ]
  },
  {
   "cell_type": "code",
   "execution_count": 35,
   "metadata": {},
   "outputs": [
    {
     "name": "stderr",
     "output_type": "stream",
     "text": [
      "/opt/anaconda3/envs/gwbench/lib/python3.7/site-packages/ipykernel_launcher.py:6: RuntimeWarning: divide by zero encountered in double_scalars\n",
      "  \n"
     ]
    }
   ],
   "source": [
    "log_p_beta_lam_0_src, beta_range_lam_0 = log_likelihood_beta(m1_mu_detections, m2_mu_detections, covariances,      \n",
    "    beta_min=beta_min, beta_max=beta_max, n_beta=n_beta, \\\n",
    "    alpha=alpha_inj, \\\n",
    "    m1_min_pow=mmin_inj, m1_max_pow=mmax_inj,\\\n",
    "    m1_min_int = mmin_inj, m1_max_int=60.0, n_m1_int=300, n_m2_int=400, \\\n",
    "    Ns=len(m1_mu_detections), Nt=len(m1_mu_detections))\n",
    "\n",
    "log_beta_norm_lam_0 =log_p_beta_lam_0_src - np.max(log_p_beta_lam_0_src)\n",
    "\n",
    "# if save_likelihoods:\n",
    "#     np.savetxt(fname_beta_lam_0, log_beta_norm_lam_0)"
   ]
  },
  {
   "cell_type": "code",
   "execution_count": 36,
   "metadata": {},
   "outputs": [
    {
     "name": "stdout",
     "output_type": "stream",
     "text": [
      "68% Confidence interval: -0.8485828610364723, -0.4369563461731191, -0.0006466013677253746\n",
      "Injected beta is -1.001 sigma away\n"
     ]
    }
   ],
   "source": [
    "# 68% confidence interval using KDE\n",
    "med_beta, sig_pos_beta, sig_neg_beta = get_cofidence_int_1d(log_beta_norm_lam_0, beta_range_lam_0)\n",
    "\n",
    "print(f\"68% Confidence interval: {sig_neg_beta}, {med_beta}, {sig_pos_beta}\")\n",
    "bias_sigma = (med_beta-beta_inj)/(sig_pos_beta-med_beta)\n",
    "print(rf\"Injected beta is {bias_sigma:.3f} sigma away\")\n"
   ]
  },
  {
   "cell_type": "code",
   "execution_count": 37,
   "metadata": {},
   "outputs": [
    {
     "name": "stdout",
     "output_type": "stream",
     "text": [
      "most likely beta (IN SOURCE FRAME) = -0.4369563461731191\n"
     ]
    },
    {
     "data": {
      "image/png": "[encoded data removed]",
      "text/plain": [
       "<Figure size 720x360 with 2 Axes>"
      ]
     },
     "metadata": {
      "needs_background": "light"
     },
     "output_type": "display_data"
    }
   ],
   "source": [
    "print(\"most likely beta (IN SOURCE FRAME) =\",med_beta)\n",
    "fig, axes = plt.subplots(nrows=1, ncols=2, figsize=(10, 5))\n",
    "\n",
    "axes[0].plot(beta_range_lam_0, log_beta_norm_lam_0)\n",
    "axes[0].axvline(x=beta_inj, color='k')\n",
    "axes[0].set_ylabel(\"log $p(\\\\beta$)\")\n",
    "axes[0].set_xlabel(\"$\\\\beta$\")\n",
    "axes[0].set_title(\"log-likelihood, $\\lambda$=0\")\n",
    "\n",
    "axes[1].scatter(beta_range_lam_0, np.exp(log_beta_norm_lam_0))\n",
    "axes[1].axvline(x=beta_inj, color='k')\n",
    "axes[1].set_ylabel(\"$p(\\\\beta$)\")\n",
    "axes[1].set_xlabel(\"$\\\\beta$\")\n",
    "axes[1].set_title(\"likelihood, $\\lambda$=0\")\n",
    "\n",
    "plt.suptitle(f\"$\\\\beta$ = {med_beta:.2f}$^{{+{sig_pos_beta-med_beta:.3f}}}$ $_{{{sig_neg_beta - med_beta:.3f}}}$\", y=0.99)\n",
    "# plt.tight_layout()\n",
    "\n",
    "# plt.savefig(plotdir+f'N_{len(q_mu_sampled)}_beta_{beta_inj:.1f}_hyper_posterior_lam_0.pdf')\n",
    "plt.show()"
   ]
  },
  {
   "attachments": {},
   "cell_type": "markdown",
   "metadata": {},
   "source": [
    "-0.3789, -0.4273"
   ]
  },
  {
   "attachments": {},
   "cell_type": "markdown",
   "metadata": {},
   "source": [
    "### $\\lambda=1$, $\\beta$ posterior"
   ]
  },
  {
   "cell_type": "code",
   "execution_count": null,
   "metadata": {},
   "outputs": [],
   "source": [
    "# Calculate the requisite mu_m1, sigma_m1 for the Event Likelihoods\n",
    "m1_mu_sampled, m1_sigma_events = sample_m1_events(df_mc, df_eta, biased=True, bias_index=1, injected=False)\n",
    "m2_mu_sampled, m2_sigma_events = sample_m2_events(df_mc, df_eta, biased=True, bias_index=1, injected=False)"
   ]
  },
  {
   "cell_type": "code",
   "execution_count": null,
   "metadata": {},
   "outputs": [],
   "source": [
    "beta_min = beta_inj-2.5\n",
    "beta_max = beta_inj+5.5\n",
    "n_beta = 20\n",
    "\n",
    "beta_range_lam_1 = np.linspace(beta_min, beta_max, n_beta)"
   ]
  },
  {
   "cell_type": "code",
   "execution_count": null,
   "metadata": {},
   "outputs": [],
   "source": [
    "log_p_beta_lam_1_src, beta_range_lam_1 = log_likelihood_beta(m1_mu_sampled, m1_sigma_events, m2_mu_sampled, m2_sigma_events,      \n",
    "    beta_min=beta_min, beta_max=beta_max, n_beta=n_beta, \\\n",
    "    alpha=alpha_inj, \\\n",
    "    m1_min_pow=mmin_inj, m1_max_pow=mmax_inj,\\\n",
    "    m1_min_int = mmin_inj, m1_max_int=50.0, n_m1_int=300, n_m2_int=100, \\\n",
    "    Ns=len(m1_mu_sampled), Nt=len(m1_mu_sampled))\n",
    "\n",
    "\n",
    "log_beta_norm_lam_1 =log_p_beta_lam_1_src - np.max(log_p_beta_lam_1_src)"
   ]
  },
  {
   "cell_type": "code",
   "execution_count": null,
   "metadata": {},
   "outputs": [],
   "source": [
    "# 68% confidence interval using KDE\n",
    "med_beta, sig_pos_beta, sig_neg_beta = get_cofidence_int_1d(log_beta_norm_lam_1, beta_range_lam_1)\n",
    "\n",
    "print(f\"68% Confidence interval: {sig_neg_beta}, {med_beta}, {sig_pos_beta}\")\n",
    "bias_sigma = (med_beta-beta_inj)/(sig_pos_beta-med_beta)\n",
    "print(rf\"Injected beta is {bias_sigma:.3f} sigma away\")\n"
   ]
  },
  {
   "cell_type": "code",
   "execution_count": null,
   "metadata": {},
   "outputs": [],
   "source": [
    "print(\"most likely beta (IN SOURCE FRAME) =\",med_beta)\n",
    "fig, axes = plt.subplots(nrows=1, ncols=2, figsize=(10, 5))\n",
    "\n",
    "axes[0].plot(beta_range_lam_1, log_beta_norm_lam_1)\n",
    "axes[0].axvline(x=beta_inj, color='k')\n",
    "axes[0].set_ylabel(\"log $p(\\\\beta$)\")\n",
    "axes[0].set_xlabel(\"$\\\\beta$\")\n",
    "axes[0].set_title(\"log-likelihood, $\\lambda$=1\")\n",
    "\n",
    "axes[1].plot(beta_range_lam_1, np.exp(log_beta_norm_lam_1))\n",
    "axes[1].axvline(x=beta_inj, color='k')\n",
    "axes[1].set_ylabel(\"$p(\\\\beta$)\")\n",
    "axes[1].set_xlabel(\"$\\\\beta$\")\n",
    "axes[1].set_title(\"likelihood, $\\lambda$=1\")\n",
    "\n",
    "plt.suptitle(f\"$\\\\beta$ = {med_beta:.2f}$^{{+{sig_pos_beta-med_beta:.3f}}}$ $_{{{sig_neg_beta - med_beta:.3f}}}$\", y=0.99)\n",
    "# plt.tight_layout()\n",
    "\n",
    "\n",
    "# plt.savefig(plotdir+f'N_{len(q_mu_sampled)}_beta_{beta_inj:.1f}_hyper_posterior_lam_1.pdf')\n",
    "plt.show()"
   ]
  },
  {
   "attachments": {},
   "cell_type": "markdown",
   "metadata": {},
   "source": [
    "## Some tests"
   ]
  },
  {
   "cell_type": "code",
   "execution_count": null,
   "metadata": {},
   "outputs": [],
   "source": [
    "mass1 = m1_mu_sampled\n",
    "mass2 = m2_mu_sampled\n",
    "\n",
    "mass1, m1_sigma_events = sample_m1_events(df_mc, df_eta, biased=False, bias_index=1, injected=True)\n",
    "mass2, m2_sigma_events = sample_m2_events(df_mc, df_eta, biased=False, bias_index=1, injected=True)\n",
    "\n",
    "m1_test = 9.0\n",
    "mask_m1 = (mass1 > m1_test*0.99) * (mass1 < m1_test*1.01)\n",
    "print(np.sum(mask_m1))\n",
    "\n",
    "plt.hist(mass2[mask_m1], histtype='step', density=True);\n",
    "\n",
    "# x = np.linspace(5.0, m1_test, 10)\n",
    "# plt.axhline(y=1.5, linestyle=\"--\")\n",
    "# plt.plot(x, 5*x**(-0.3), linestyle='--')"
   ]
  },
  {
   "cell_type": "code",
   "execution_count": null,
   "metadata": {},
   "outputs": [],
   "source": []
  },
  {
   "attachments": {},
   "cell_type": "markdown",
   "metadata": {},
   "source": [
    "# 2D inference (Manual)"
   ]
  },
  {
   "cell_type": "code",
   "execution_count": null,
   "metadata": {},
   "outputs": [],
   "source": [
    "def sample(function, alpha_min=-3.7, alpha_max=-3.3, m1_min=80., m1_max=180., n_samples=10):\n",
    "    alphas = np.zeros(n_samples)\n",
    "    m1s = np.zeros(n_samples)\n",
    "    for i in range(n_samples):\n",
    "        found = False\n",
    "        while not found:\n",
    "            x = np.random.uniform(low=alpha_min, high=alpha_max)\n",
    "            y = np.random.uniform(low=m1_min, high=m1_max)\n",
    "            z = np.random.uniform(low=0.0, high=1.0)\n",
    "            if z < function(x,y):\n",
    "                found = True\n",
    "        alphas[i] = x\n",
    "        m1s[i] = y\n",
    "    \n",
    "    return alphas, m1s"
   ]
  },
  {
   "attachments": {},
   "cell_type": "markdown",
   "metadata": {},
   "source": [
    "## alpha, m1_max"
   ]
  },
  {
   "cell_type": "code",
   "execution_count": null,
   "metadata": {},
   "outputs": [],
   "source": [
    "def log_likelihood_alpha_m1max(m1_mu_events, m1_sigma_events, \\\n",
    "    alpha_min=-4.5, alpha_max=-3, n_alpha=10, \\\n",
    "        m1_high_min = 93.0, m1_high_max = 107., n_m1_high=10,\\\n",
    "        m1_min_int=5., n_m1_int=20000, \\\n",
    "        m1_min_pow=5., \\\n",
    "            Ns=len(df_mc[\"Mc\"]), Nt=len(df_mc[\"Mc\"])):\n",
    "\n",
    "    m1_max_int=m1_high_max\n",
    "\n",
    "    alpha_range = np.linspace(alpha_min, alpha_max, n_alpha)\n",
    "    m1_high_range = np.linspace(m1_high_min, m1_high_max, n_m1_high)\n",
    "    log_likelihoods = np.zeros((n_m1_high, n_alpha))\n",
    "\n",
    "    m1_int_range = np.linspace(m1_min_int, m1_max_int, n_m1_int)\n",
    "\n",
    "    posteriors = np.zeros((Nt, n_m1_int))\n",
    "    for i in range(Nt):\n",
    "        posteriors[i] = normal_dist(m1_int_range, m1_mu_events[i], m1_sigma_events[i])\n",
    "\n",
    "\n",
    "    for m1_high_index in range(n_m1_high):\n",
    "        m1_max_pow = m1_high_range[m1_high_index]\n",
    "\n",
    "        for a in range(n_alpha):         \n",
    "            alpha = alpha_range[a]\n",
    "\n",
    "            prior = power(m1_int_range, alpha, m1_min_pow, m1_max_pow)\n",
    "            log_likelihoods[m1_high_index, a] = log_integral(prior, posteriors, m1_int_range)\n",
    "           \n",
    "    return log_likelihoods, alpha_range, m1_high_range"
   ]
  },
  {
   "cell_type": "code",
   "execution_count": null,
   "metadata": {},
   "outputs": [],
   "source": [
    "# def log_likelihood_alpha_m1max(m1_mu_events, m1_sigma_events, \\\n",
    "#     alpha_min=-4.5, alpha_max=-3, n_alpha=10, \\\n",
    "#         m1_high_min = 93.0, m1_high_max = 107., n_m1_high=10,\\\n",
    "#         m1_min_int=5., n_m1_int=20000, \\\n",
    "#         m1_min_pow=5., \\\n",
    "#             Ns=len(df_mc[\"Mc\"]), Nt=len(df_mc[\"Mc\"])):\n",
    "\n",
    "#     m1_max_int=m1_high_max\n",
    "\n",
    "#     alpha_range = np.linspace(alpha_min, alpha_max, n_alpha)\n",
    "#     m1_high_range = np.linspace(m1_high_min, m1_high_max, n_m1_high)\n",
    "\n",
    "#     log_likelihoods = np.zeros((n_m1_high, n_alpha))\n",
    "\n",
    "#     for m1_high_index in range(n_m1_high):\n",
    "#         m1_max_pow = m1_high_range[m1_high_index]\n",
    "\n",
    "#         m1_int_range = np.linspace(m1_min_int, m1_max_int, n_m1_int)\n",
    "        \n",
    "#         for a in range(n_alpha):\n",
    "            \n",
    "#             alpha = alpha_range[a]\n",
    "#             total_int = 0\n",
    "\n",
    "#             for i in range(Nt):\n",
    "#                 # Need to set the integral to zero if posterior is very far from the data and returns log(0) = -inf\n",
    "#                 # DO NOT USE TRUNCATED GAUSSIAN for the posterior if m_min, m_max will vary from integral to integral. \n",
    "#                 # This introduces a limit-dependent integrand that can artificially inflate the hyperposterior in one direction endlessly\n",
    "#                 integrand = p_m1(m1_int_range, alpha, m1_min_pow, m1_max_pow) * normal_dist(m1_int_range, m1_mu_events[i], m1_sigma_events[i])\n",
    "#                 int_term = integrate.trapezoid(integrand, m1_int_range)\n",
    "#                 if int_term==0:\n",
    "#                     int_term=1\n",
    "                    \n",
    "#                 total_int = total_int + np.log(Ns) + np.log(int_term)\n",
    "                \n",
    "#             log_likelihoods[m1_high_index, a] = -Ns + total_int\n",
    "        \n",
    "        \n",
    "           \n",
    "#     return log_likelihoods, alpha_range, m1_high_range"
   ]
  },
  {
   "attachments": {},
   "cell_type": "markdown",
   "metadata": {},
   "source": [
    "### $\\lambda=0$"
   ]
  },
  {
   "cell_type": "code",
   "execution_count": null,
   "metadata": {},
   "outputs": [],
   "source": [
    "# Calculate the requisite mu_m1, sigma_m1 for the Event Likelihoods\n",
    "m1_mu_sampled, m1_sigma_events = sample_m1_events(df_mc, df_eta, biased=False)"
   ]
  },
  {
   "cell_type": "code",
   "execution_count": null,
   "metadata": {},
   "outputs": [],
   "source": [
    "alpha_min = alpha_inj-0.25\n",
    "alpha_max=alpha_inj+0.25\n",
    "n_alpha=50\n",
    "m1_high_min = 80.0\n",
    "m1_high_max = 180.0\n",
    "n_m1_high=50\n",
    "\n",
    "alpha_range_a_mmax = np.linspace(alpha_min, alpha_max, n_alpha)\n",
    "m1_high_range_a_mmax = np.linspace(m1_high_min, m1_high_max, n_m1_high)\n",
    "\n",
    "fname_alpha_mmax = f\"N_{len(m1_mu_sampled)}_alpha_{alpha_min:.1f}_{alpha_max:.1f}_n_{n_alpha:.0f}_mmax_{m1_high_min:.0f}_{m1_high_max:.0f}_n_{n_m1_high:.0f}_log_likelihoods\"    \n"
   ]
  },
  {
   "cell_type": "code",
   "execution_count": null,
   "metadata": {},
   "outputs": [],
   "source": [
    "log_likelihoods_a_mmax, alpha_range_a_mmax, m1_high_range_a_mmax = log_likelihood_alpha_m1max(m1_mu_sampled, m1_sigma_events, \\\n",
    "    alpha_min=alpha_min, alpha_max=alpha_max, n_alpha=n_alpha, \\\n",
    "    m1_high_min = m1_high_min, m1_high_max = m1_high_max, n_m1_high=n_m1_high,\\\n",
    "    m1_min_int=5., n_m1_int=10000, \\\n",
    "    m1_min_pow=5.,\\\n",
    "    Ns=len(m1_mu_sampled), Nt=len(m1_mu_sampled))\n",
    "\n",
    "log_likelihoods_norm_a_mmax = log_likelihoods_a_mmax - np.max(log_likelihoods_a_mmax)\n",
    "\n",
    "# Save likelihoods to file\n",
    "if save_likelihoods:   \n",
    "    np.savetxt(fname_alpha_mmax, log_likelihoods_norm_a_mmax)"
   ]
  },
  {
   "cell_type": "code",
   "execution_count": null,
   "metadata": {},
   "outputs": [],
   "source": [
    "# # Load likelihoods from file\n",
    "# log_likelihoods_norm_a_mmax = np.loadtxt(fname_alpha_mmax)"
   ]
  },
  {
   "cell_type": "code",
   "execution_count": null,
   "metadata": {},
   "outputs": [],
   "source": [
    "index_max = np.argmax(log_likelihoods_norm_a_mmax)\n",
    "index_max = np.unravel_index(index_max, log_likelihoods_norm_a_mmax.shape)\n",
    "\n",
    "print(index_max)\n",
    "m_max_index_2d = index_max[0]\n",
    "alpha_index_2d = index_max[1]\n",
    "\n",
    "print(\"alpha:\", alpha_range_a_mmax[alpha_index_2d])\n",
    "print(\"m1_max:\", m1_high_range_a_mmax[m_max_index_2d])"
   ]
  },
  {
   "cell_type": "code",
   "execution_count": null,
   "metadata": {},
   "outputs": [],
   "source": [
    "# 68% confidence interval using KDE\n",
    "\n",
    "likelihood_interp = interpolate.interp2d(alpha_range_a_mmax, m1_high_range_a_mmax, np.exp(log_likelihoods_norm_a_mmax))\n",
    "\n",
    "nsamples=10000\n",
    "a_samples, m_samples = sample(likelihood_interp, \\\n",
    "                              alpha_min=-3.7, alpha_max=-3.3,\\\n",
    "                               m1_min=80., m1_max=180., \\\n",
    "                                n_samples=nsamples)\n",
    "\n",
    "samples = np.vstack((a_samples, m_samples)).T\n",
    "\n",
    "figure = corner.corner(samples,labels=[\n",
    "        r\"$alpha$\",\n",
    "        r\"$m_{\\rm max}$\",\n",
    "    ],\n",
    "    quantiles=[0.16, 0.5, 0.84],\n",
    "    show_titles=True,\n",
    "    title_kwargs={\"fontsize\": 15},)\n",
    "\n",
    "# plt.savefig(plotdir+ \"alpha_mmax_joint_likelihood_contours_lam_0.pdf\")\n"
   ]
  },
  {
   "cell_type": "code",
   "execution_count": null,
   "metadata": {},
   "outputs": [],
   "source": [
    "fig, ax = plt.subplots(figsize=(10, 6))\n",
    "# plt.imshow((log_likelihoods_norm_a_mmax), aspect='auto', extent=[alpha_range_a_mmax[0], alpha_range_a_mmax[-1], m1_high_range_a_mmax[-1], m1_high_range_a_mmax[0]])\n",
    "plt.imshow(np.exp(log_likelihoods_norm_a_mmax), aspect='auto', extent=[alpha_range_a_mmax[0], alpha_range_a_mmax[-1], m1_high_range_a_mmax[-1], m1_high_range_a_mmax[0]])\n",
    "\n",
    "plt.colorbar()\n",
    "\n",
    "plt.axvline(x=alpha_inj, color='w')\n",
    "plt.axhline(y=mmax_inj, color='w')\n",
    "\n",
    "plt.xlabel(\"$\\\\alpha$\")\n",
    "plt.ylabel(\"m1_max\")\n",
    "plt.title(\"$\\lambda=0$\")\n",
    "\n",
    "# plt.savefig(plotdir+f\"N_{len(m1_mu_sampled)}_alpha_{alpha_min:.1f}_{alpha_max:.1f}_n_{n_alpha:.0f}_mmax_{m1_high_min:.0f}_{m1_high_max:.0f}_n_{n_m1_high:.0f}_LOG.pdf\")\n",
    "# plt.savefig(plotdir+f\"N_{len(m1_mu_sampled)}_alpha_{alpha_min:.1f}_{alpha_max:.1f}_n_{n_alpha:.0f}_mmax_{m1_high_min:.0f}_{m1_high_max:.0f}_n_{n_m1_high:.0f}_EXP.pdf\")\n",
    "plt.show()\n",
    "    \n"
   ]
  },
  {
   "cell_type": "code",
   "execution_count": null,
   "metadata": {},
   "outputs": [],
   "source": [
    "print(\"most likely m_max (IN SOURCE FRAME) =\",m1_high_range_a_mmax[np.argmax(log_likelihoods_norm_a_mmax[:,alpha_index_2d])])\n",
    "fig, axes = plt.subplots(nrows=1, ncols=2, figsize=(10, 5))\n",
    "\n",
    "axes[0].plot(m1_high_range_a_mmax, log_likelihoods_norm_a_mmax[:,alpha_index_2d])\n",
    "axes[0].axvline(x=mmax_inj, color='k')\n",
    "axes[0].set_ylabel(\"log p(m_max)\")\n",
    "axes[0].set_xlabel(\"m_max\")\n",
    "axes[0].set_title(\"log-likelihood\")\n",
    "\n",
    "axes[1].plot(m1_high_range_a_mmax, np.exp(log_likelihoods_norm_a_mmax[:,alpha_index_2d]))\n",
    "axes[1].axvline(x=mmax_inj, color='k')\n",
    "axes[1].set_ylabel(\"p(m_max)\")\n",
    "axes[1].set_xlabel(\"m_max\")\n",
    "axes[1].set_title(\"likelihood\")\n",
    "\n",
    "plt.tight_layout()\n",
    "plt.show()"
   ]
  },
  {
   "attachments": {},
   "cell_type": "markdown",
   "metadata": {},
   "source": [
    "### $\\lambda=1$"
   ]
  },
  {
   "cell_type": "code",
   "execution_count": null,
   "metadata": {},
   "outputs": [],
   "source": [
    "# Calculate the requisi\n",
    "# te mu_m1, sigma_m1 for the Event Likelihoods\n",
    "m1_mu_sampled, m1_sigma_events = sample_m1_events(df_mc, df_eta, biased=True)"
   ]
  },
  {
   "cell_type": "code",
   "execution_count": null,
   "metadata": {},
   "outputs": [],
   "source": [
    "alpha_min = alpha_inj-0.7\n",
    "alpha_max=alpha_inj\n",
    "n_alpha=10\n",
    "m1_high_min = 70.0\n",
    "m1_high_max = 500.0\n",
    "n_m1_high=10\n",
    "\n",
    "alpha_range_a_mmax = np.linspace(alpha_min, alpha_max, n_alpha)\n",
    "m1_high_range_a_mmax = np.linspace(m1_high_min, m1_high_max, n_m1_high)\n",
    "\n",
    "fname_alpha_mmax_lam_1 = f\"N_{len(m1_mu_sampled)}_alpha_{alpha_min:.1f}_{alpha_max:.1f}_n_{n_alpha:.0f}_mmax_{m1_high_min:.0f}_{m1_high_max:.0f}_n_{n_m1_high:.0f}_lambda_1_log_likelihoods\"    \n"
   ]
  },
  {
   "cell_type": "code",
   "execution_count": null,
   "metadata": {},
   "outputs": [],
   "source": [
    "log_likelihoods_a_mmax_lam_1, alpha_range_a_mmax, m1_high_range_a_mmax = log_likelihood_alpha_m1max(m1_mu_sampled, m1_sigma_events, \\\n",
    "    alpha_min=alpha_min, alpha_max=alpha_max, n_alpha=n_alpha, \\\n",
    "    m1_high_min = m1_high_min, m1_high_max = m1_high_max, n_m1_high=n_m1_high,\\\n",
    "    m1_min_int=5., n_m1_int=10000, \\\n",
    "    m1_min_pow=5.,\\\n",
    "    Ns=len(m1_mu_sampled), Nt=len(m1_mu_sampled))\n",
    "\n",
    "log_likelihoods_norm_a_mmax_lam_1 = log_likelihoods_a_mmax_lam_1 - np.max(log_likelihoods_a_mmax_lam_1)\n",
    "    \n",
    "if save_likelihoods:   \n",
    "    np.savetxt(fname_alpha_mmax_lam_1, log_likelihoods_norm_a_mmax_lam_1)"
   ]
  },
  {
   "cell_type": "code",
   "execution_count": null,
   "metadata": {},
   "outputs": [],
   "source": [
    "# log_likelihoods_norm_a_mmax_lam_1 = np.loadtxt(fname_alpha_mmax_lam_1)"
   ]
  },
  {
   "cell_type": "code",
   "execution_count": null,
   "metadata": {},
   "outputs": [],
   "source": [
    "index_max = np.argmax(log_likelihoods_norm_a_mmax_lam_1)\n",
    "index_max = np.unravel_index(index_max, log_likelihoods_norm_a_mmax_lam_1.shape)\n",
    "\n",
    "print(index_max)\n",
    "m_max_index_2d = index_max[0]\n",
    "alpha_index_2d = index_max[1]\n",
    "\n",
    "print(\"alpha:\", alpha_range_a_mmax[alpha_index_2d])\n",
    "print(\"m1_max:\", m1_high_range_a_mmax[m_max_index_2d])"
   ]
  },
  {
   "cell_type": "code",
   "execution_count": null,
   "metadata": {},
   "outputs": [],
   "source": [
    "likelihood_interp = interpolate.interp2d(alpha_range_a_mmax, m1_high_range_a_mmax, np.exp(log_likelihoods_norm_a_mmax_lam_1))\n",
    "\n",
    "nsamples=50000\n",
    "a_samples, m_samples = sample(likelihood_interp, \\\n",
    "                              alpha_min=-4.0, alpha_max=-3.6,\\\n",
    "                               m1_min=80., m1_max=280., \\\n",
    "                                n_samples=nsamples)"
   ]
  },
  {
   "cell_type": "code",
   "execution_count": null,
   "metadata": {},
   "outputs": [],
   "source": [
    "samples = np.vstack((a_samples, m_samples)).T\n",
    "\n",
    "figure = corner.corner(samples,labels=[\n",
    "        r\"$alpha$\",\n",
    "        r\"$m_{\\rm max}$\",\n",
    "    ],\n",
    "    quantiles=[0.16, 0.5, 0.84],\n",
    "    show_titles=True,\n",
    "    title_kwargs={\"fontsize\": 15},)\n",
    "\n",
    "# plt.savefig(plotdir+ \"alpha_mmax_joint_likelihood_contours_lam_1.pdf\")"
   ]
  },
  {
   "cell_type": "code",
   "execution_count": null,
   "metadata": {},
   "outputs": [],
   "source": [
    "fig, ax = plt.subplots(figsize=(10, 6))\n",
    "# plt.imshow((log_likelihoods_norm_a_mmax_lam_1), aspect='auto', extent=[alpha_range_a_mmax[0], alpha_range_a_mmax[-1], m1_high_range_a_mmax[-1], m1_high_range_a_mmax[0]])\n",
    "plt.imshow(np.exp(log_likelihoods_norm_a_mmax_lam_1), aspect='auto', extent=[alpha_range_a_mmax[0], alpha_range_a_mmax[-1], m1_high_range_a_mmax[-1], m1_high_range_a_mmax[0]])\n",
    "\n",
    "plt.colorbar()\n",
    "\n",
    "plt.axvline(x=alpha_inj, color='w')\n",
    "plt.axhline(y=mmax_inj, color='w')\n",
    "\n",
    "plt.xlabel(\"$\\\\alpha$\")\n",
    "plt.ylabel(\"m1_max\")\n",
    "plt.title(\"$\\lambda=1$\")\n",
    "\n",
    "# plt.savefig(plotdir+f\"N_{len(m1_mu_sampled)}_alpha_{alpha_min:.1f}_{alpha_max:.1f}_n_{n_alpha:.0f}_mmax_{m1_high_min:.0f}_{m1_high_max:.0f}_n_{n_m1_high:.0f}_lam_1_LOG.pdf\")\n",
    "plt.savefig(plotdir+f\"N_{len(m1_mu_sampled)}_alpha_{alpha_min:.1f}_{alpha_max:.1f}_n_{n_alpha:.0f}_mmax_{m1_high_min:.0f}_{m1_high_max:.0f}_n_{n_m1_high:.0f}_lam_1_EXP.pdf\")\n",
    "plt.show()\n",
    "    \n"
   ]
  },
  {
   "cell_type": "code",
   "execution_count": null,
   "metadata": {},
   "outputs": [],
   "source": [
    "print(\"most likely m_max (IN SOURCE FRAME) =\",m1_high_range_a_mmax[np.argmax(log_likelihoods_norm_a_mmax_lam_1[:,alpha_index_2d])])\n",
    "fig, axes = plt.subplots(nrows=1, ncols=2, figsize=(10, 5))\n",
    "\n",
    "axes[0].plot(m1_high_range_a_mmax, log_likelihoods_norm_a_mmax_lam_1[:,alpha_index_2d])\n",
    "axes[0].axvline(x=mmax_inj, color='k')\n",
    "axes[0].set_ylabel(\"log p(m_max)\")\n",
    "axes[0].set_xlabel(\"m_max\")\n",
    "axes[0].set_title(\"log-likelihood\")\n",
    "\n",
    "axes[1].plot(m1_high_range_a_mmax, np.exp(log_likelihoods_norm_a_mmax_lam_1[:,alpha_index_2d]))\n",
    "axes[1].axvline(x=mmax_inj, color='k')\n",
    "axes[1].set_ylabel(\"p(m_max)\")\n",
    "axes[1].set_xlabel(\"m_max\")\n",
    "axes[1].set_title(\"likelihood\")\n",
    "\n",
    "plt.tight_layout()\n",
    "plt.show()"
   ]
  },
  {
   "attachments": {},
   "cell_type": "markdown",
   "metadata": {},
   "source": [
    "## alpha, m1_min"
   ]
  },
  {
   "cell_type": "code",
   "execution_count": null,
   "metadata": {},
   "outputs": [],
   "source": [
    "def log_likelihood_alpha_m1min(m1_mu_events, m1_sigma_events, \\\n",
    "    m2_mu_events, m2_sigma_events, \\\n",
    "    alpha_min=-4.5, alpha_max=-3, n_alpha=50, \\\n",
    "    m1_low_min = 3.0, m1_low_max = 7.0, n_m1_low=50,\\\n",
    "    m1_min_int = 4.9, m1_max_int=200., n_m1_int=10000, \\\n",
    "    m1_max_pow=60., \\\n",
    "    beta = beta_inj,\\\n",
    "        Ns=len(df_mc[\"Mc\"]), Nt=len(df_mc[\"Mc\"])):\n",
    "\n",
    "    alpha_range = np.linspace(alpha_min, alpha_max, n_alpha)\n",
    "    m1_low_range = np.linspace(m1_low_min, m1_low_max, n_m1_low)\n",
    "    log_likelihoods = np.zeros((n_m1_low, n_alpha))\n",
    "\n",
    "    \n",
    "    m_int_range = np.geomspace(m1_min_int, m1_max_int, n_m1_int)\n",
    "\n",
    "    posteriors_m1 = np.zeros((Nt, n_m1_int))\n",
    "    posteriors_m2 = np.zeros((Nt, n_m1_int))\n",
    "\n",
    "    for i in range(Nt):\n",
    "        posteriors_m1[i] = normal_dist(m_int_range, m1_mu_events[i], m1_sigma_events[i])\n",
    "        posteriors_m2[i] = normal_dist(m_int_range, m2_mu_events[i], m2_sigma_events[i])\n",
    "\n",
    "\n",
    "    for m1_low_index in range(n_m1_low):\n",
    "        m1_min_pow = m1_low_range[m1_low_index]\n",
    "\n",
    "        priors_m2 = np.zeros((n_m1_int, n_m1_int))\n",
    "            \n",
    "        for j in range(n_m1_int):\n",
    "            priors_m2[j] = power(m_int_range, beta, m1_min_pow, m_int_range[j])\n",
    "            norm_p2 = integrate.trapezoid(priors_m2[j])\n",
    "            if norm_p2 != 0:\n",
    "                priors_m2[j] = priors_m2[j]/norm_p2\n",
    "    \n",
    "        for a in range(n_alpha):\n",
    "            alpha = alpha_range[a]\n",
    "\n",
    "            prior_m1 = power(m_int_range, alpha, m1_min_pow, m1_max_pow)\n",
    "\n",
    "            integrand_m2 = jax.numpy.matmul(priors_m2, posteriors_m2.T).T\n",
    "\n",
    "            integrands = prior_m1*posteriors_m1*integrand_m2       \n",
    "            integrals = integrate.trapezoid(integrands, m_int_range, axis=1)\n",
    "            integrals = integrals[integrals!=0]\n",
    "\n",
    "            log_likelihoods[m1_low_index, a] = np.sum(np.log(integrals))\n",
    "        \n",
    "        \n",
    "    return log_likelihoods, alpha_range, m1_low_range"
   ]
  },
  {
   "cell_type": "code",
   "execution_count": null,
   "metadata": {},
   "outputs": [],
   "source": [
    "# def log_likelihood_alpha_m1min(m1_mu_events, m1_sigma_events, \\\n",
    "#     alpha_min=-4.5, alpha_max=-3, n_alpha=50, \\\n",
    "#         m1_low_min = 3.0, m1_low_max = 7.0, n_m1_low=50,\\\n",
    "#         m1_max_int=200., n_m1_int=20000, \\\n",
    "#         m1_max_pow=200., \\\n",
    "#             Ns=len(df_mc[\"Mc\"]), Nt=len(df_mc[\"Mc\"])):\n",
    "\n",
    "#     alpha_range = np.linspace(alpha_min, alpha_max, n_alpha)\n",
    "#     m1_low_range = np.linspace(m1_low_min, m1_low_max, n_m1_low)\n",
    "#     log_likelihoods = np.zeros((n_m1_low, n_alpha))\n",
    "\n",
    "#     for m1_low_index in range(n_m1_low):\n",
    "#         m1_min_pow = m1_low_range[m1_low_index]\n",
    "#         m1_int_range = np.geomspace(m1_min_pow, m1_max_int, n_m1_int)\n",
    "\n",
    "#         for a in range(n_alpha):\n",
    "            \n",
    "#             alpha = alpha_range[a]\n",
    "#             total_int = 0\n",
    "\n",
    "#             for i in range(Nt):\n",
    "#                 # Need to set the integral to zero if posterior is very far from the data and returns log(0) = -inf\n",
    "#                 # DO NOT USE TRUNCATED GAUSSIAN for the posterior if m_min, m_max will vary from integral to integral. \n",
    "#                 # This introduces a limit-dependent integrand that can artificially inflate the hyperposterior in one direction endlessly\n",
    "#                 integrand = p_m1(m1_int_range, alpha, m1_min_pow, m1_max_pow) * normal_dist(m1_int_range, m1_mu_events[i], m1_sigma_events[i])\n",
    "#                 int_term = integrate.trapezoid(integrand, m1_int_range)\n",
    "\n",
    "#                 if int_term==0:\n",
    "#                     int_term=1\n",
    "                    \n",
    "#                 total_int = total_int + np.log(Ns) + np.log(int_term)\n",
    "                \n",
    "#             log_likelihoods[m1_low_index, a] = -Ns + total_int\n",
    "        \n",
    "        \n",
    "           \n",
    "#     return log_likelihoods, alpha_range, m1_low_range"
   ]
  },
  {
   "attachments": {},
   "cell_type": "markdown",
   "metadata": {},
   "source": [
    "### $\\lambda=0$"
   ]
  },
  {
   "cell_type": "code",
   "execution_count": null,
   "metadata": {},
   "outputs": [],
   "source": [
    "save_likelihoods=True"
   ]
  },
  {
   "cell_type": "code",
   "execution_count": null,
   "metadata": {},
   "outputs": [],
   "source": [
    "# Calculate the requisite mu_m1, sigma_m1 for the Event Likelihoods\n",
    "m1_mu_sampled, m1_sigma_events = sample_m1_events(df_mc, df_eta, biased=False)\n",
    "m2_mu_sampled, m2_sigma_events = sample_m2_events(df_mc, df_eta, biased=False)"
   ]
  },
  {
   "cell_type": "code",
   "execution_count": null,
   "metadata": {},
   "outputs": [],
   "source": [
    "alpha_min = alpha_inj-0.25\n",
    "alpha_max = alpha_inj+0.25\n",
    "n_alpha = 20\n",
    "m1_low_min = mmin_inj-0.1\n",
    "m1_low_max = mmin_inj+0.1\n",
    "n_m1_low= 20\n",
    "\n",
    "alpha_range_a_mmin = np.linspace(alpha_min, alpha_max, n_alpha)\n",
    "m1_low_range_a_mmin = np.linspace(m1_low_min, m1_low_max, n_m1_low)\n",
    "\n",
    "fname_alpha_mmin = f\"N_{len(m1_mu_sampled)}_alpha_{alpha_min:.1f}_{alpha_max:.1f}_n_{n_alpha:.0f}_mmin_{m1_low_min:.0f}_{m1_low_max:.0f}_n_{n_m1_low:.0f}_log_likelihoods\" \n"
   ]
  },
  {
   "cell_type": "code",
   "execution_count": null,
   "metadata": {},
   "outputs": [],
   "source": [
    "# log_likelihoods_norm_a_mmin, alpha_range_a_mmin, m1_low_range_a_mmin = log_likelihood_alpha_m1min(m1_mu_sampled, m1_sigma_events, \\\n",
    "#     m2_mu_sampled, m2_sigma_events, \\\n",
    "#     alpha_min=alpha_min, alpha_max=alpha_max, n_alpha=n_alpha, \\\n",
    "#     m1_low_min=m1_low_min, m1_low_max=m1_low_max, n_m1_low=n_m1_low,\\\n",
    "#     m1_min_int=4.80, m1_max_int=mmax_inj, n_m1_int=10000, \\\n",
    "#     m1_max_pow=mmax_inj,\\\n",
    "#     beta=beta_inj,\\\n",
    "#     Ns=len(m1_mu_sampled), Nt=len(m1_mu_sampled))\n",
    "    \n",
    "# log_likelihoods_norm_a_mmin = log_likelihoods_norm_a_mmin - np.max(log_likelihoods_norm_a_mmin)\n",
    "\n",
    "# if save_likelihoods:   \n",
    "#     np.savetxt(fname_alpha_mmin, log_likelihoods_norm_a_mmin)"
   ]
  },
  {
   "cell_type": "code",
   "execution_count": null,
   "metadata": {},
   "outputs": [],
   "source": [
    "log_likelihoods_norm_a_mmin = np.loadtxt(fname_alpha_mmin)"
   ]
  },
  {
   "cell_type": "code",
   "execution_count": null,
   "metadata": {},
   "outputs": [],
   "source": [
    "index_max = np.argmax(log_likelihoods_norm_a_mmin)\n",
    "index_max = np.unravel_index(index_max, log_likelihoods_norm_a_mmin.shape)\n",
    "\n",
    "m_min_index_2d = index_max[0]\n",
    "alpha_index_2d = index_max[1]\n",
    "\n",
    "print(\"alpha:\", alpha_range_a_mmin[alpha_index_2d])\n",
    "print(\"m1_min:\", m1_low_range_a_mmin[m_min_index_2d])\n",
    "\n",
    "index_max"
   ]
  },
  {
   "cell_type": "code",
   "execution_count": null,
   "metadata": {},
   "outputs": [],
   "source": [
    "likelihood_interp = interpolate.interp2d(alpha_range_a_mmin, m1_low_range_a_mmin, np.exp(log_likelihoods_norm_a_mmin))\n",
    "\n",
    "nsamples=50000\n",
    "a_samples, m_samples = sample(likelihood_interp, \\\n",
    "                              alpha_min=-3.4, alpha_max=-3.6,\\\n",
    "                               m1_min=4.95, m1_max=5.05, \\\n",
    "                                n_samples=nsamples)"
   ]
  },
  {
   "cell_type": "code",
   "execution_count": null,
   "metadata": {},
   "outputs": [],
   "source": [
    "samples = np.vstack((a_samples, m_samples)).T\n",
    "\n",
    "figure = corner.corner(samples,labels=[\n",
    "        r\"$alpha$\",\n",
    "        r\"$m_{\\rm min}$\",\n",
    "    ],\n",
    "    truths=[alpha_inj, mmin_inj],\n",
    "    quantiles=[0.16, 0.5, 0.84],\n",
    "    show_titles=True,\n",
    "    title_kwargs={\"fontsize\": 15},)\n",
    "\n",
    "# plt.savefig(plotdir+ \"alpha_mmin_joint_likelihood_contours_lam_0.pdf\")"
   ]
  },
  {
   "cell_type": "code",
   "execution_count": null,
   "metadata": {},
   "outputs": [],
   "source": [
    "fig, ax = plt.subplots(figsize=(10, 6))\n",
    "\n",
    "# plt.imshow((log_likelihoods_norm_a_mmin), aspect='auto', extent=[alpha_range_a_mmin[0], alpha_range_a_mmin[-1], m1_low_range_a_mmin[-1], m1_low_range_a_mmin[0]])\n",
    "plt.imshow(np.exp(log_likelihoods_norm_a_mmin), aspect='auto', extent=[alpha_range_a_mmin[0], alpha_range_a_mmin[-1], m1_low_range_a_mmin[-1], m1_low_range_a_mmin[0]])\n",
    "\n",
    "\n",
    "plt.axvline(x=alpha_inj, color='w')\n",
    "plt.axhline(y=mmin_inj, color='w')\n",
    "\n",
    "plt.colorbar()\n",
    "plt.xlabel(\"$\\\\alpha$\")\n",
    "plt.ylabel(\"m1_min\")\n",
    "plt.title(\"$\\lambda=0$\")\n",
    "\n",
    "# plt.savefig(plotdir+f\"N_{len(m1_mu_sampled)}_alpha_{alpha_min:.1f}_{alpha_max:.1f}_n_{n_alpha:.0f}_mmin_{m1_low_min:.0f}_{m1_low_max:.0f}_n_{n_m1_low:.0f}_LOG.pdf\")\n",
    "# plt.savefig(plotdir+f\"N_{len(m1_mu_sampled)}_alpha_{alpha_min:.1f}_{alpha_max:.1f}_n_{n_alpha:.0f}_mmin_{m1_low_min:.0f}_{m1_low_max:.0f}_n_{n_m1_low:.0f}_EXP.pdf\")\n",
    "plt.show()\n",
    "    \n",
    "# "
   ]
  },
  {
   "cell_type": "code",
   "execution_count": null,
   "metadata": {},
   "outputs": [],
   "source": [
    "print(\"most likely m_min (IN SOURCE FRAME) =\",m1_low_range_a_mmin[np.argmax(log_likelihoods_norm_a_mmin[:,alpha_index_2d])])\n",
    "fig, axes = plt.subplots(nrows=1, ncols=2, figsize=(10, 5))\n",
    "\n",
    "axes[0].plot(m1_low_range_a_mmin, log_likelihoods_norm_a_mmin[:,alpha_index_2d])\n",
    "axes[0].axvline(x=mmin_inj, color='k')\n",
    "axes[0].set_ylabel(\"log p(m_min)\")\n",
    "axes[0].set_xlabel(\"m_min\")\n",
    "axes[0].set_title(\"log-likelihood\")\n",
    "\n",
    "axes[1].plot(m1_low_range_a_mmin, np.exp(log_likelihoods_norm_a_mmin[:,alpha_index_2d]))\n",
    "axes[1].axvline(x=mmin_inj, color='k')\n",
    "axes[1].set_ylabel(\"p(m_min)\")\n",
    "axes[1].set_xlabel(\"m_min\")\n",
    "axes[1].set_title(\"likelihood\")\n",
    "\n",
    "plt.tight_layout()\n",
    "plt.show()"
   ]
  },
  {
   "attachments": {},
   "cell_type": "markdown",
   "metadata": {},
   "source": [
    "### $\\lambda=1$"
   ]
  },
  {
   "cell_type": "code",
   "execution_count": null,
   "metadata": {},
   "outputs": [],
   "source": [
    "# Calculate the requisite mu_m1, sigma_m1 for the Event Likelihoods\n",
    "m1_mu_sampled, m1_sigma_events = sample_m1_events(df_mc, df_eta, biased=True)"
   ]
  },
  {
   "cell_type": "code",
   "execution_count": null,
   "metadata": {},
   "outputs": [],
   "source": [
    "alpha_min = alpha_inj-0.25\n",
    "alpha_max = alpha_inj+0.25\n",
    "n_alpha = 50\n",
    "m1_low_min = mmin_inj-0.50\n",
    "m1_low_max = mmin_inj+0.05\n",
    "n_m1_low= 50\n",
    "\n",
    "alpha_range_a_mmin = np.linspace(alpha_min, alpha_max, n_alpha)\n",
    "m1_low_range_a_mmin = np.linspace(m1_low_min, m1_low_max, n_m1_low)\n",
    "\n",
    "fname_alpha_mmin_lam_1 = f\"N_{len(m1_mu_sampled)}_alpha_{alpha_min:.1f}_{alpha_max:.1f}_n_{n_alpha:.0f}_mmin_{m1_low_min:.0f}_{m1_low_max:.0f}_n_{n_m1_low:.0f}_lambda_1_log_likelihoods\" \n"
   ]
  },
  {
   "cell_type": "code",
   "execution_count": null,
   "metadata": {},
   "outputs": [],
   "source": [
    "log_likelihoods_norm_a_mmin_lam_1, alpha_range_a_mmin, m1_low_range_a_mmin = log_likelihood_alpha_m1min(m1_mu_sampled, m1_sigma_events, \\\n",
    "    alpha_min=alpha_min, alpha_max=alpha_max, n_alpha=n_alpha, \\\n",
    "    m1_low_min=m1_low_min, m1_low_max=m1_low_max, n_m1_low=n_m1_low,\\\n",
    "    m1_max_int=100., n_m1_int=10000, \\\n",
    "    m1_max_pow=100.,\\\n",
    "    Ns=len(m1_mu_sampled), Nt=len(m1_mu_sampled))\n",
    "    \n",
    "log_likelihoods_norm_a_mmin_lam_1 = log_likelihoods_norm_a_mmin_lam_1 - np.max(log_likelihoods_norm_a_mmin_lam_1)\n",
    "\n",
    "if save_likelihoods:   \n",
    "    np.savetxt(fname_alpha_mmin_lam_1, log_likelihoods_norm_a_mmin_lam_1)"
   ]
  },
  {
   "cell_type": "code",
   "execution_count": null,
   "metadata": {},
   "outputs": [],
   "source": [
    "# log_likelihoods_norm_a_mmin_lam_1 = np.loadtxt(fname_alpha_mmin_lam_1)"
   ]
  },
  {
   "cell_type": "code",
   "execution_count": null,
   "metadata": {},
   "outputs": [],
   "source": [
    "index_max = np.argmax(log_likelihoods_norm_a_mmin_lam_1)\n",
    "index_max = np.unravel_index(index_max, log_likelihoods_norm_a_mmin_lam_1.shape)\n",
    "\n",
    "m_min_index_2d = index_max[0]\n",
    "alpha_index_2d = index_max[1]\n",
    "\n",
    "print(\"alpha:\", alpha_range_a_mmin[alpha_index_2d])\n",
    "print(\"m1_min:\", m1_low_range_a_mmin[m_min_index_2d])\n",
    "\n",
    "index_max"
   ]
  },
  {
   "cell_type": "code",
   "execution_count": null,
   "metadata": {},
   "outputs": [],
   "source": [
    "likelihood_interp = interpolate.interp2d(alpha_range_a_mmin, m1_low_range_a_mmin, np.exp(log_likelihoods_norm_a_mmin_lam_1))\n",
    "\n",
    "nsamples=50000\n",
    "a_samples, m_samples = sample(likelihood_interp, \\\n",
    "                              alpha_min=-3.5, alpha_max=-3.3,\\\n",
    "                               m1_min=4.5, m1_max=4.7, \\\n",
    "                                n_samples=nsamples)"
   ]
  },
  {
   "cell_type": "code",
   "execution_count": null,
   "metadata": {},
   "outputs": [],
   "source": [
    "samples = np.vstack((a_samples, m_samples)).T\n",
    "\n",
    "figure = corner.corner(samples,labels=[\n",
    "        r\"$alpha$\",\n",
    "        r\"$m_{\\rm min}$\",\n",
    "    ],\n",
    "    quantiles=[0.16, 0.5, 0.84],\n",
    "    show_titles=True,\n",
    "    title_kwargs={\"fontsize\": 15},)\n",
    "\n",
    "# plt.savefig(plotdir+ \"alpha_mmin_joint_likelihood_contours_lam_1.pdf\")"
   ]
  },
  {
   "cell_type": "code",
   "execution_count": null,
   "metadata": {},
   "outputs": [],
   "source": [
    "fig, ax = plt.subplots(figsize=(10, 6))\n",
    "\n",
    "# plt.imshow((log_likelihoods_norm_a_mmin_lam_1), aspect='auto', extent=[alpha_range_a_mmin[0], alpha_range_a_mmin[-1], m1_low_range_a_mmin[-1], m1_low_range_a_mmin[0]])\n",
    "plt.imshow(np.exp(log_likelihoods_norm_a_mmin_lam_1), aspect='auto', extent=[alpha_range_a_mmin[0], alpha_range_a_mmin[-1], m1_low_range_a_mmin[-1], m1_low_range_a_mmin[0]])\n",
    "\n",
    "\n",
    "plt.axvline(x=alpha_inj, color='w')\n",
    "plt.axhline(y=mmin_inj, color='w')\n",
    "\n",
    "plt.colorbar()\n",
    "plt.xlabel(\"$\\\\alpha$\")\n",
    "plt.ylabel(\"m1_min\")\n",
    "plt.title(\"$\\lambda=1$\")\n",
    "\n",
    "\n",
    "# plt.savefig(plotdir+f\"N_{len(m1_mu_sampled)}_alpha_{alpha_min:.1f}_{alpha_max:.1f}_n_{n_alpha:.0f}_mmin_{m1_low_min:.0f}_{m1_low_max:.0f}_n_{n_m1_low:.0f}_LOG_lam_1.pdf\")\n",
    "# plt.savefig(plotdir+f\"N_{len(m1_mu_sampled)}_alpha_{alpha_min:.1f}_{alpha_max:.1f}_n_{n_alpha:.0f}_mmin_{m1_low_min:.0f}_{m1_low_max:.0f}_n_{n_m1_low:.0f}_EXP_lam_1.pdf\")\n",
    "plt.show()\n",
    "    \n",
    "# "
   ]
  },
  {
   "attachments": {},
   "cell_type": "markdown",
   "metadata": {},
   "source": [
    "# 3D Inference, MCMC test"
   ]
  },
  {
   "attachments": {},
   "cell_type": "markdown",
   "metadata": {},
   "source": [
    "https://github.com/kazewong/TutorialsAndExplains/blob/main/HBA_explain/Session_version.ipynb"
   ]
  },
  {
   "cell_type": "code",
   "execution_count": 125,
   "metadata": {},
   "outputs": [],
   "source": [
    "import emcee\n",
    "import corner\n",
    "import jax"
   ]
  },
  {
   "cell_type": "code",
   "execution_count": null,
   "metadata": {},
   "outputs": [],
   "source": [
    "# m1_min_int = 4.9\n",
    "# m1_max_int= 60.\n",
    "# n_m1_int= 4000\n",
    "\n",
    "# m1_mu_sampled, m1_sigma_events = sample_m1_events(df_mc, df_eta, biased=False)\n",
    "# m2_mu_sampled, m2_sigma_events = sample_m2_events(df_mc, df_eta, biased=False)\n",
    "\n",
    "# Ns = len(m1_mu_sampled)\n",
    "# Nt = Ns\n",
    "\n",
    "# m_int_range = np.geomspace(m1_min_int, m1_max_int, n_m1_int)\n",
    "\n",
    "# posteriors_m1 = np.zeros((Nt, n_m1_int))\n",
    "# posteriors_m2 = np.zeros((Nt, n_m1_int))\n",
    "\n",
    "# priors_m2 = np.zeros((n_m1_int, n_m1_int))\n",
    "\n",
    "# for i in range(Nt):\n",
    "#     posteriors_m1[i] = normal_dist(m_int_range, m1_mu_sampled[i], m1_sigma_events[i])\n",
    "#     posteriors_m2[i] = normal_dist(m_int_range, m2_mu_sampled[i], m2_sigma_events[i])"
   ]
  },
  {
   "cell_type": "code",
   "execution_count": 126,
   "metadata": {},
   "outputs": [],
   "source": [
    "m1_min_int = 4.9\n",
    "m1_max_int= 60.\n",
    "n_m1_int= 500\n",
    "\n",
    "\n",
    "m1_mu_sampled, m2_mu_sampled,  m1_variance, m2_variance, m1_m2_covariance = sample_m1_m2_events(df_mc[:200], df_eta[:200])\n",
    "covariances = np.zeros((len(m1_mu_sampled), 2,2))\n",
    "\n",
    "for i in range(len(m1_mu_sampled)):\n",
    "    covariances[i] =  [[m1_variance[i], m1_m2_covariance[i]], [m1_m2_covariance[i], m2_variance[i]]]\n",
    "\n",
    "Ns = len(m1_mu_sampled)\n",
    "Nt = Ns\n",
    "\n",
    "m_int_range = np.geomspace(m1_min_int, m1_max_int, n_m1_int)\n",
    "\n",
    "posteriors_m1 = np.zeros((Nt, n_m1_int))\n",
    "posteriors_m2 = np.zeros((Nt, n_m1_int, n_m1_int))\n",
    "\n",
    "\n",
    "for i in range(Nt):\n",
    "    posteriors_m1[i] = normal_dist(m_int_range, m1_mu_sampled[i], np.sqrt(covariances[i][0,0]))\n",
    "    for j in range(n_m1_int):\n",
    "        posteriors_m2[i,j] = bivariate_normal_dist(m_int_range[j], m_int_range, m1_mu_sampled[i], m2_mu_sampled[i], covariances[i])"
   ]
  },
  {
   "cell_type": "code",
   "execution_count": 56,
   "metadata": {},
   "outputs": [
    {
     "data": {
      "text/plain": [
       "(500, 500)"
      ]
     },
     "execution_count": 56,
     "metadata": {},
     "output_type": "execute_result"
    }
   ],
   "source": [
    "# set the prior (m1_range, m2_range)\n",
    "prior_m2_full = power(m_int_range, beta_inj, mmin_inj, m_int_range[-1])\n",
    "prior_m2 = np.tri(len(m_int_range), len(m_int_range)) * prior_m2_full\n",
    "norm = integrate.trapezoid(prior_m2, m_int_range, axis=1)\n",
    "norm[np.where(norm==0)]=1.0\n",
    "prior_m2 = prior_m2 / norm[:, np.newaxis]\n",
    "\n",
    "prior_m2.shape\n"
   ]
  },
  {
   "cell_type": "code",
   "execution_count": 115,
   "metadata": {},
   "outputs": [
    {
     "data": {
      "image/png": "[encoded data removed]",
      "text/plain": [
       "<Figure size 432x288 with 1 Axes>"
      ]
     },
     "metadata": {
      "needs_background": "light"
     },
     "output_type": "display_data"
    }
   ],
   "source": [
    "integral_m2 = np.zeros((Nt, n_m1_int))\n",
    "\n",
    "for j in range(len(m_int_range)):\n",
    "    for i in range(Nt):\n",
    "        integral_m2[i,j] = integrate.trapezoid(prior_m2[j] * posteriors_m2[i,j], m_int_range)\n",
    "        if i == 7 and j ==250:\n",
    "            plt.plot(m_int_range, prior_m2[j] * posteriors_m2[i,j])"
   ]
  },
  {
   "cell_type": "code",
   "execution_count": 116,
   "metadata": {},
   "outputs": [
    {
     "name": "stdout",
     "output_type": "stream",
     "text": [
      "(200, 500)\n"
     ]
    },
    {
     "data": {
      "text/plain": [
       "3.6355645805014998e-25"
      ]
     },
     "execution_count": 116,
     "metadata": {},
     "output_type": "execute_result"
    }
   ],
   "source": [
    "print(integral_m2.shape)\n",
    "integral_m2[7][250]"
   ]
  },
  {
   "cell_type": "code",
   "execution_count": 120,
   "metadata": {},
   "outputs": [
    {
     "data": {
      "image/png": "[encoded data removed]",
      "text/plain": [
       "<Figure size 432x288 with 1 Axes>"
      ]
     },
     "metadata": {
      "needs_background": "light"
     },
     "output_type": "display_data"
    }
   ],
   "source": [
    "# posterior_2d = np.reshape(posteriors_m2, (Nt, n_m1_int*n_m1_int))\n",
    "# integral_test = np.matmul(posteriors_m2, prior_m2.T)\n",
    "integral_test = jax.numpy.matmul(prior_m2.T, posteriors_m2)\n",
    "plt.plot(m_int_range, integral_test[7][250])\n",
    "\n",
    "integral_test = integrate.trapezoid(integral_test, m_int_range, axis=2)"
   ]
  },
  {
   "cell_type": "code",
   "execution_count": 121,
   "metadata": {},
   "outputs": [
    {
     "name": "stdout",
     "output_type": "stream",
     "text": [
      "(200, 500)\n"
     ]
    },
    {
     "data": {
      "text/plain": [
       "5.9170420441720045e-25"
      ]
     },
     "execution_count": 121,
     "metadata": {},
     "output_type": "execute_result"
    }
   ],
   "source": [
    "print(integral_test.shape)\n",
    "integral_test[7][250]"
   ]
  },
  {
   "cell_type": "code",
   "execution_count": 127,
   "metadata": {},
   "outputs": [
    {
     "data": {
      "text/plain": [
       "-20.276317690739113"
      ]
     },
     "execution_count": 127,
     "metadata": {},
     "output_type": "execute_result"
    }
   ],
   "source": [
    "np.min(m1_mu_sampled)"
   ]
  },
  {
   "cell_type": "code",
   "execution_count": null,
   "metadata": {},
   "outputs": [],
   "source": [
    "# def lnprob(hyper):\n",
    "#     alpha = hyper[0]\n",
    "#     m1_min_pow = hyper[1]\n",
    "#     m1_max_pow = hyper[2]\n",
    "#     beta = beta_inj\n",
    "\n",
    "#     for j in range(n_m1_int):\n",
    "#         priors_m2[j] = power(m_int_range, beta, m1_min_pow, m_int_range[j])\n",
    "#         norm_p2 = integrate.trapezoid(priors_m2[j])\n",
    "#         if norm_p2 != 0:\n",
    "#             priors_m2[j] = priors_m2[j]/norm_p2\n",
    "    \n",
    "#     integrand_m2 = jax.numpy.matmul(priors_m2 ,posteriors_m2.T).T\n",
    "\n",
    "#     prior_m1 = power(m_int_range, alpha, m1_min_pow, m1_max_pow)\n",
    "#     # make sure the prior is normalized \n",
    "#     # (becomes a problem with geomspaced bins where the first few numbers are 0s)\n",
    "#     # prior = prior / integrate.trapezoid(prior, m_int_range)\n",
    "#     prior_m1 = prior_m1 / jax.numpy.trapz(prior_m1, m_int_range)\n",
    "\n",
    "#     integrands = prior_m1*posteriors_m1*integrand_m2 \n",
    "\n",
    "#     # integrals = integrate.trapezoid(integrands, m_int_range, axis=1)\n",
    "#     integrals = jax.numpy.trapz(integrands, m_int_range, axis=1)\n",
    "    \n",
    "#     integrals = integrals[integrals!=0]\n",
    "    \n",
    "#     return np.sum(np.log(integrals))"
   ]
  },
  {
   "cell_type": "code",
   "execution_count": 137,
   "metadata": {},
   "outputs": [],
   "source": [
    "def lnprob(hyper):\n",
    "    alpha = hyper[0]\n",
    "    m1_min_pow = hyper[1]\n",
    "    m1_max_pow = hyper[2]\n",
    "    beta = beta_inj\n",
    "\n",
    "    integrand_m2 = np.zeros((Nt, n_m1_int))\n",
    "\n",
    "    prior_m2_full = power(m_int_range, beta, m1_min_pow, m_int_range[-1])\n",
    "    prior_m2 = np.tri(len(m_int_range), len(m_int_range)) * prior_m2_full\n",
    "    norm = integrate.trapezoid(prior_m2, m_int_range, axis=1)\n",
    "    norm[np.where(norm==0)]=1.0\n",
    "    prior_m2 = prior_m2 / norm[:, np.newaxis]\n",
    "        \n",
    "    integrand_m2 = jax.numpy.matmul(prior_m2.T, posteriors_m2)\n",
    "    integrand_m2 = integrate.trapezoid(integrand_m2, m_int_range, axis=2)\n",
    "    \n",
    "\n",
    "    prior_m1 = power(m_int_range, alpha, m1_min_pow, m1_max_pow)\n",
    "    # make sure the prior is normalized \n",
    "    # (becomes a problem with geomspaced bins where the first few numbers are 0s)\n",
    "    # prior = prior / integrate.trapezoid(prior, m_int_range)\n",
    "    prior_m1 = prior_m1 / jax.numpy.trapz(prior_m1, m_int_range)\n",
    "\n",
    "    integrands = prior_m1*integrand_m2*posteriors_m1\n",
    "\n",
    "    integrals = jax.numpy.trapz(integrands, m_int_range, axis=1)\n",
    "    \n",
    "    integrals = integrals[integrals!=0]\n",
    "    \n",
    "    return np.sum(np.log(integrals))\n"
   ]
  },
  {
   "cell_type": "code",
   "execution_count": 138,
   "metadata": {},
   "outputs": [],
   "source": [
    "#  m1_low_range = np.linspace(m1_low_min, m1_low_max, n_m1_low)\n",
    "#     log_likelihoods = np.zeros(n_m1_low)\n",
    "\n",
    "#     m_int_range = np.geomspace(m1_min_int, m1_max_int, n_m1_int)\n",
    "\n",
    "#     priors_m2 = np.zeros((n_m1_int, n_m1_int))\n",
    "\n",
    "#     posteriors_m1 = np.zeros((Nt, n_m1_int))    \n",
    "#     posteriors_m2 = np.zeros((Nt, n_m1_int))\n",
    "\n",
    "#     for m1_low_index, m1_low in enumerate(m1_low_range):\n",
    "\n",
    "#         priors_m2 = np.zeros((n_m1_int, n_m1_int))\n",
    "\n",
    "#         posteriors_m1 = np.zeros((Nt, n_m1_int))\n",
    "#         posteriors_m2 = np.zeros((Nt, n_m1_int))\n",
    "\n",
    "#         prior_m1 = power(m_int_range, alpha, m1_low, m1_max_pow)\n",
    "#         prior_m1 = prior_m1 / integrate.trapezoid(prior_m1, m_int_range)\n",
    "\n",
    "\n",
    "#         for j in range(n_m1_int):\n",
    "#             priors_m2[j] = power(m_int_range, beta, m1_low, m_int_range[j])\n",
    "\n",
    "\n",
    "#         for i in range(Nt):\n",
    "#             posteriors_m1[i] = normal_dist(m_int_range, m1_mu_events[i], m1_sigma_events[i])\n",
    "#             posteriors_m2[i] = normal_dist(m_int_range, m2_mu_events[i], m2_sigma_events[i])\n",
    "\n",
    "        \n",
    "#         # this block of code actually works, confirmed (although it 'integrates' along m2 using np.sum())\n",
    "#         integrand_m2 = np.matmul(priors_m2 ,posteriors_m2.T).T\n",
    "\n",
    "#         integrands = prior_m1*posteriors_m1*integrand_m2       \n",
    "\n",
    "#         integrals = integrate.trapezoid(integrands, m_int_range, axis=1)\n",
    "#         integrals = integrals[integrals!=0]\n",
    "#         log_likelihoods[m1_low_index] = np.sum(np.log(integrals))\n",
    "\n",
    "        \n",
    "#     return log_likelihoods, m1_low_range"
   ]
  },
  {
   "cell_type": "code",
   "execution_count": 139,
   "metadata": {},
   "outputs": [],
   "source": [
    "def population_posterior(hyper):\n",
    "    alpha = hyper[0]\n",
    "    m1_min_pow = hyper[1]\n",
    "    m1_max_pow = hyper[2]\n",
    "    beta = beta_inj\n",
    "\n",
    "    if (alpha>-1.0) or (alpha<-5.0):\n",
    "        return -np.inf\n",
    "    if (m1_min_pow>5.5) or (m1_min_pow<4.5):\n",
    "        return -np.inf\n",
    "    if (m1_max_pow>100.0) or (m1_max_pow<40.0):\n",
    "        return -np.inf\n",
    "    if (beta>1.0) or (beta<-2.5):\n",
    "        return -np.inf\n",
    "\n",
    "    else:\n",
    "        return lnprob(hyper)"
   ]
  },
  {
   "cell_type": "code",
   "execution_count": 140,
   "metadata": {},
   "outputs": [
    {
     "name": "stdout",
     "output_type": "stream",
     "text": [
      "-246.90706\n",
      "Time: 0.77405 s\n"
     ]
    }
   ],
   "source": [
    "hyper_test = [-3.5, 4.97, 61.4]\n",
    "\n",
    "start = time.time()\n",
    "print(population_posterior(hyper_test))\n",
    "end = time.time()\n",
    "\n",
    "print(f\"Time: {end-start:.5f} s\")"
   ]
  },
  {
   "cell_type": "code",
   "execution_count": 141,
   "metadata": {},
   "outputs": [
    {
     "name": "stderr",
     "output_type": "stream",
     "text": [
      "100%|██████████| 50/50 [04:28<00:00,  5.36s/it]\n"
     ]
    }
   ],
   "source": [
    "ndim, nwalkers = 3, 10\n",
    "\n",
    "sampler = emcee.EnsembleSampler(nwalkers, ndim, population_posterior)\n",
    "\n",
    "p0 = np.random.uniform([-3.4, 4.99, 55], [-3.6, 5.01, 65], size=(nwalkers,ndim))\n",
    "\n",
    "# burn-in sampler:\n",
    "state = sampler.run_mcmc(p0, 50, progress=True)\n",
    "sampler.reset()\n"
   ]
  },
  {
   "cell_type": "code",
   "execution_count": 142,
   "metadata": {},
   "outputs": [
    {
     "name": "stderr",
     "output_type": "stream",
     "text": [
      "100%|██████████| 100/100 [08:12<00:00,  4.93s/it]\n"
     ]
    }
   ],
   "source": [
    "N_MCMC = 100\n",
    "\n",
    "# explore parameter space:\n",
    "state = sampler.run_mcmc(state, N_MCMC, progress=True)"
   ]
  },
  {
   "cell_type": "code",
   "execution_count": 143,
   "metadata": {},
   "outputs": [],
   "source": [
    "# get flat results:\n",
    "flat_samples = sampler.get_chain(discard=50, flat=True)"
   ]
  },
  {
   "cell_type": "code",
   "execution_count": 144,
   "metadata": {},
   "outputs": [
    {
     "data": {
      "image/png": "[encoded data removed]",
      "text/plain": [
       "<Figure size 547.2x547.2 with 9 Axes>"
      ]
     },
     "metadata": {
      "needs_background": "light"
     },
     "output_type": "display_data"
    }
   ],
   "source": [
    "# samples\n",
    "fig = corner.corner(flat_samples, truths=[alpha_inj, mmin_inj, mmax_inj],\\\n",
    "                    labels=[r\"$\\alpha$\", r\"$m_{\\rm min}$\", r\"$m_{\\rm max}$\"],\\\n",
    "                        quantiles=[0.16, 0.5, 0.84],\\\n",
    "                            show_titles=True,)\n",
    "# plt.savefig(plotdir + f\"3D_ N_MCMC_{N_MCMC}.pdf\")"
   ]
  },
  {
   "cell_type": "code",
   "execution_count": 145,
   "metadata": {},
   "outputs": [
    {
     "name": "stdout",
     "output_type": "stream",
     "text": [
      "(-3.729996027533345, 0.2657745448490991, 0.3926868154652454)\n",
      "(4.855454035981564, 0.04193495931721447, 0.09305480030684699)\n",
      "(83.60526211157834, 12.433160219999735, 43.073757708797224)\n"
     ]
    }
   ],
   "source": [
    "samples = sampler.chain[:, 50:, :].reshape((-1, ndim))\n",
    "\n",
    "alpha_mcmc, mmin_mcmc, mmax_mcmc = map(lambda v: (v[1], v[2]-v[1], v[1]-v[0]),\n",
    "                             zip(*np.percentile(samples, [16, 50, 84],\n",
    "                                                axis=0)))\n",
    "print(alpha_mcmc)\n",
    "print(mmin_mcmc)\n",
    "print(mmax_mcmc)"
   ]
  },
  {
   "attachments": {},
   "cell_type": "markdown",
   "metadata": {},
   "source": [
    "# Scipy curve_fit test"
   ]
  },
  {
   "cell_type": "code",
   "execution_count": 92,
   "metadata": {},
   "outputs": [],
   "source": [
    "# m1_mu_sampled, m1_sigma_events = sample_m1_events(df_mc, df_eta, biased=False)\n",
    "\n",
    "m1_mu_sampled, m2_mu_sampled,  m1_variance, m2_variance, m1_m2_covariance = sample_m1_m2_events(df_mc, df_eta, injected=False)\n",
    "covariances = np.zeros((len(m1_mu_sampled), 2,2))\n",
    "\n",
    "for i in range(len(m1_mu_sampled)):\n",
    "    covariances[i] =  [[m1_variance[i], m1_m2_covariance[i]], [m1_m2_covariance[i], m2_variance[i]]]"
   ]
  },
  {
   "cell_type": "code",
   "execution_count": 93,
   "metadata": {},
   "outputs": [
    {
     "name": "stderr",
     "output_type": "stream",
     "text": [
      "/opt/anaconda3/envs/gwbench/lib/python3.7/site-packages/ipykernel_launcher.py:6: RuntimeWarning: invalid value encountered in double_scalars\n",
      "  \n"
     ]
    },
    {
     "data": {
      "image/png": "[encoded data removed]",
      "text/plain": [
       "<Figure size 720x360 with 1 Axes>"
      ]
     },
     "metadata": {
      "needs_background": "light"
     },
     "output_type": "display_data"
    },
    {
     "name": "stdout",
     "output_type": "stream",
     "text": [
      "[ -3.17279985   4.86959421 460.69573045]\n"
     ]
    }
   ],
   "source": [
    "target_func = power\n",
    "bins = np.geomspace(3.0, 120, 100)\n",
    "\n",
    "y, X = np.histogram(m1_mu_sampled, bins=bins, density=True)\n",
    "X = X[:-1]\n",
    "# plt.plot(X, y)\n",
    "# plt.loglog()\n",
    "\n",
    "\n",
    "popt, pcov = optimize.curve_fit(target_func, X, y, p0=[-3.5, 5.0, 60.0])\n",
    "\n",
    "plt.figure(figsize=(10, 5))\n",
    "\n",
    "plt.plot(X, power(X,  alpha_inj, mmin_inj, mmax_inj), '--', label='Injected')\n",
    "\n",
    "\n",
    "\n",
    "# plt.plot(X, target_func(X, *popt), '--', label='Scipy Fit')\n",
    "plt.plot(X, power(X,  -3.3, mmin_inj, mmax_inj), '--', label='recovered')\n",
    "\n",
    "\n",
    "\n",
    "plt.plot(X, y, 'ro', label='Data')\n",
    "plt.xlabel(\"m1\")\n",
    "plt.semilogy()\n",
    "plt.legend()\n",
    "\n",
    "# plt.xlim(3.5, 10)\n",
    "\n",
    "plt.show()\n",
    "\n",
    "\n",
    "print(popt)"
   ]
  },
  {
   "cell_type": "code",
   "execution_count": null,
   "metadata": {},
   "outputs": [],
   "source": []
  },
  {
   "attachments": {},
   "cell_type": "markdown",
   "metadata": {},
   "source": [
    "# Alpha Bias vs N_det"
   ]
  },
  {
   "cell_type": "code",
   "execution_count": null,
   "metadata": {},
   "outputs": [],
   "source": [
    "def get_avg_sigma_boot(n_samples, n_bootstrap):\n",
    "\n",
    "    n_samples = int(n_samples)\n",
    "\n",
    "    sigma_devs_boot = np.zeros(n_bootstrap)\n",
    "\n",
    "    for n in range(n_bootstrap):\n",
    "        \n",
    "        sample_indices = np.random.randint(0, len(df_mc_raw), n_samples)\n",
    "        df_mc = df_mc_raw.iloc[sample_indices]\n",
    "        df_eta = df_eta_raw.iloc[sample_indices]\n",
    "\n",
    "        # Calculate the requisite mu_m1, sigma_m1 for the Event Likelihoods\n",
    "        z = df_mc[\"z\"]\n",
    "        mchirp = (df_mc[\"Mc\"])/ (1+z)\n",
    "        eta = df_mc[\"eta\"]\n",
    "\n",
    "        sigMc_raw = df_mc[\"Mc_stat_err\"]\n",
    "        sigEta = df_eta[\"eta_stat_err\"]\n",
    "        sigZ = df_mc[\"z_stat_err\"]\n",
    "\n",
    "        sigMc = np.sqrt((((mchirp**2)*((sigZ**2)*((1.+z)**-4.)))+((sigMc_raw**2)*((1.+z)**-2.))))\n",
    "\n",
    "\n",
    "        aux0=0.25*((((1.+((1.+(-4.*eta))**0.5))**2))*((eta**2)*((mchirp**2)*(sigZ**2))))\n",
    "        aux1=(((0.3*((1.+(-4.*eta))**0.5))+((0.3*((1.+(-4.*eta))**1.))+(1.*eta)))**2)\n",
    "        aux2=(((1.+((1.+(-4.*eta))**0.5))**2))*((eta**2)*((sigMc_raw**2)*(((1.+z)**2))))\n",
    "        aux3=(((1.+(-4.*eta))**-1.)*(aux1*((mchirp**2)*((sigEta**2)*(((1.+z)**2))))))+(0.25*aux2)\n",
    "        m1_sigma_events=np.sqrt(((eta**-3.2)*(((1.+z)**-4.)*(aux0+aux3))))\n",
    "        m1_sigma_events = m1_sigma_events.values\n",
    "\n",
    "\n",
    "        # Use biased mc, eta for the m1_mu list only\n",
    "        bias_eta = df_eta[\"bias_19\"]\n",
    "        bias_mc = df_mc[\"bias_19\"]\n",
    "\n",
    "        mchirp = (df_mc[\"Mc\"] + bias_mc)\n",
    "        eta = np.minimum(df_mc[\"eta\"]+bias_eta, 0.25) # make sure that eta doesn't exceed what is physically possible\n",
    "\n",
    "        m1_biased = conv.mass1_from_mchirp_eta(mchirp, eta)\n",
    "        m1_mu_detections = m1_biased / (1+z)\n",
    "        # sample mu from the detection gaussians to avoid Biases\n",
    "        m1_mu_sampled = np.random.normal(m1_mu_detections, m1_sigma_events)\n",
    "\n",
    "        log_p_alpha_lam_0_src, alpha_range_src = log_likelihood_alpha(m1_mu_sampled, m1_sigma_events, \\\n",
    "        alpha_min=alpha_inj-1.0, alpha_max=alpha_inj+0.5, n_alpha=30, \\\n",
    "        m1_min_int = 5., m1_max_int=200., n_m1_int=20000,\\\n",
    "        m1_min_pow = 5., m1_max_pow=100.,\\\n",
    "        Ns=len(df_mc[\"Mc\"]), Nt=len(df_mc[\"Mc\"]))\n",
    "        log_alpha_norm =log_p_alpha_lam_0_src - np.max(log_p_alpha_lam_0_src)   \n",
    "\n",
    "\n",
    "        target_func = normal_dist\n",
    "        y, X = np.exp(log_alpha_norm), alpha_range_src\n",
    "        popt, pcov = optimize.curve_fit(target_func, X, y, p0=[-3.1, 0.6, 1.0])\n",
    "\n",
    "        mu_alpha = popt[0]\n",
    "        sig_alpha = popt[1]\n",
    "        sigma_devs_boot[n] = np.abs(alpha_inj - mu_alpha)/sig_alpha\n",
    "        # print(rf\"Injected alpha is {sigma_devs_boot[n] :.2f} sigma away\")\n",
    "\n",
    "    print(rf\"For N = {n_samples} detections, injected alpha is {np.average(sigma_devs_boot) :.2f} sigma away on avg.\")\n",
    "    return np.median(sigma_devs_boot), np.std(sigma_devs_boot)"
   ]
  },
  {
   "cell_type": "code",
   "execution_count": null,
   "metadata": {},
   "outputs": [],
   "source": [
    "N_samples_range = [10., 25., 50., 100., 150.]\n",
    "med_sigma_boot_range = np.zeros(len(N_samples_range))\n",
    "std_sigma_boot_range = np.zeros(len(N_samples_range))"
   ]
  },
  {
   "cell_type": "code",
   "execution_count": null,
   "metadata": {},
   "outputs": [],
   "source": [
    "med_sigma_boot_range[0], std_sigma_boot_range[0] = get_avg_sigma_boot(n_samples=N_samples_range[0], n_bootstrap=100)"
   ]
  },
  {
   "cell_type": "code",
   "execution_count": null,
   "metadata": {},
   "outputs": [],
   "source": [
    "med_sigma_boot_range[1], std_sigma_boot_range[1] = get_avg_sigma_boot(n_samples=N_samples_range[1], n_bootstrap=100)"
   ]
  },
  {
   "cell_type": "code",
   "execution_count": null,
   "metadata": {},
   "outputs": [],
   "source": [
    "med_sigma_boot_range[2], std_sigma_boot_range[2] = get_avg_sigma_boot(n_samples=N_samples_range[2], n_bootstrap=100)"
   ]
  },
  {
   "cell_type": "code",
   "execution_count": null,
   "metadata": {},
   "outputs": [],
   "source": [
    "med_sigma_boot_range[3], std_sigma_boot_range[3] = get_avg_sigma_boot(n_samples=N_samples_range[3], n_bootstrap=100)"
   ]
  },
  {
   "cell_type": "code",
   "execution_count": null,
   "metadata": {},
   "outputs": [],
   "source": [
    "med_sigma_boot_range[4], std_sigma_boot_range[4] = get_avg_sigma_boot(n_samples=N_samples_range[4], n_bootstrap=100)"
   ]
  },
  {
   "cell_type": "code",
   "execution_count": null,
   "metadata": {},
   "outputs": [],
   "source": [
    "fig, axes = plt.subplots(figsize=(6, 5))\n",
    "plt.errorbar(N_samples_range, med_sigma_boot_range, yerr=std_sigma_boot_range, fmt='o', capsize=5.0)\n",
    "plt.xlabel(\"N\")\n",
    "plt.ylabel(\"Median $\\\\alpha$ bias ($\\sigma$)\")\n",
    "plt.grid()\n",
    "# plt.semilogy()\n",
    "# plt.savefig(plotdir+'alpha_3.5_lam_1_n_vs_bias.pdf')\n",
    "plt.show()"
   ]
  },
  {
   "cell_type": "code",
   "execution_count": null,
   "metadata": {},
   "outputs": [],
   "source": []
  },
  {
   "cell_type": "code",
   "execution_count": null,
   "metadata": {},
   "outputs": [],
   "source": []
  },
  {
   "cell_type": "code",
   "execution_count": null,
   "metadata": {},
   "outputs": [],
   "source": []
  },
  {
   "cell_type": "code",
   "execution_count": null,
   "metadata": {},
   "outputs": [],
   "source": []
  },
  {
   "cell_type": "code",
   "execution_count": null,
   "metadata": {},
   "outputs": [],
   "source": []
  },
  {
   "attachments": {},
   "cell_type": "markdown",
   "metadata": {},
   "source": [
    "# ChatGPT Stuff"
   ]
  },
  {
   "attachments": {},
   "cell_type": "markdown",
   "metadata": {},
   "source": [
    "I asked, \"what is the integral of x^(-n) multiplied by a gaussian over x, over a range a to b, where n is a positive number?\"\n",
    "\n",
    "It replied:\n",
    "The integral of $x^{-n}$ multiplied by a Gaussian over x, over a range a to b, where n is a positive number and the first term is normalized over the integration range, can be expressed as:\n",
    "\n",
    "$$\\int_a^b \\frac{1}{x^n} e^{-\\frac{(x-\\mu)^2}{2\\sigma^2}} dx$$\n",
    "\n",
    "where $\\mu$ and $\\sigma$ are the mean and standard deviation of the Gaussian, respectively.\n",
    "\n",
    "This integral does not have a closed-form solution in terms of elementary functions, but it can be expressed in terms of the incomplete gamma function $\\Gamma(n,x)$ as follows:\n",
    "\n",
    "$$\\int_a^b \\frac{1}{x^n} e^{-\\frac{(x-\\mu)^2}{2\\sigma^2}} dx = \\frac{1}{2} \\left[\\Gamma\\left(\\frac{n-1}{2},\\frac{(a-\\mu)^2}{2\\sigma^2}\\right) - \\Gamma\\left(\\frac{n-1}{2},\\frac{(b-\\mu)^2}{2\\sigma^2}\\right)\\right]$$\n",
    "\n",
    "where $\\Gamma(s,x)$ is the incomplete gamma function defined as:\n",
    "\n",
    "$$\\Gamma(s,x) = \\int_x^\\infty t^{s-1} e^{-t} dt$$\n",
    "\n",
    "Note that this expression assumes $a > 0$ and $b > 0$. If either $a$ or $b$ is zero, the integral diverges and must be handled separately. If both $a$ and $b$ are zero, the integral is undefined.\n",
    "\n",
    "If you are working in Python, you can evaluate the incomplete gamma function using the scipy.special.gammainc function in the scipy library. Here's an example code snippet that evaluates the integral for specific values of $a$, $b$, $\\mu$, $\\sigma$, and $n$:"
   ]
  },
  {
   "cell_type": "code",
   "execution_count": null,
   "metadata": {},
   "outputs": [],
   "source": [
    "import scipy.special as sp\n",
    "\n",
    "def integral_of_powerlaw_times_gaussian(alpha, mu, sigma, a, b):\n",
    "    prefactor = 0.5\n",
    "    term1 = sp.gammainc((alpha-1)/2, (a-mu)**2 / (2*sigma**2))\n",
    "    term2 = sp.gammainc((alpha-1)/2, (b-mu)**2 / (2*sigma**2))\n",
    "    return prefactor * (term1 - term2)\n"
   ]
  },
  {
   "cell_type": "code",
   "execution_count": null,
   "metadata": {},
   "outputs": [],
   "source": [
    "import numpy as np\n",
    "from scipy.special import gammainc\n",
    "\n",
    "a = mmin_inj\n",
    "b = mmax_inj\n",
    "mu = m1_mu_sampled[0]\n",
    "sigma = m1_sigma_events[0]\n",
    "n = 3.5\n",
    "\n",
    "integral = 0.5 * (gammainc((n-1)/2, (a-mu)**2/(2*sigma**2)) -\n",
    "                  gammainc((n-1)/2, (b-mu)**2/(2*sigma**2)))\n",
    "integral"
   ]
  },
  {
   "cell_type": "code",
   "execution_count": null,
   "metadata": {},
   "outputs": [],
   "source": [
    "print(integral_of_powerlaw_times_gaussian(3.5, m1_mu_sampled[0], m1_sigma_events[0], mmin_inj, mmax_inj))\n",
    "\n",
    "m1 = np.geomspace(mmin_inj, mmax_inj, 1000000)\n",
    "prior_m1 = m1**(-3.5)\n",
    "posterior = normal_dist(m1, m1_mu_sampled[0], m1_sigma_events[0])\n",
    "integrate.trapezoid(prior_m1 * posterior, m1)\n"
   ]
  },
  {
   "cell_type": "code",
   "execution_count": null,
   "metadata": {},
   "outputs": [],
   "source": []
  }
 ],
 "metadata": {
  "kernelspec": {
   "display_name": "Python 3.7.13 ('gwbench')",
   "language": "python",
   "name": "python3"
  },
  "language_info": {
   "codemirror_mode": {
    "name": "ipython",
    "version": 3
   },
   "file_extension": ".py",
   "mimetype": "text/x-python",
   "name": "python",
   "nbconvert_exporter": "python",
   "pygments_lexer": "ipython3",
   "version": "3.7.13"
  },
  "orig_nbformat": 4,
  "vscode": {
   "interpreter": {
    "hash": "cbe1fb295ede18687e704982bc89cf918a072ae67c1f3b9a387e3fbbe13ee567"
   }
  }
 },
 "nbformat": 4,
 "nbformat_minor": 2
}
