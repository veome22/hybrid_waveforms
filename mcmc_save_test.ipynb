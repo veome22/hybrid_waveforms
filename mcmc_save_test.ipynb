{
 "cells": [
  {
   "cell_type": "code",
   "execution_count": 1,
   "metadata": {},
   "outputs": [],
   "source": [
    "import numpy as np\n",
    "import matplotlib.pyplot as plt\n",
    "import pandas as pd\n",
    "from scipy import interpolate, integrate, optimize, stats\n",
    "import pycbc.conversions as conv\n",
    "import time\n",
    "import emcee\n",
    "import corner\n",
    "\n",
    "from mpi4py import MPI\n",
    "import glob\n"
   ]
  },
  {
   "cell_type": "code",
   "execution_count": 2,
   "metadata": {},
   "outputs": [],
   "source": [
    "save_likelihoods = False\n",
    "\n",
    "plotdir = 'power_law_m2_lim_hyper_param_plots/'\n",
    "\n",
    "likelihood_dir = 'power_law_-3.5_5_100_m2_lim_likelihoods/'\n",
    "\n",
    "mcmc_dir = 'mcmc/powerlaw_3.5_m2_lim/'\n",
    "\n",
    "alpha_inj = -3.5\n",
    "beta_inj = 0.0\n",
    "mmin_inj = 5.0\n",
    "mmax_inj = 60.\n",
    "\n",
    "bias_index=1\n",
    "\n",
    "import matplotlib\n",
    "font = {'family' : 'serif',\n",
    "        'size'   : 14}\n",
    "\n",
    "matplotlib.rc('font', **font)"
   ]
  },
  {
   "cell_type": "code",
   "execution_count": 3,
   "metadata": {},
   "outputs": [
    {
     "name": "stdout",
     "output_type": "stream",
     "text": [
      "Total number of events: 9105\n"
     ]
    }
   ],
   "source": [
    "files = [f'powerlaw_3.5_lams_m2_lim/powerlaw_alpha_3.5_lam_0_1_Mc_0_9600.csv']\n",
    "\n",
    "df1 = pd.DataFrame()\n",
    "for fi in files:\n",
    "    df_temp = pd.read_csv(fi)\n",
    "    df1 = df1.append(df_temp)\n",
    "# drop the zero rows that resulted from NoneType Networks\n",
    "df_mc_raw = df1.loc[~(df1==0).all(axis=1)]\n",
    "df_mc_raw = df_mc_raw[df_mc_raw[\"Mc\"] > 0]\n",
    "df_mc_raw = df_mc_raw[(df_mc_raw[\"m1\"]/(1+df_mc_raw[\"z\"])) <= 60.]\n",
    "# df_mc_raw = df_mc_raw[df_mc_raw[\"z\"] < 2]\n",
    "print(\"Total number of events:\",len(df_mc_raw))"
   ]
  },
  {
   "cell_type": "code",
   "execution_count": 4,
   "metadata": {},
   "outputs": [
    {
     "name": "stdout",
     "output_type": "stream",
     "text": [
      "Total number of events: 9105\n"
     ]
    }
   ],
   "source": [
    "files = [f'powerlaw_3.5_lams_m2_lim/powerlaw_alpha_3.5_lam_0_1_eta_0_9600.csv']\n",
    "\n",
    "df1 = pd.DataFrame()\n",
    "for fi in files:\n",
    "    df_temp = pd.read_csv(fi)\n",
    "    df1 = df1.append(df_temp)\n",
    "# drop the zero rows that resulted from NoneType Networks\n",
    "df_eta_raw = df1.loc[~(df1==0).all(axis=1)]\n",
    "df_eta_raw = df_eta_raw[df_eta_raw[\"Mc\"] > 0]\n",
    "df_eta_raw = df_eta_raw[(df_eta_raw[\"m1\"]/(1+df_eta_raw[\"z\"])) <= 60.]\n",
    "# df_eta_raw = df_eta_raw[df_eta_raw[\"z\"] < 2]\n",
    "print(\"Total number of events:\",len(df_eta_raw))"
   ]
  },
  {
   "cell_type": "code",
   "execution_count": 5,
   "metadata": {},
   "outputs": [
    {
     "name": "stdout",
     "output_type": "stream",
     "text": [
      "9105\n",
      "20.590229726828472\n"
     ]
    }
   ],
   "source": [
    "# select all data\n",
    "df_mc = df_mc_raw\n",
    "df_eta = df_eta_raw\n",
    "\n",
    "print(len(df_mc))\n",
    "print(np.median(df_mc[\"Mc\"]))"
   ]
  },
  {
   "cell_type": "code",
   "execution_count": 6,
   "metadata": {},
   "outputs": [],
   "source": [
    "def sample_m1_m2_events(df_mc, df_eta, biased=False, bias_index=19, injected=True):\n",
    "    z = df_mc[\"z\"]\n",
    "    mchirp = df_mc[\"Mc\"]/ (1+z)\n",
    "    eta = df_mc[\"eta\"]\n",
    "\n",
    "    sigMc = df_mc[\"Mc_stat_err\"]\n",
    "    sigEta = df_eta[\"eta_stat_err\"]\n",
    "    sigZ = df_mc[\"z_stat_err\"]\n",
    "\n",
    "    # sigMc = np.sqrt((((mchirp**2)*((sigZ**2)*((1.+z)**-4.)))+((sigMc_raw**2)*((1.+z)**-2.))))\n",
    "\n",
    "\n",
    "    m1_mu_detections = df_mc[\"m1\"] / (1+z)\n",
    "    m2_mu_detections = df_mc[\"m2\"] / (1+z)\n",
    "\n",
    "    # compute variance of m1\n",
    "    aux0=0.25*((((1.+((1.+(-4.*eta))**0.5))**2))*((eta**2)*((mchirp**2)*(sigZ**2))))\n",
    "    aux1=(((0.3*((1.+(-4.*eta))**0.5))+((0.3*((1.+(-4.*eta))**1.))+(1.*eta)))**2)\n",
    "    aux2=(((1.+((1.+(-4.*eta))**0.5))**2))*((eta**2)*((sigMc**2)*(((1.+z)**2))))\n",
    "    aux3=(((1.+(-4.*eta))**-1.)*(aux1*((mchirp**2)*((sigEta**2)*(((1.+z)**2))))))+(0.25*aux2)\n",
    "    m1_variance=(eta**-3.2)*(((1.+z)**-4.)*(aux0+aux3))\n",
    "    m1_variance = m1_variance.values\n",
    "\n",
    "    # compute variance of m2\n",
    "    aux0=0.25*((((-1.+((1.+(-4.*eta))**0.5))**2))*((eta**2)*((mchirp**2)*(sigZ**2))))\n",
    "    aux1=(((0.3*((1.+(-4.*eta))**0.5))+((-0.3*((1.+(-4.*eta))**1.))+(-1.*eta)))**2)\n",
    "    aux2=(((0.5+(-0.5*((1.+(-4.*eta))**0.5)))**2))*((eta**2)*((sigMc**2)*(((1.+z)**2))))\n",
    "    aux3=(((1.+(-4.*eta))**-1.)*(aux1*((mchirp**2)*((sigEta**2)*(((1.+z)**2))))))+aux2\n",
    "    m2_variance=(eta**-3.2)*(((1.+z)**-4.)*(aux0+aux3))\n",
    "    m2_variance = m2_variance.values\n",
    "\n",
    "    # compute covariance of m1 and m2\n",
    "    aux0=(0.25+(-0.25*((1.+(-4.*eta))**1.)))*((eta**2)*((sigMc**2)*(((1.+(1.*z))**2))))\n",
    "    aux1=(-0.09*((1.+(-4.*eta))**2.))+((((1.+(-4.*eta))**1.)*(0.09+(-0.6*eta)))+(-1.*(eta**2)))\n",
    "    aux2=((0.25+(-0.25*((1.+(-4.*eta))**1.)))*((eta**2)*(sigZ**2)))+(((1.+(-4.*eta))**-1.)*(aux1*((sigEta**2)*(((1.+(1.*z))**2)))))\n",
    "    m1_m2_covariance=(eta**-3.2)*(((1.+z)**-4.)*(aux0+((mchirp**2)*aux2)))\n",
    "    m1_m2_covariance = m1_m2_covariance.values\n",
    "\n",
    "    if biased:\n",
    "        bias_mc = df_mc[f\"bias_{bias_index}\"]\n",
    "        bias_eta = df_eta[f\"bias_{bias_index}\"]\n",
    "    \n",
    "        mchirp_biased = (df_mc[\"Mc\"] + bias_mc) / (1+z)\n",
    "        eta_biased = np.minimum(df_mc[\"eta\"]+bias_eta, 0.25) # make sure that eta doesn't exceed what is physically possible\n",
    "        # eta_biased = df_mc[\"eta\"]+bias_eta\n",
    "\n",
    "        m1_mu_detections = conv.mass1_from_mchirp_eta(mchirp_biased, eta_biased)\n",
    "        m2_mu_detections = conv.mass2_from_mchirp_eta(mchirp_biased, eta_biased)\n",
    "        \n",
    "    # sample mu from the detection gaussians to avoid Biases\n",
    "    m1_mu_sampled = np.random.normal(m1_mu_detections, np.sqrt(m1_variance))\n",
    "    m2_mu_sampled = np.random.normal(m2_mu_detections, np.sqrt(m2_variance))\n",
    "\n",
    "    if injected:\n",
    "        m1_mu_sampled = m1_mu_detections.values\n",
    "        m2_mu_sampled = m2_mu_detections.values\n",
    "\n",
    "    return m1_mu_sampled, m2_mu_sampled,  m1_variance, m2_variance, m1_m2_covariance"
   ]
  },
  {
   "cell_type": "code",
   "execution_count": 7,
   "metadata": {},
   "outputs": [],
   "source": [
    "def power(m1, alpha, m_min, m_max):\n",
    "    '''\n",
    "    BBH merger primary mass PDF.\n",
    "    '''\n",
    "    if alpha != -1:\n",
    "        N1 = 1 / ((m_max**(alpha+1) - m_min**(alpha+1))/(alpha+1))\n",
    "    else:\n",
    "        N1 = 1/(np.log(m_max/m_min))\n",
    "\n",
    "    return np.piecewise(m1, [(m1 < m_min), (m1 >= m_min)*(m1 < m_max), (m1 >= m_max)],\n",
    "                        [0, lambda m1: N1*m1**alpha, 0])\n",
    "\n",
    "\n",
    "def normal_dist(m1, mu, sigma, amp=1.0):\n",
    "    A = np.sqrt(2*np.pi) * sigma\n",
    "    return amp * np.exp(-(m1 - mu) ** 2 / (2 * sigma**2)) / A\n",
    "    # return stats.norm.pdf(m1, loc=mu, scale=sigma)\n",
    "\n",
    "def bivariate_normal_dist(m1, m2, mu1, mu2, cov):\n",
    "    sig1 = np.sqrt(cov[0,0])\n",
    "    sig2 = np.sqrt(cov[1,1])\n",
    "    sig12 = cov[0,1]\n",
    "\n",
    "    rho = sig12 / (sig1 * sig2)\n",
    "\n",
    "    Z = ((m1-mu1)**2 / (sig1)**2) + ((m2-mu2)**2 / (sig2)**2) - ((2*rho*(m1-mu1)*(m2-mu2)) / (sig1*sig2))\n",
    "\n",
    "    A = 2*np.pi * sig1 * sig2 * np.sqrt(1-(rho**2))\n",
    "\n",
    "    return np.exp(-(Z / (2 * (1 - rho**2)))) / A"
   ]
  },
  {
   "attachments": {},
   "cell_type": "markdown",
   "metadata": {},
   "source": [
    "# MCMC"
   ]
  },
  {
   "cell_type": "code",
   "execution_count": 42,
   "metadata": {},
   "outputs": [],
   "source": [
    "m1_min_int = 4.5\n",
    "m1_max_int= 180.\n",
    "n_m1_int= 800\n",
    "n_m2_int= 300\n",
    "\n",
    "N_events = 100\n",
    "m1_mu_sampled, m2_mu_sampled,  m1_variance, m2_variance, m1_m2_covariance = sample_m1_m2_events(df_mc[:N_events], df_eta[:N_events], injected=True)\n",
    "covariances = np.zeros((len(m1_mu_sampled), 2,2))\n",
    "\n",
    "for i in range(len(m1_mu_sampled)):\n",
    "    covariances[i] =  [[m1_variance[i], m1_m2_covariance[i]], [m1_m2_covariance[i], m2_variance[i]]]\n",
    "\n",
    "Ns = len(m1_mu_sampled)\n",
    "Nt = Ns\n",
    "\n",
    "m_int_range = np.geomspace(m1_min_int, m1_max_int, n_m1_int)\n",
    "\n",
    "posteriors_m2 = np.zeros((Nt, n_m1_int, n_m1_int))\n",
    "for i in range(Nt):\n",
    "    for j in range(n_m1_int):\n",
    "        posteriors_m2[i,j] = bivariate_normal_dist(m_int_range[j], m_int_range, m1_mu_sampled[i], m2_mu_sampled[i], covariances[i])"
   ]
  },
  {
   "cell_type": "code",
   "execution_count": 9,
   "metadata": {},
   "outputs": [],
   "source": [
    "# def lnprob_parallel_test(hyper):\n",
    "#     alpha = hyper[0]\n",
    "#     m1_min_pow = hyper[1]\n",
    "#     m1_max_pow = hyper[2]\n",
    "#     beta = beta_inj\n",
    "\n",
    "\n",
    "#     # get number of processors and processor rank\n",
    "#     comm = MPI.COMM_WORLD\n",
    "#     size = comm.Get_size()\n",
    "#     rank = comm.Get_rank()\n",
    "\n",
    "\n",
    "#     count = Nt // size  # number of catchments for each process to analyze\n",
    "#     remainder = Nt % size  # extra catchments if n is not a multiple of size\n",
    "\n",
    "#     if rank < remainder:  # processes with rank < remainder analyze one extra catchment\n",
    "#         start = rank * (count + 1)  # index of first catchment to analyze\n",
    "#         stop = start + count + 1  # index of last catchment to analyze\n",
    "#     else:\n",
    "#         start = rank * count + remainder\n",
    "#         stop = start + count\n",
    "\n",
    "#     integrand_m2_local = np.zeros((stop-start, n_m1_int))\n",
    "#     prior_m1 = power(m_int_range, alpha, m1_min_pow, m1_max_pow)\n",
    "#     prior_m1 = prior_m1 / integrate.trapezoid(prior_m1, m_int_range)\n",
    "\n",
    "#     for j in range(n_m1_int):\n",
    "#         m2_int_range = np.linspace(m1_min_int, m_int_range[j], n_m2_int)\n",
    "#         priors_m2 = power(m2_int_range, beta, m1_min_pow, m_int_range[j])\n",
    "\n",
    "#         for i in range(start, stop):\n",
    "#             posteriors_m2 = bivariate_normal_dist(m_int_range[j], m2_int_range, m1_mu_sampled[i], m2_mu_sampled[i], covariances[i])\n",
    "#             integrand_m2_local[i,j] = integrate.trapezoid(priors_m2 * posteriors_m2, m2_int_range)   \n",
    "\n",
    "#     # send results to rank 0\n",
    "#     if rank > 0:\n",
    "#         comm.Send(integrand_m2_local, dest=0)  # send results to process 0\n",
    "#     else:\n",
    "#         integrand_m2_combined = np.copy(integrand_m2_local)  # initialize final results with results from process 0\n",
    "#         for i in range(1, size):  # determine the size of the array to be received from each process\n",
    "#             if i < remainder:\n",
    "#                 rank_size = count + 1\n",
    "#             else:\n",
    "#                 rank_size = count\n",
    "#             tmp = np.empty((rank_size, n_m1_int), dtype=np.float)  # create empty array to receive results\n",
    "#             print(tmp.shape)\n",
    "#             comm.Recv(tmp, source=i)  # receive results from the process\n",
    "#             integrand_m2_combined = np.vstack((integrand_m2_combined, tmp))  # add the received results to the final results\n",
    "        \n",
    "  \n",
    "#         integrands = prior_m1 * integrand_m2_combined\n",
    "#         integrals = integrate.trapezoid(integrands, m_int_range, axis=1)\n",
    "\n",
    "#         print(\"done with integrals\")\n",
    "#         integrals = integrals[integrals!=0]\n",
    "        \n",
    "#         return np.sum(np.log(integrals))\n"
   ]
  },
  {
   "cell_type": "code",
   "execution_count": null,
   "metadata": {},
   "outputs": [],
   "source": [
    "def lnprob_parallel(hyper, index_range):\n",
    "    alpha = hyper[0]\n",
    "    m1_min_pow = hyper[1]\n",
    "    m1_max_pow = hyper[2]\n",
    "    beta = beta_inj\n",
    "\n",
    "    start = index_range[0]\n",
    "    stop = index_range[1]\n",
    "    N_posteriors = stop-start\n",
    "\n",
    "    integrand_m2_local = np.zeros((N_posteriors, n_m1_int))\n",
    "    prior_m1 = power(m_int_range, alpha, m1_min_pow, m1_max_pow)\n",
    "    prior_m1 = prior_m1 / integrate.trapezoid(prior_m1, m_int_range)\n",
    "\n",
    "    for j in range(n_m1_int):\n",
    "        m2_int_range = np.linspace(m1_min_int, m_int_range[j], n_m2_int)\n",
    "        priors_m2 = power(m2_int_range, beta, m1_min_pow, m_int_range[j])\n",
    "\n",
    "        for i in range(N_posteriors):\n",
    "            index = start+i\n",
    "            posteriors_m2 = bivariate_normal_dist(m_int_range[j], m2_int_range, m1_mu_sampled[index], m2_mu_sampled[index], covariances[index])\n",
    "            integrand_m2_local[i,j] = integrate.trapezoid(priors_m2 * posteriors_m2, m2_int_range)\n",
    "\n",
    "        integrands = prior_m1 * integrand_m2_local\n",
    "        integrals = integrate.trapezoid(integrands, m_int_range, axis=1)\n",
    "\n",
    "        integrals = integrals[integrals!=0]\n",
    "\n",
    "        return np.sum(np.log(integrals))\n"
   ]
  },
  {
   "cell_type": "code",
   "execution_count": 7,
   "metadata": {},
   "outputs": [
    {
     "name": "stdout",
     "output_type": "stream",
     "text": [
      "33\n",
      "1\n",
      "[[0, 33], [33, 66], [66, 100]]\n"
     ]
    }
   ],
   "source": [
    "N_events = 100\n",
    "N_parallel = 3\n",
    "\n",
    "# determine how many events will be handled by each processor\n",
    "size = N_events // N_parallel\n",
    "remainder = N_events % N_parallel\n",
    "\n",
    "# split N_events into separate ranges for each processor\n",
    "indices = []\n",
    "for i in range(N_parallel):\n",
    "    indices.append([i*size, (i+1)*size])\n",
    "\n",
    "# add the remaining events to the last processpr\n",
    "indices[-1][1] = indices[-1][1]+remainder\n",
    "\n",
    "print(indices)"
   ]
  },
  {
   "cell_type": "code",
   "execution_count": null,
   "metadata": {},
   "outputs": [],
   "source": [
    "from mpi4py.futures import MPIPoolExecutor\n",
    "import numpy as np\n",
    "\n",
    "def calc_squares(range_tuple):\n",
    "        return range_tuple**2\n",
    "\n",
    "\n",
    "if __name__ == '__main__':\n",
    "    size = 3\n",
    "    subranges = []\n",
    "\n",
    "    for i in range(size):\n",
    "        subranges.append(np.linspace(i*size, (i+1)*size, size))\n",
    "\n",
    "    executor = MPIPoolExecutor()\n",
    "    prime_sets = executor.map(calc_squares, subranges)\n",
    "    executor.shutdown()\n",
    "\n",
    "    for result in prime_sets:\n",
    "        print(result)"
   ]
  },
  {
   "cell_type": "code",
   "execution_count": 44,
   "metadata": {},
   "outputs": [],
   "source": [
    "def lnprob(hyper):\n",
    "    alpha = hyper[0]\n",
    "    m1_min_pow = hyper[1]\n",
    "    m1_max_pow = hyper[2]\n",
    "    beta = beta_inj\n",
    "\n",
    "    integrand_m2 = np.zeros((Nt, n_m1_int))\n",
    "    prior_m1 = power(m_int_range, alpha, m1_min_pow, m1_max_pow)\n",
    "    prior_m1 = prior_m1 / integrate.trapezoid(prior_m1, m_int_range)\n",
    "\n",
    "    for j in range(n_m1_int):\n",
    "        m2_int_range = np.linspace(m1_min_int, m_int_range[j], n_m2_int)\n",
    "        priors_m2 = power(m2_int_range, beta, m1_min_pow, m_int_range[j])\n",
    "        for i in range(Nt):\n",
    "            posteriors_m2 = bivariate_normal_dist(m_int_range[j], m2_int_range, m1_mu_sampled[i], m2_mu_sampled[i], covariances[i])\n",
    "            integrand_m2[i,j] = integrate.trapezoid(priors_m2 * posteriors_m2, m2_int_range)   \n",
    "\n",
    "\n",
    "    integrands = prior_m1 * integrand_m2\n",
    "    integrals = integrate.trapezoid(integrands, m_int_range, axis=1)\n",
    "    integrals = integrals[integrals!=0]\n",
    "    \n",
    "    return np.sum(np.log(integrals))\n"
   ]
  },
  {
   "cell_type": "code",
   "execution_count": 12,
   "metadata": {},
   "outputs": [],
   "source": [
    "def population_posterior(hyper):\n",
    "\n",
    "    # set only the 'mcmc_params' from the hyper array,\n",
    "    # leave everything else to 'injected' value.\n",
    "    hyper_mcmc = [alpha_inj, mmin_inj, mmax_inj]\n",
    "\n",
    "    for i, mcmc_param in enumerate(mcmc_params):\n",
    "        hyper_mcmc[mcmc_param] = hyper[i]\n",
    "\n",
    "    alpha = hyper_mcmc[0]\n",
    "    m1_min = hyper_mcmc[1]\n",
    "    m1_max = hyper_mcmc[2]\n",
    "\n",
    "\n",
    "    if (alpha>-1.0) or (alpha<-5.0):\n",
    "        return -np.inf\n",
    "    if (m1_min>5.5) or (m1_min<4.5):\n",
    "        return -np.inf\n",
    "    if (m1_max>200.0) or (m1_max<40.0):\n",
    "        return -np.inf\n",
    "    # if (beta>1.0) or (beta<-2.5):\n",
    "    #     return -np.inf\n",
    "\n",
    "    else:\n",
    "        return lnprob(hyper_mcmc)"
   ]
  },
  {
   "cell_type": "code",
   "execution_count": 14,
   "metadata": {},
   "outputs": [],
   "source": [
    "mcmc_params_list = ['alpha', 'm1_min', 'm1_max']\n",
    "truths_all=[alpha_inj, mmin_inj, mmax_inj]\n",
    "priors_mcmc_low_all = [-4.2, 4.98, 55.0]\n",
    "priors_mcmc_high_all = [-3.8, 5.02, 65.0]\n",
    "\n",
    "labels_all=[r\"$\\alpha$\", r\"$m_{\\rm min}$\", r\"$m_{\\rm max}$\"]\n",
    "\n",
    "# set which parameters to run MCMC for\n",
    "mcmc_params = [0,1] \n",
    "\n",
    "\n",
    "priors_mcmc_low = []\n",
    "priors_mcmc_high = []\n",
    "truths = []\n",
    "labels = []\n",
    "\n",
    "for mcmc_param in mcmc_params:\n",
    "    priors_mcmc_low.append(priors_mcmc_low_all[mcmc_param])\n",
    "    priors_mcmc_high.append(priors_mcmc_high_all[mcmc_param])\n",
    "    truths.append(truths_all[mcmc_param])\n",
    "    labels.append(labels_all[mcmc_param])"
   ]
  },
  {
   "cell_type": "code",
   "execution_count": 45,
   "metadata": {},
   "outputs": [
    {
     "name": "stdout",
     "output_type": "stream",
     "text": [
      "-302.3730643607408\n",
      "Time: 1.93133 s\n"
     ]
    }
   ],
   "source": [
    "hyper_test = [-3.5, 4.97]\n",
    "\n",
    "start = time.time()\n",
    "print(population_posterior(hyper_test))\n",
    "end = time.time()\n",
    "\n",
    "print(f\"Time: {end-start:.5f} s\")"
   ]
  },
  {
   "cell_type": "code",
   "execution_count": 6,
   "metadata": {},
   "outputs": [
    {
     "data": {
      "text/plain": [
       "[-3.4, 5.05, 65.0]"
      ]
     },
     "execution_count": 6,
     "metadata": {},
     "output_type": "execute_result"
    }
   ],
   "source": [
    "mcmc_params_p0 = [-3.5, 5.0, 60.0]\n",
    "diffs = [0.1, 0.05, 5.0]\n",
    "priors_mcmc_low_all = [x-y for x, y in zip(mcmc_params_p0, diffs)]\n",
    "priors_mcmc_high_all = [x+y for x, y in zip(mcmc_params_p0, diffs)]"
   ]
  },
  {
   "cell_type": "code",
   "execution_count": 14,
   "metadata": {},
   "outputs": [
    {
     "name": "stdout",
     "output_type": "stream",
     "text": [
      "power_law_-3.5_5_100_m2_lim_likelihoods/mcmc_alpha_m1_min_N_100.h5\n"
     ]
    }
   ],
   "source": [
    "fname = 'mcmc_'\n",
    "for i in mcmc_params:\n",
    "    fname += f'{mcmc_params_list[i]}_'\n",
    "\n",
    "mcmc_file = likelihood_dir + fname + f'N_{N_events}.h5'\n",
    "reset_mcmc = True\n",
    "\n",
    "print(mcmc_file)"
   ]
  },
  {
   "cell_type": "code",
   "execution_count": 15,
   "metadata": {},
   "outputs": [],
   "source": [
    "ndim, nwalkers = len(mcmc_params), 2*len(mcmc_params)+1\n",
    "\n",
    "backend = emcee.backends.HDFBackend(mcmc_file)\n",
    "\n",
    "if reset_mcmc:\n",
    "    backend.reset(nwalkers, ndim)\n",
    "\n",
    "# Initialize the sampler\n",
    "sampler = emcee.EnsembleSampler(nwalkers, ndim, population_posterior, backend=backend)\n",
    "p0 = np.random.uniform(low=priors_mcmc_low, high=priors_mcmc_high, size=(nwalkers,ndim))\n",
    "\n",
    "burnin=5"
   ]
  },
  {
   "cell_type": "code",
   "execution_count": 16,
   "metadata": {},
   "outputs": [],
   "source": [
    "# # burn-in sampler:\n",
    "# state = sampler.run_mcmc(p0, burnin, progress=True)\n",
    "# sampler.reset()"
   ]
  },
  {
   "cell_type": "code",
   "execution_count": 17,
   "metadata": {},
   "outputs": [
    {
     "name": "stderr",
     "output_type": "stream",
     "text": [
      "100%|██████████| 10/10 [02:48<00:00, 16.88s/it]\n"
     ]
    }
   ],
   "source": [
    "N_MCMC = 10\n",
    "\n",
    "# explore parameter space:\n",
    "state = sampler.run_mcmc(p0, N_MCMC, progress=True)"
   ]
  },
  {
   "cell_type": "code",
   "execution_count": 18,
   "metadata": {},
   "outputs": [],
   "source": [
    "# get flat results:\n",
    "flat_samples = sampler.get_chain(discard=burnin, flat=True)"
   ]
  },
  {
   "cell_type": "code",
   "execution_count": 20,
   "metadata": {},
   "outputs": [],
   "source": [
    "# Read samples from backend file\n",
    "reader = emcee.backends.HDFBackend(mcmc_file)\n",
    "flat_samples = reader.get_chain(discard=burnin, flat=True)"
   ]
  },
  {
   "cell_type": "code",
   "execution_count": 21,
   "metadata": {},
   "outputs": [
    {
     "name": "stderr",
     "output_type": "stream",
     "text": [
      "WARNING:root:Too few points to create valid contours\n"
     ]
    },
    {
     "data": {
      "image/png": "[encoded data removed]",
      "text/plain": [
       "<Figure size 396x396 with 4 Axes>"
      ]
     },
     "metadata": {
      "needs_background": "light"
     },
     "output_type": "display_data"
    }
   ],
   "source": [
    "fig = corner.corner(flat_samples, truths=truths,\\\n",
    "                    labels=labels,\\\n",
    "                        quantiles=[0.16, 0.5, 0.84],\\\n",
    "                            show_titles=True)\n",
    "# plt.savefig(plotdir + f\"3D_ N_MCMC_{N_MCMC}.pdf\")"
   ]
  },
  {
   "cell_type": "code",
   "execution_count": null,
   "metadata": {},
   "outputs": [],
   "source": [
    "# samples = sampler.chain[:, 50:, :].reshape((-1, ndim))\n",
    "\n",
    "# alpha_mcmc, mmin_mcmc, mmax_mcmc = map(lambda v: (v[1], v[2]-v[1], v[1]-v[0]),\n",
    "#                              zip(*np.percentile(samples, [16, 50, 84],\n",
    "#                                                 axis=0)))\n",
    "# print(alpha_mcmc)\n",
    "# print(mmin_mcmc)\n",
    "# print(mmax_mcmc)"
   ]
  },
  {
   "attachments": {},
   "cell_type": "markdown",
   "metadata": {},
   "source": [
    "# Multiprocessing test"
   ]
  },
  {
   "cell_type": "code",
   "execution_count": 22,
   "metadata": {},
   "outputs": [
    {
     "name": "stdout",
     "output_type": "stream",
     "text": [
      "8 CPUs\n"
     ]
    }
   ],
   "source": [
    "from multiprocessing import cpu_count\n",
    "\n",
    "ncpu = cpu_count()\n",
    "print(\"{0} CPUs\".format(ncpu))"
   ]
  },
  {
   "cell_type": "code",
   "execution_count": 23,
   "metadata": {},
   "outputs": [
    {
     "name": "stderr",
     "output_type": "stream",
     "text": [
      "100%|██████████| 10/10 [01:14<00:00,  7.47s/it]"
     ]
    },
    {
     "name": "stdout",
     "output_type": "stream",
     "text": [
      "Multiprocessing took 81.3 seconds\n"
     ]
    },
    {
     "name": "stderr",
     "output_type": "stream",
     "text": [
      "\n"
     ]
    }
   ],
   "source": [
    "from multiprocessing import Pool\n",
    "\n",
    "with Pool() as pool:\n",
    "    sampler = emcee.EnsembleSampler(nwalkers, ndim, population_posterior, pool=pool, backend=backend)\n",
    "    start = time.time()\n",
    "    sampler.run_mcmc(p0, N_MCMC, progress=True)\n",
    "    end = time.time()\n",
    "    multi_time = end - start\n",
    "    print(\"Multiprocessing took {0:.1f} seconds\".format(multi_time))"
   ]
  },
  {
   "cell_type": "code",
   "execution_count": 24,
   "metadata": {},
   "outputs": [
    {
     "data": {
      "image/png": "[encoded data removed]",
      "text/plain": [
       "<Figure size 396x396 with 4 Axes>"
      ]
     },
     "metadata": {
      "needs_background": "light"
     },
     "output_type": "display_data"
    }
   ],
   "source": [
    "# get flat results:\n",
    "flat_samples = sampler.get_chain(discard=burnin, flat=True)\n",
    "fig = corner.corner(flat_samples, truths=truths,\\\n",
    "                    labels=labels,\\\n",
    "                        quantiles=[0.16, 0.5, 0.84],\\\n",
    "                            show_titles=True)"
   ]
  },
  {
   "cell_type": "code",
   "execution_count": 25,
   "metadata": {},
   "outputs": [
    {
     "name": "stdout",
     "output_type": "stream",
     "text": [
      "8 CPUs\n"
     ]
    }
   ],
   "source": [
    "from multiprocessing import cpu_count\n",
    "\n",
    "ncpu = cpu_count()\n",
    "print(\"{0} CPUs\".format(ncpu))"
   ]
  },
  {
   "cell_type": "code",
   "execution_count": 27,
   "metadata": {},
   "outputs": [
    {
     "name": "stdout",
     "output_type": "stream",
     "text": [
      "^C\n"
     ]
    }
   ],
   "source": [
    "mpi_time = !mpiexec -n {ncpu} python run_mcmc_powerlaw.py\n"
   ]
  },
  {
   "cell_type": "code",
   "execution_count": 110,
   "metadata": {},
   "outputs": [
    {
     "data": {
      "text/plain": [
       "['/opt/anaconda3/envs/gwbench/lib/python3.7/site-packages/emcee/moves/red_blue.py:99: RuntimeWarning: invalid value encountered in double_scalars',\n",
       " '  lnpdiff = f + nlp - state.log_prob[j]',\n",
       " '19.36760711669922']"
      ]
     },
     "execution_count": 110,
     "metadata": {},
     "output_type": "execute_result"
    }
   ],
   "source": [
    "# Read samples from backend file\n",
    "reader = emcee.backends.HDFBackend(mcmc_file)\n",
    "flat_samples = reader.get_chain(discard=burnin, flat=True)\n",
    "\n",
    "fig = corner.corner(flat_samples, truths=truths,\\\n",
    "                    labels=labels,\\\n",
    "                        quantiles=[0.16, 0.5, 0.84],\\\n",
    "                            show_titles=True)"
   ]
  },
  {
   "attachments": {},
   "cell_type": "markdown",
   "metadata": {},
   "source": [
    "# Read MCMC files from Cluster"
   ]
  },
  {
   "cell_type": "code",
   "execution_count": 3,
   "metadata": {},
   "outputs": [],
   "source": [
    "# set which parameters to run MCMC for\n",
    "mcmc_params = [0,1,2] \n",
    "N_events = 9000\n",
    "N_MCMC = 2000\n",
    "burnin = 0"
   ]
  },
  {
   "cell_type": "code",
   "execution_count": 4,
   "metadata": {},
   "outputs": [
    {
     "name": "stdout",
     "output_type": "stream",
     "text": [
      "mcmc/powerlaw_3.5_m2_lim/mcmc_alpha_m1_min_m1_max_N_events_9000_N_MCMC_2000.h5\n"
     ]
    }
   ],
   "source": [
    "mcmc_params_list = ['alpha', 'm1_min', 'm1_max']\n",
    "truths_all=[alpha_inj, mmin_inj, mmax_inj]\n",
    "priors_mcmc_low_all = [-4.2, 4.98, 55.0]\n",
    "priors_mcmc_high_all = [-3.8, 5.02, 65.0]\n",
    "\n",
    "labels_all=[r\"$\\alpha$\", r\"$m_{\\rm min}$\", r\"$m_{\\rm max}$\"]\n",
    "\n",
    "truths = []\n",
    "labels = []\n",
    "\n",
    "for mcmc_param in mcmc_params:\n",
    "    truths.append(truths_all[mcmc_param])\n",
    "    labels.append(labels_all[mcmc_param])\n",
    "    \n",
    "fname = 'mcmc_'\n",
    "for i in mcmc_params:\n",
    "    fname += f'{mcmc_params_list[i]}_'\n",
    "\n",
    "mcmc_file = mcmc_dir + fname + f'N_events_{N_events}_N_MCMC_{N_MCMC}.h5'\n",
    "\n",
    "\n",
    "print(mcmc_file)"
   ]
  },
  {
   "cell_type": "code",
   "execution_count": 5,
   "metadata": {},
   "outputs": [
    {
     "name": "stderr",
     "output_type": "stream",
     "text": [
      "WARNING:root:Too few points to create valid contours\n"
     ]
    },
    {
     "data": {
      "image/png": "[encoded data removed]",
      "text/plain": [
       "<Figure size 547.2x547.2 with 9 Axes>"
      ]
     },
     "metadata": {
      "needs_background": "light"
     },
     "output_type": "display_data"
    }
   ],
   "source": [
    "# Read samples from backend file\n",
    "reader = emcee.backends.HDFBackend(mcmc_file)\n",
    "flat_samples = reader.get_chain(discard=burnin, flat=True)\n",
    "\n",
    "fig = corner.corner(flat_samples, truths=truths,\\\n",
    "                    labels=labels,\\\n",
    "                        quantiles=[0.16, 0.5, 0.84],\\\n",
    "                            show_titles=True)"
   ]
  },
  {
   "cell_type": "code",
   "execution_count": null,
   "metadata": {},
   "outputs": [],
   "source": []
  }
 ],
 "metadata": {
  "kernelspec": {
   "display_name": "gwbench",
   "language": "python",
   "name": "python3"
  },
  "language_info": {
   "codemirror_mode": {
    "name": "ipython",
    "version": 3
   },
   "file_extension": ".py",
   "mimetype": "text/x-python",
   "name": "python",
   "nbconvert_exporter": "python",
   "pygments_lexer": "ipython3",
   "version": "3.7.13"
  },
  "orig_nbformat": 4
 },
 "nbformat": 4,
 "nbformat_minor": 2
}
