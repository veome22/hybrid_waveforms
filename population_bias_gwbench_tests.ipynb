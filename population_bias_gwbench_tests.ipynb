{
 "cells": [
  {
   "cell_type": "code",
   "execution_count": 2,
   "metadata": {},
   "outputs": [],
   "source": [
    "import numpy as np\n",
    "import matplotlib.pyplot as plt\n",
    "from scipy import interpolate, integrate, optimize\n",
    "from astropy.cosmology import FlatLambdaCDM\n",
    "import astropy.units as u\n",
    "cosmo = FlatLambdaCDM(H0=70 * u.km / u.s / u.Mpc, Tcmb0=2.725 * u.K, Om0=0.3)\n",
    "\n",
    "from gwbench import injections\n",
    "from gwbench import network\n",
    "from gwbench import snr"
   ]
  },
  {
   "cell_type": "code",
   "execution_count": 3,
   "metadata": {},
   "outputs": [],
   "source": [
    "def p_m1(m1, alpha, beta, m_min, m_t, m_max):\n",
    "    '''\n",
    "    BBH merger primary mass PDF.\n",
    "    '''\n",
    "    if alpha != -1 and beta != -1:\n",
    "        N1 = 1 / ((m_t**(alpha+1) - m_min**(alpha+1))/(alpha+1)\n",
    "                  + m_t**(alpha-beta)*(m_max**(beta+1) - m_t**(beta+1))/(beta+1))\n",
    "    else:\n",
    "        if alpha == -1 and beta != -1:\n",
    "            N1 = 1 / (np.log(m_t/m_min) + m_t**(alpha-beta) *\n",
    "                      (m_max**(beta+1) - m_t**(beta+1))/(beta+1))\n",
    "        elif alpha != -1 and beta == -1:\n",
    "            N1 = 1 / ((m_t**(alpha+1) - m_min**(alpha+1)) /\n",
    "                      (alpha+1) + m_t**(alpha-beta)*np.log(m_max/m_t))\n",
    "        else:\n",
    "            N1 = 1/(np.log(m_t/m_min) + m_t**(alpha-beta)*np.log(m_max/m_t))\n",
    "\n",
    "    return np.piecewise(m1, [(m1 < m_min), (m1 >= m_min)*(m1 < m_t), (m1 >= m_t)*(m1 < m_max), (m1 >= m_max)],\n",
    "                        [0, lambda m1: N1*m1**alpha, lambda m1: N1*m_t**(alpha-beta)*m1**beta, 0])\n",
    "\n",
    "def p_q(q, gamma, q_min):\n",
    "    '''\n",
    "    BBH merger mass ratio PDF.\n",
    "    '''\n",
    "    Nq = (gamma+1)/(1-q_min**(gamma+1))\n",
    "    return Nq * q**gamma\n",
    "\n",
    "\n",
    "def p_z(z, z_min, z_max):\n",
    "    '''\n",
    "    BBH merger redshift PDF.\n",
    "    '''\n",
    "    Nz = 1/integrate.quad(lambda x: (1+x)**(2.6) /\n",
    "                          (1 + ((1+x)/3.2)**(6.2)), z_min, z_max)[0]\n",
    "    return Nz * (1+z)**(2.6)/(1 + ((1+z)/3.2)**(6.2))\n",
    "\n",
    "\n",
    "def p_s(s, alpha_s, beta_s):\n",
    "    '''\n",
    "    BH spin PDF.\n",
    "    '''\n",
    "    N_s = 1 / integrate.quad(lambda ss: ss**(alpha_s-1)\n",
    "                             * (1-ss)**(beta_s-1), 0, 1)[0]\n",
    "    return N_s * s**(alpha_s-1)*(1-s)**(beta_s-1)\n",
    "\n",
    "\n",
    "def R_mrg(z, R02, z_min, z_max):\n",
    "    '''\n",
    "    Volumetric merger rate density.\n",
    "    '''\n",
    "    return R02 * p_z(z, z_min, z_max)/p_z(0.2, z_min, z_max)"
   ]
  },
  {
   "attachments": {},
   "cell_type": "markdown",
   "metadata": {},
   "source": [
    "# Simple Power Law Test"
   ]
  },
  {
   "cell_type": "code",
   "execution_count": 4,
   "metadata": {},
   "outputs": [],
   "source": [
    "def p_m1(m1, alpha, m_min, m_max):\n",
    "    '''\n",
    "    BBH merger primary mass PDF.\n",
    "    '''\n",
    "    if alpha != -1:\n",
    "        N1 = 1 / ((m_max**(alpha+1) - m_min**(alpha+1))/(alpha+1))\n",
    "    else:\n",
    "        N1 = 1/(np.log(m_max/m_min))\n",
    "\n",
    "    return np.piecewise(m1, [(m1 < m_min), (m1 >= m_min)*(m1 < m_max), (m1 >= m_max)],\n",
    "                        [0, lambda m1: N1*m1**alpha, 0])"
   ]
  },
  {
   "cell_type": "code",
   "execution_count": 5,
   "metadata": {},
   "outputs": [],
   "source": [
    "def inv_cdf_analytic(c, alpha, mmin, mmax):\n",
    "    term1 = np.power(mmax, 1+alpha) - np.power(mmin, 1+alpha)\n",
    "    term2 = np.power(mmin, 1+alpha)\n",
    "\n",
    "    return np.power((c*term1 + term2), (1/(1+alpha)))"
   ]
  },
  {
   "cell_type": "code",
   "execution_count": 6,
   "metadata": {},
   "outputs": [],
   "source": [
    "alpha= -3.5\n",
    "m_min = 5\n",
    "m_max = 100\n",
    "num_injs = 100000\n",
    "\n",
    "m1 = np.geomspace(m_min, m_max, 10000000)\n",
    "\n",
    "pdf_m1 = p_m1(m1, alpha, m_min, m_max)\n",
    "cdf_m1 = integrate.cumulative_trapezoid(pdf_m1, m1, initial=0)\n",
    "inv_cdf_m1 = interpolate.interp1d(cdf_m1 / cdf_m1[-1], m1)\n",
    "m1_events = inv_cdf_m1(np.random.rand(num_injs))\n"
   ]
  },
  {
   "cell_type": "code",
   "execution_count": 7,
   "metadata": {},
   "outputs": [],
   "source": [
    "alpha= -3.5\n",
    "m_min = 5\n",
    "m_max = 100\n",
    "num_injs = 100000\n",
    "\n",
    "m1_events_analytic = inv_cdf_analytic(np.random.rand(num_injs), alpha, m_min, m_max)"
   ]
  },
  {
   "cell_type": "code",
   "execution_count": 8,
   "metadata": {},
   "outputs": [
    {
     "data": {
      "text/plain": [
       "(0.0, 0.1)"
      ]
     },
     "execution_count": 8,
     "metadata": {},
     "output_type": "execute_result"
    },
    {
     "data": {
      "image/png": "[encoded data removed]",
      "text/plain": [
       "<Figure size 432x288 with 1 Axes>"
      ]
     },
     "metadata": {
      "needs_background": "light"
     },
     "output_type": "display_data"
    }
   ],
   "source": [
    "bins = np.geomspace(5, 100, 2000)\n",
    "\n",
    "\n",
    "\n",
    "y, X = np.histogram(m1_events_analytic, bins=bins, density=True)\n",
    "X = X[:-1]\n",
    "plt.plot(X, y, 'ro', label='Injected')\n",
    "\n",
    "y, X = np.histogram(m1_events, bins=bins, density=True)\n",
    "X = X[:-1]\n",
    "plt.plot(X, y, 'bo', label='Injected')\n",
    "\n",
    "plt.grid()\n",
    "plt.xlim(10, 11)\n",
    "plt.ylim(0.0, 0.1)"
   ]
  },
  {
   "cell_type": "code",
   "execution_count": 9,
   "metadata": {},
   "outputs": [
    {
     "data": {
      "image/png": "[encoded data removed]",
      "text/plain": [
       "<Figure size 432x288 with 1 Axes>"
      ]
     },
     "metadata": {
      "needs_background": "light"
     },
     "output_type": "display_data"
    }
   ],
   "source": [
    "alpha= -3.5\n",
    "# beta= -3.5\n",
    "m_min = 5\n",
    "# m_t = 100.\n",
    "m_max = 100\n",
    "\n",
    "num_injs = 1000\n",
    "\n",
    "m1 = np.linspace(m_min, m_max, 100000)\n",
    "\n",
    "pdf_m1 = p_m1(m1, alpha, m_min, m_max)\n",
    "cdf_m1 = integrate.cumulative_trapezoid(pdf_m1, m1, initial=0)\n",
    "inv_cdf_m1 = interpolate.interp1d(cdf_m1 / cdf_m1[-1], m1)\n",
    "m1_events = inv_cdf_m1(np.random.rand(num_injs))\n",
    "\n",
    "\n",
    "\n",
    "\n",
    "plt.hist(m1_events)\n",
    "\n",
    "x = np.linspace(5, 100, 100)\n",
    "plt.plot(x, 10000*p_m1(x, alpha, m_min, m_max), linestyle='--', label='$p(m_1) \\propto m_1^{-3.5}$')\n",
    "\n",
    "\n",
    "plt.loglog()\n",
    "plt.show()"
   ]
  },
  {
   "cell_type": "code",
   "execution_count": 10,
   "metadata": {},
   "outputs": [
    {
     "data": {
      "text/plain": [
       "0"
      ]
     },
     "execution_count": 10,
     "metadata": {},
     "output_type": "execute_result"
    }
   ],
   "source": [
    "mass2 = np.random.uniform(low=m_min, high=m1_events)\n",
    "np.sum(mass2 > m1_events)"
   ]
  },
  {
   "cell_type": "code",
   "execution_count": 11,
   "metadata": {},
   "outputs": [],
   "source": [
    "q_min = 0.01\n",
    "q_max = 0.99\n",
    "\n",
    "# sample redshifts uniormly in [0.02, 50] based on Bohranian & Sathyaprakash (2022)\n",
    "redshifts = np.random.uniform(0.02, 50, num_injs)\n",
    "\n",
    "# sample mass 1 from power law pdf\n",
    "m1_range = np.linspace(m_min, m_max, 1000)\n",
    "\n",
    "pdf_m1 = p_m1(m1, alpha, m_min, m_max)\n",
    "cdf_m1 = integrate.cumulative_trapezoid(pdf_m1, m1, initial=0)\n",
    "inv_cdf_m1 = interpolate.interp1d(cdf_m1 / cdf_m1[-1], m1)\n",
    "\n",
    "mass1 = inv_cdf_m1(np.random.rand(num_injs))\n",
    "\n",
    "# sample q uniformly between q_min and q_max\n",
    "q = np.random.uniform(q_min, q_max, num_injs)\n",
    "mass2 = mass1 * q\n",
    "\n",
    "Mcs = (mass1*mass2)**(3/5) / (mass1+mass2)**(1/5)\n",
    "etas = (mass1*mass2) / (mass1+mass2)**2\n",
    "\n",
    "# Convert source frame masses to detector frame masses\n",
    "Mcs = Mcs * (1+redshifts)\n",
    "mtotals = (mass1+mass2) * (1+redshifts)\n"
   ]
  },
  {
   "cell_type": "code",
   "execution_count": 12,
   "metadata": {},
   "outputs": [],
   "source": [
    "DLs = cosmo.luminosity_distance(redshifts).value\n",
    "# print(DLs)\n",
    "# print(redshifts)"
   ]
  },
  {
   "attachments": {},
   "cell_type": "markdown",
   "metadata": {},
   "source": [
    "# Butterworth Filter Smoothing"
   ]
  },
  {
   "cell_type": "code",
   "execution_count": 13,
   "metadata": {},
   "outputs": [],
   "source": [
    "def power(m1, alpha, m_min, m_max):\n",
    "    '''\n",
    "    BBH merger primary mass PDF.\n",
    "    '''\n",
    "    if alpha != -1:\n",
    "        N1 = 1 / ((m_max**(alpha+1) - m_min**(alpha+1))/(alpha+1))\n",
    "    else:\n",
    "        N1 = 1/(np.log(m_max/m_min))\n",
    "\n",
    "    return np.piecewise(m1, [(m1 < m_min), (m1 >= m_min)*(m1 < m_max), (m1 >= m_max)],\n",
    "                        [0, lambda m1: N1*m1**alpha, 0])"
   ]
  },
  {
   "cell_type": "code",
   "execution_count": 14,
   "metadata": {},
   "outputs": [],
   "source": [
    "def butterworth(m1, m0, eta):\n",
    "    norm = integrate.trapezoid((1+ (m0/m1)**eta)**(-1), m1)\n",
    "\n",
    "    return (1+ (m0/m1)**eta)**(-1) / norm"
   ]
  },
  {
   "cell_type": "code",
   "execution_count": 15,
   "metadata": {},
   "outputs": [],
   "source": [
    "def truncation(m1, m_min, m_max):\n",
    "    return np.piecewise(m1, [(m1 < m_max), (m1 >= m_min)*(m1 < m_max), (m1 >= m_max)],\n",
    "                        [0, 1.0, 0])"
   ]
  },
  {
   "cell_type": "code",
   "execution_count": 37,
   "metadata": {},
   "outputs": [
    {
     "name": "stdout",
     "output_type": "stream",
     "text": [
      "0.9999999999999998\n"
     ]
    },
    {
     "data": {
      "image/png": "[encoded data removed]",
      "text/plain": [
       "<Figure size 432x288 with 1 Axes>"
      ]
     },
     "metadata": {
      "needs_background": "light"
     },
     "output_type": "display_data"
    }
   ],
   "source": [
    "alpha= -3.5\n",
    "\n",
    "m_min = 5.\n",
    "m_max = 60.\n",
    "eta = 50.0\n",
    "m_min_lim = 3.0\n",
    "\n",
    "num_injs = 10000\n",
    "\n",
    "\n",
    "m1 = np.geomspace(m_min_lim, m_max, 100000)\n",
    "\n",
    "pdf_m1 = butterworth(m1, m_min, eta) * power(m1, alpha, m_min_lim, m_max)\n",
    "pdf_m1 = pdf_m1/integrate.trapezoid(pdf_m1, m1)\n",
    "\n",
    "# plt.axvline(x=m_min, color='k')\n",
    "cdf_m1 = integrate.cumulative_trapezoid(pdf_m1, m1, initial=0)\n",
    "inv_cdf_m1 = interpolate.interp1d(cdf_m1 / cdf_m1[-1], m1)\n",
    "\n",
    "mass1 = inv_cdf_m1(np.random.rand(num_injs))\n",
    "\n",
    "print(integrate.trapezoid(pdf_m1, m1))\n",
    "plt.plot(m1, pdf_m1)\n",
    "\n",
    "\n",
    "\n",
    "plt.hist(mass1, bins=np.geomspace(4.0, 60.0, 100), histtype='step', density=True)\n",
    "# plt.semilogy()\n",
    "plt.xlim(3, 10)\n",
    "plt.show()"
   ]
  },
  {
   "cell_type": "code",
   "execution_count": null,
   "metadata": {},
   "outputs": [],
   "source": [
    "# q = m2/m1\n",
    "q_min = 0.00001\n",
    "q_max = 0.99\n",
    "beta = 1.1\n",
    "\n",
    "mass2 = np.zeros_like(mass1)\n",
    "\n",
    "q = np.geomspace(q_min, q_max, 100000)\n",
    "\n",
    "\n",
    "for i, m1_current in enumerate(mass1):\n",
    "    q_min_current = m_min_lim / m1_current\n",
    "    pdf_q = power(q, beta, q_min_current, q_max)\n",
    "\n",
    "    cdf_q = integrate.cumulative_trapezoid(pdf_q, q, initial=0)\n",
    "    inv_cdf_m2 = interpolate.interp1d(cdf_q / cdf_q[-1], q)\n",
    "\n",
    "    q_inj = inv_cdf_m2(np.random.rand())\n",
    "    mass2[i] = q_inj * m1_current\n",
    "\n"
   ]
  },
  {
   "cell_type": "code",
   "execution_count": null,
   "metadata": {},
   "outputs": [
    {
     "data": {
      "text/plain": [
       "(0.05, 1.1)"
      ]
     },
     "execution_count": 17,
     "metadata": {},
     "output_type": "execute_result"
    },
    {
     "data": {
      "image/png": "[encoded data removed]",
      "text/plain": [
       "<Figure size 432x288 with 1 Axes>"
      ]
     },
     "metadata": {
      "needs_background": "light"
     },
     "output_type": "display_data"
    }
   ],
   "source": [
    "x = np.geomspace(q_min, q_max, 50)\n",
    "\n",
    "q_events = mass2/mass1\n",
    "\n",
    "plt.hist(q_events, bins=x, histtype='step', density=True)\n",
    "\n",
    "plt.plot(q_events, q_events**(beta))\n",
    "\n",
    "plt.loglog()\n",
    "plt.xlim(0.05, 1.1)"
   ]
  },
  {
   "attachments": {},
   "cell_type": "markdown",
   "metadata": {},
   "source": [
    "# M2 limit"
   ]
  },
  {
   "cell_type": "code",
   "execution_count": 14,
   "metadata": {},
   "outputs": [],
   "source": [
    "# m_min_int = 8.4\n",
    "# m_max_int = 100.0\n",
    "\n",
    "# m2 = np.linspace(m_min_int, m_max_int, 10000)\n",
    "# beta = -1.0\n",
    "# m_min = 5.0\n",
    "# m_max = 60.0\n",
    "# p_m2 = power(m2, beta, m_min, m_max)\n",
    "\n",
    "# integrate.trapezoid(p_m2, m2)"
   ]
  },
  {
   "cell_type": "code",
   "execution_count": 31,
   "metadata": {},
   "outputs": [],
   "source": [
    "m_min = 5.0\n",
    "m_max = 60.0\n",
    "alpha = -3.5\n",
    "\n",
    "num_injs = 100000\n",
    "\n",
    "m1 = np.geomspace(m_min, m_max, 1000000)\n",
    "pdf_m1 = p_m1(m1, alpha, m_min, m_max)\n",
    "cdf_m1 = integrate.cumulative_trapezoid(pdf_m1, m1, initial=0)\n",
    "inv_cdf_m1 = interpolate.interp1d(cdf_m1 / cdf_m1[-1], m1)\n",
    "mass1 = inv_cdf_m1(np.random.rand(num_injs))\n",
    "\n",
    "\n",
    "# SAMPLE M2\n",
    "mass2 = np.random.uniform(low=m_min, high=mass1)"
   ]
  },
  {
   "cell_type": "code",
   "execution_count": 33,
   "metadata": {},
   "outputs": [
    {
     "name": "stdout",
     "output_type": "stream",
     "text": [
      "1016\n"
     ]
    },
    {
     "data": {
      "image/png": "[encoded data removed]",
      "text/plain": [
       "<Figure size 432x288 with 1 Axes>"
      ]
     },
     "metadata": {
      "needs_background": "light"
     },
     "output_type": "display_data"
    }
   ],
   "source": [
    "mask_m1 = (mass1 > 7.95) * (mass1 < 8.05)\n",
    "print(np.sum(mask_m1))\n",
    "\n",
    "plt.hist(mass2[mask_m1], bins=30);"
   ]
  },
  {
   "attachments": {},
   "cell_type": "markdown",
   "metadata": {},
   "source": [
    "# Broken Power Law"
   ]
  },
  {
   "cell_type": "code",
   "execution_count": 323,
   "metadata": {},
   "outputs": [],
   "source": [
    "N_events = 500\n",
    "\n",
    "seed = 329\n",
    "# Initialize pseudo-random number generator:\n",
    "np.random.seed(seed)"
   ]
  },
  {
   "cell_type": "code",
   "execution_count": 324,
   "metadata": {},
   "outputs": [
    {
     "ename": "TypeError",
     "evalue": "p_m1() takes 4 positional arguments but 6 were given",
     "output_type": "error",
     "traceback": [
      "\u001b[0;31m---------------------------------------------------------------------------\u001b[0m",
      "\u001b[0;31mTypeError\u001b[0m                                 Traceback (most recent call last)",
      "\u001b[0;32m/var/folders/wj/l7fs8hg555n8nzz7myk9cysw0000gn/T/ipykernel_12571/1643909692.py\u001b[0m in \u001b[0;36m<module>\u001b[0;34m\u001b[0m\n\u001b[1;32m      8\u001b[0m \u001b[0mm1\u001b[0m \u001b[0;34m=\u001b[0m \u001b[0mnp\u001b[0m\u001b[0;34m.\u001b[0m\u001b[0mlinspace\u001b[0m\u001b[0;34m(\u001b[0m\u001b[0mm_min\u001b[0m\u001b[0;34m,\u001b[0m \u001b[0mm_max\u001b[0m\u001b[0;34m,\u001b[0m \u001b[0;36m10\u001b[0m\u001b[0;34m**\u001b[0m\u001b[0;36m5\u001b[0m\u001b[0;34m)\u001b[0m\u001b[0;34m\u001b[0m\u001b[0;34m\u001b[0m\u001b[0m\n\u001b[1;32m      9\u001b[0m \u001b[0;34m\u001b[0m\u001b[0m\n\u001b[0;32m---> 10\u001b[0;31m \u001b[0mpdf_m1\u001b[0m \u001b[0;34m=\u001b[0m \u001b[0mp_m1\u001b[0m\u001b[0;34m(\u001b[0m\u001b[0mm1\u001b[0m\u001b[0;34m,\u001b[0m \u001b[0malpha\u001b[0m\u001b[0;34m,\u001b[0m \u001b[0mbeta\u001b[0m\u001b[0;34m,\u001b[0m \u001b[0mm_min\u001b[0m\u001b[0;34m,\u001b[0m \u001b[0mm_t\u001b[0m\u001b[0;34m,\u001b[0m \u001b[0mm_max\u001b[0m\u001b[0;34m)\u001b[0m\u001b[0;34m\u001b[0m\u001b[0;34m\u001b[0m\u001b[0m\n\u001b[0m\u001b[1;32m     11\u001b[0m \u001b[0mcdf_m1\u001b[0m \u001b[0;34m=\u001b[0m \u001b[0mintegrate\u001b[0m\u001b[0;34m.\u001b[0m\u001b[0mcumulative_trapezoid\u001b[0m\u001b[0;34m(\u001b[0m\u001b[0mpdf_m1\u001b[0m\u001b[0;34m,\u001b[0m \u001b[0mm1\u001b[0m\u001b[0;34m,\u001b[0m \u001b[0minitial\u001b[0m\u001b[0;34m=\u001b[0m\u001b[0;36m0\u001b[0m\u001b[0;34m)\u001b[0m\u001b[0;34m\u001b[0m\u001b[0;34m\u001b[0m\u001b[0m\n\u001b[1;32m     12\u001b[0m \u001b[0minv_cdf_m1\u001b[0m \u001b[0;34m=\u001b[0m \u001b[0minterpolate\u001b[0m\u001b[0;34m.\u001b[0m\u001b[0minterp1d\u001b[0m\u001b[0;34m(\u001b[0m\u001b[0mcdf_m1\u001b[0m \u001b[0;34m/\u001b[0m \u001b[0mcdf_m1\u001b[0m\u001b[0;34m[\u001b[0m\u001b[0;34m-\u001b[0m\u001b[0;36m1\u001b[0m\u001b[0;34m]\u001b[0m\u001b[0;34m,\u001b[0m \u001b[0mm1\u001b[0m\u001b[0;34m)\u001b[0m\u001b[0;34m\u001b[0m\u001b[0;34m\u001b[0m\u001b[0m\n",
      "\u001b[0;31mTypeError\u001b[0m: p_m1() takes 4 positional arguments but 6 were given"
     ]
    }
   ],
   "source": [
    "# Sample primary masses:\n",
    "alpha=-3.5\n",
    "beta=-2.\n",
    "m_min = 5\n",
    "m_t = 20.\n",
    "m_max = 100\n",
    "\n",
    "m1 = np.linspace(m_min, m_max, 10**5)\n",
    "\n",
    "pdf_m1 = p_m1(m1, alpha, beta, m_min, m_t, m_max)\n",
    "cdf_m1 = integrate.cumulative_trapezoid(pdf_m1, m1, initial=0)\n",
    "inv_cdf_m1 = interpolate.interp1d(cdf_m1 / cdf_m1[-1], m1)\n",
    "m1_events = inv_cdf_m1(np.random.rand(N_events))\n",
    "\n",
    "plt.hist(m1_events)\n",
    "# plt.semilogx()\n",
    "plt.show()"
   ]
  },
  {
   "cell_type": "code",
   "execution_count": null,
   "metadata": {},
   "outputs": [],
   "source": [
    "# Sample secondary masses:\n",
    "m2_events = np.zeros(N_events)\n",
    "gamma = 0.\n",
    "for i in range(0, N_events):\n",
    "    q_min = m_min/m1_events[i]\n",
    "    q = np.linspace(q_min, 1, 10**2)\n",
    "    pdf_q = p_q(q, gamma, q_min)\n",
    "    cdf_q = integrate.cumulative_trapezoid(pdf_q, q, initial=0)\n",
    "    inv_cdf_q = interpolate.interp1d(cdf_q / cdf_q[-1], q)\n",
    "    m2_events[i] = m1_events[i] * inv_cdf_q(np.random.rand())"
   ]
  },
  {
   "cell_type": "code",
   "execution_count": null,
   "metadata": {},
   "outputs": [],
   "source": [
    "alpha_s = 1.\n",
    "beta_s = 2. \n",
    "# Sample primary spins:\n",
    "s1 = np.linspace(0, 1, 10**3)\n",
    "pdf_s1 = p_s(s1, alpha_s, beta_s)\n",
    "cdf_s1 = integrate.cumulative_trapezoid(pdf_s1, s1, initial=0)\n",
    "inv_cdf_s1 = interpolate.interp1d(cdf_s1 / cdf_s1[-1], s1)\n",
    "s1_events = inv_cdf_s1(np.random.rand(N_events))\n",
    "# Sample secondary spins:\n",
    "s2 = np.linspace(0, 1, 10**3)\n",
    "pdf_s2 = p_s(s2, alpha_s, beta_s)\n",
    "cdf_s2 = integrate.cumulative_trapezoid(pdf_s2, s2, initial=0)\n",
    "inv_cdf_s2 = interpolate.interp1d(cdf_s2 / cdf_s2[-1], s2)\n",
    "s2_events = inv_cdf_s2(np.random.rand(N_events))\n",
    "\n",
    "z_min = 0.1\n",
    "z_out = 3.0\n",
    "# Sample redshifts:\n",
    "z = np.linspace(z_min, z_out, 10**3)\n",
    "pdf_z = p_z(z, z_min, z_out)\n",
    "cdf_z = integrate.cumulative_trapezoid(pdf_z, z, initial=0)\n",
    "inv_cdf_z = interpolate.interp1d(cdf_z / cdf_z[-1], z)\n",
    "z_events = inv_cdf_z(np.random.rand(N_events))\n",
    "DL_events = cosmo.luminosity_distance(z_events)\n",
    "\n",
    "# Sample external angles:\n",
    "iota_events, ra_events, dec_events, psi_events = injections.angle_sampler(\n",
    "    N_events, seed)\n"
   ]
  },
  {
   "cell_type": "code",
   "execution_count": null,
   "metadata": {},
   "outputs": [
    {
     "data": {
      "text/latex": [
       "$[4421.2034,~15425.417,~13860.986,~\\dots,~2047.0444,~6381.879,~5767.965] \\; \\mathrm{Mpc}$"
      ],
      "text/plain": [
       "<Quantity [ 4421.20337381, 15425.41696101, 13860.98553755, 12001.19986382,\n",
       "           16887.15262674, 11164.2502077 , 12477.44130196, 13300.75092286,\n",
       "            9966.28849721, 14978.11246918, 15308.39308665, 18842.82096944,\n",
       "           16487.52782409,  7157.38484164, 21052.86397414, 15003.14924987,\n",
       "            1277.53025133, 11240.09555819,  2578.95804802, 12893.08171205,\n",
       "             710.21845019, 12336.9825558 , 24499.93310157, 17385.42404918,\n",
       "            4492.39351304, 20973.01907592, 17683.91995317,  4206.6460152 ,\n",
       "           10366.95461473,  8582.30762942,  4097.28179832,  1411.58632395,\n",
       "            7986.76177349, 23267.48587279,  6058.22263685, 19243.89519057,\n",
       "           20601.55400976, 14366.32408211,  8681.1471069 , 21609.86458562,\n",
       "            6706.8626322 ,  6614.47863535, 19759.30373357, 13614.14443773,\n",
       "            7865.55427054,  6322.99717341, 16715.05245378,  7422.26902069,\n",
       "           14822.80782642,  9431.71549113, 15532.72815783,  7483.42829897,\n",
       "            1619.81096226, 23466.71744514, 23468.53019499, 23484.83533204,\n",
       "           11227.78557051,  4398.92620844, 22063.51554342, 13976.17924594,\n",
       "           23329.39853376,  4769.32463664,  6155.89366953, 15226.14328559,\n",
       "           18842.54906411, 17483.75710013,  8082.69193436, 18417.55751177,\n",
       "           12412.17936416,  6921.34928824, 14547.79307041,  6025.02890149,\n",
       "            4906.35388532, 12610.00798207, 20932.38300685, 16093.37952225,\n",
       "            4531.11925176, 13655.42233846, 23225.41513114, 10115.88657686,\n",
       "           16717.09634281, 11272.07754518, 16828.06128693,  7797.49022189,\n",
       "            8378.17378885, 18508.8174609 , 11213.66600448, 21392.76420351,\n",
       "           19166.10804774, 12995.16509473,  6066.5863841 , 20496.2528026 ,\n",
       "           16697.54952783, 12500.87895629, 13833.22069012, 14026.67328214,\n",
       "           13117.79837229, 19158.67205662, 16982.51314315, 19102.93738167,\n",
       "           19171.84577116, 20315.19435433, 10095.35943033,  9651.47128997,\n",
       "            5543.56705616, 12380.06002139, 24964.74544115, 10156.06991715,\n",
       "            1115.05713746, 25180.62535168, 13381.42430845, 23209.00019865,\n",
       "           20281.48346946,  9739.38907545, 16641.18316666, 18125.78094785,\n",
       "           20849.07575591, 16828.35972981, 10276.78541299, 16516.67052051,\n",
       "           20101.84500538, 19156.1020811 , 19936.96525602,  7597.94509947,\n",
       "           11968.11165127,  5030.84155119, 15769.48136349, 25117.10040891,\n",
       "            1469.66965854, 21077.34436767, 12259.91786764, 20670.1315456 ,\n",
       "           23046.4599548 , 21587.24832665,  7418.34635077, 11124.83956029,\n",
       "            7951.24451462, 14828.09960744,  6431.49774229, 12630.63368571,\n",
       "            8866.96209102, 23987.7939724 , 15634.27145429, 23452.19398209,\n",
       "           18409.44667329, 13689.03836859, 14566.11545376, 21032.38893327,\n",
       "           13444.40210736,  5925.75184407, 21873.59399457,  9238.86716384,\n",
       "           11988.90100281, 22760.85100163, 15011.03442088,  3425.41624493,\n",
       "           17824.41705639, 24215.24432824, 13995.56702611, 21634.4732043 ,\n",
       "            7349.79226532,  7747.60182926, 10667.41484537, 10220.0401789 ,\n",
       "            1914.41371109, 23523.23068347, 22585.34348196, 14619.24519335,\n",
       "           13294.6604469 , 14521.33692586, 14467.81944281, 21129.85057623,\n",
       "           10647.36962492, 12567.21011671,  5373.26299526,  9000.24649776,\n",
       "            1989.01808232, 12602.9216275 , 17457.6845467 ,  2494.50200851,\n",
       "           17596.13665042,  9072.71342525,  8911.68848196, 11195.94325351,\n",
       "           20523.34641663, 16057.53192121, 20835.94363127, 17351.10023188,\n",
       "           25028.58748848, 12937.48426589, 13711.82805944, 25408.02384234,\n",
       "           18198.70469431, 13481.91974425,  9159.35464128, 18921.75644932,\n",
       "           15221.12167678, 17355.10934657, 17255.11825084,  3656.05598922,\n",
       "           13709.55678084,  6607.0109165 ,  7545.92701692,  9500.51265239,\n",
       "           10018.72774644,  9198.72552465,  3659.0341298 , 17713.23198785,\n",
       "           14216.40696602, 14216.4462905 ,  5795.30288739, 17876.19373677,\n",
       "           23536.27764485, 16715.12371187,  7917.50405193,  9101.58771169,\n",
       "            3169.97963959,  5393.91339314, 18594.07144024, 18943.1044564 ,\n",
       "           19885.03782089, 16964.35298141, 16982.83024819, 20669.59672673,\n",
       "           17479.55585445, 21108.33501372, 12966.52619462,  1241.83344092,\n",
       "            7294.35458549, 23405.66616952, 19743.58441489, 17080.93370834,\n",
       "            7110.70076314,  5827.74622097, 13949.19446138, 15513.77199539,\n",
       "           12040.562486  , 10478.91061588, 18314.86388346, 20192.01740746,\n",
       "           13076.20971013,  4867.60261758,  9671.39454825, 21323.1014492 ,\n",
       "            3289.61489748, 12097.69474394, 24333.11737619,  9250.19621411,\n",
       "            9795.34404303,  7797.75753864, 24794.93148192, 16725.09917547,\n",
       "           20210.81403725,  7686.76335785, 12747.89140077, 10020.74410084,\n",
       "           22061.7745891 , 22694.84237145,  4743.63263249, 18130.11182808,\n",
       "           12418.34296018, 13613.68302578, 21047.63465429,  8051.48845342,\n",
       "           20851.10623019,  6126.76522854, 19300.55001548, 17096.79400501,\n",
       "           22793.98093008, 23332.46722597, 20130.13776932, 22256.58490563,\n",
       "           19727.2571502 , 10921.10429206,  8841.5324144 , 15885.42881725,\n",
       "           14791.15934563, 19286.56087668, 17137.43025211, 14498.46436784,\n",
       "           11861.06112245,  9326.9211739 , 21477.07390554, 18787.3294711 ,\n",
       "           13362.39991859, 20511.77116842,  8549.51502091,  7177.05613896,\n",
       "           22379.10054202, 15522.84264916, 20602.74486314, 15314.59092553,\n",
       "           15326.29361751, 16910.45799   , 20956.56618219,   550.89055779,\n",
       "           19735.37241612,   650.45117666, 17547.33302206,  9506.45800213,\n",
       "           11297.19683725,  8074.82420248,  6688.56285521, 17916.34596543,\n",
       "           15238.82717507, 10517.86680881, 21759.39425654, 13394.57188888,\n",
       "           21884.10146202, 13189.89285151,  3218.96788183, 17201.95020106,\n",
       "           23311.13402222,  4970.85704081, 16751.26033207, 25344.81778972,\n",
       "           16400.63832741, 13706.22579456, 15182.56929384, 23335.4113735 ,\n",
       "            9771.71857357, 22878.64513343, 11897.7986077 ,  5488.26859095,\n",
       "           25036.62221907,  4816.9604622 , 22495.62032024, 17835.75515771,\n",
       "           12748.45302471, 12571.05545599, 20394.20419947, 11242.26888519,\n",
       "           15820.97805222,  8960.63772187, 10163.11356376, 13563.94692054,\n",
       "           10535.38302234, 23296.26058192, 21934.03794168, 14809.44168311,\n",
       "           12402.85205888, 16042.20410047, 21665.40661981, 11706.76356109,\n",
       "           13177.18927871,   517.38187252,  6541.52847384, 18323.67241733,\n",
       "           13581.77361724,  9061.35755463, 19090.36287143, 17496.71830476,\n",
       "           13146.52896977, 16216.94062485, 19994.90162823, 14026.73247207,\n",
       "           20289.8813459 ,  5510.33142585, 14619.00636267, 13552.46550479,\n",
       "           22393.86797583, 10591.30625393, 17514.91613208,  4463.51281352,\n",
       "           15401.38249721,  7465.15795314, 13613.07559436, 24886.68916501,\n",
       "            7819.71893045, 10767.40763821,  8711.94009739, 16673.27575293,\n",
       "           15410.0343582 ,  6997.85286497,  8801.17259282, 21288.22718409,\n",
       "           23294.03978329, 16495.11397794,  6905.76367285,  1046.87382873,\n",
       "           12600.4882618 , 23776.64283267, 19590.4575348 , 17793.42248967,\n",
       "           24093.68336166, 22491.37415393, 20080.84572878,  8676.64668618,\n",
       "           16433.22894421, 13347.83031366,  9836.32688589, 10615.68165517,\n",
       "           14118.61045725, 10343.95565806, 16343.26938001, 10130.59582237,\n",
       "           19389.91214906,  2343.71222483, 16990.69179753, 17706.28379663,\n",
       "           23668.13345585,  9999.55808007, 14009.6501716 ,  9424.33130759,\n",
       "            9358.2097822 , 11688.71174458, 19581.83271955, 23063.38022345,\n",
       "           21295.5223433 , 23287.38122097, 24457.66838687,  1073.24060707,\n",
       "           20708.35436416,  9649.93512431,  5584.68625633, 15663.90105859,\n",
       "           10570.17028038,  7742.24591957,  7348.19488825, 17422.27319069,\n",
       "            1741.4154406 ,  3431.6792285 , 18742.90167176, 16922.07494996,\n",
       "           13754.75827443,  7177.1060671 , 15996.41524192, 18470.6525102 ,\n",
       "           17039.13380893,  2583.65108551, 10150.32563509, 22248.60744802,\n",
       "           19116.4078455 , 23939.86621089, 20897.05761858, 10682.33204648,\n",
       "            4785.07238611,  7983.31682988, 18892.53371519,  7136.36485551,\n",
       "           24409.23077492, 23479.72902973, 19486.04950528,  9428.30779577,\n",
       "           15580.12258167, 14054.33194662, 17269.7811049 , 24700.99166931,\n",
       "           11748.29201095, 10766.57121485, 13662.45974668,  9293.22414446,\n",
       "           15310.68461414,  9348.21259246,  5613.65090481, 10812.00076508,\n",
       "            2870.59502645, 16962.4116194 , 20362.55291017, 11944.86228827,\n",
       "           12515.71893547, 13260.06353694, 15101.62109014,  4861.1966209 ,\n",
       "           13105.53148698,  2642.24803759,  7336.28876428,  8895.44389509,\n",
       "           12402.12712542, 24288.75189776, 13693.30994008,  7417.24548255,\n",
       "           18892.76203984, 18010.93942349, 22180.74378517, 17059.32399152,\n",
       "            7157.66626293,  9305.37946827, 20155.59665007, 22451.17981899,\n",
       "           20499.70200961, 15272.1659774 , 10329.56613411,  3083.20698009,\n",
       "            8839.50346064, 16367.13906238, 14390.36424008,  4222.53686016,\n",
       "           14612.48608374,  8821.83236601, 20731.70037002, 24447.12513003,\n",
       "            2242.43809068, 20531.79315189, 16228.1843983 , 17466.64906024,\n",
       "           22451.45943324,  2047.04438359,  6381.87898649,  5767.96497499] Mpc>"
      ]
     },
     "execution_count": 17,
     "metadata": {},
     "output_type": "execute_result"
    }
   ],
   "source": [
    "DL_events"
   ]
  },
  {
   "cell_type": "markdown",
   "metadata": {},
   "source": [
    "# Infer Population Parameters"
   ]
  },
  {
   "cell_type": "code",
   "execution_count": null,
   "metadata": {},
   "outputs": [],
   "source": [
    "def fit_function(m1, alpha, beta, m_t):\n",
    "    m_min = 1\n",
    "    # m_t = 20\n",
    "    m_max = 100\n",
    "    '''\n",
    "    BBH merger primary mass PDF.\n",
    "    '''\n",
    "    if alpha != -1 and beta != -1:\n",
    "        N1 = 1 / ((m_t**(alpha+1) - m_min**(alpha+1))/(alpha+1)\n",
    "                  + m_t**(alpha-beta)*(m_max**(beta+1) - m_t**(beta+1))/(beta+1))\n",
    "    else:\n",
    "        if alpha == -1 and beta != -1:\n",
    "            N1 = 1 / (np.log(m_t/m_min) + m_t**(alpha-beta) *\n",
    "                      (m_max**(beta+1) - m_t**(beta+1))/(beta+1))\n",
    "        elif alpha != -1 and beta == -1:\n",
    "            N1 = 1 / ((m_t**(alpha+1) - m_min**(alpha+1)) /\n",
    "                      (alpha+1) + m_t**(alpha-beta)*np.log(m_max/m_t))\n",
    "        else:\n",
    "            N1 = 1/(np.log(m_t/m_min) + m_t**(alpha-beta)*np.log(m_max/m_t))\n",
    "\n",
    "    return np.piecewise(m1, [(m1 < m_min), (m1 >= m_min)*(m1 < m_t), (m1 >= m_t)*(m1 < m_max), (m1 >= m_max)],\n",
    "                        [0, lambda m1: N1*m1**alpha, lambda m1: N1*m_t**(alpha-beta)*m1**beta, 0])"
   ]
  },
  {
   "cell_type": "code",
   "execution_count": null,
   "metadata": {},
   "outputs": [
    {
     "data": {
      "image/png": "[encoded data removed]",
      "text/plain": [
       "<Figure size 720x360 with 1 Axes>"
      ]
     },
     "metadata": {
      "needs_background": "light"
     },
     "output_type": "display_data"
    }
   ],
   "source": [
    "target_func = fit_function\n",
    "bins = np.logspace(0, 2, 100)\n",
    "\n",
    "y, X = np.histogram(m1_events, bins=bins, density=True)\n",
    "X = X[:-1]\n",
    "# plt.plot(X, y)\n",
    "# plt.loglog()\n",
    "\n",
    "popt, pcov = optimize.curve_fit(target_func, X, y, p0=[-0.8, -2.3, 30])\n",
    "\n",
    "plt.figure(figsize=(10, 5))\n",
    "plt.plot(X, target_func(X, *popt), '--', label='Fit')\n",
    "\n",
    "plt.plot(X, y, 'ro', label='Data')\n",
    "plt.loglog()\n",
    "plt.legend()\n",
    "plt.show()"
   ]
  },
  {
   "cell_type": "code",
   "execution_count": null,
   "metadata": {},
   "outputs": [
    {
     "data": {
      "text/plain": [
       "array([-0.86854724, -1.908422  , 16.29755224])"
      ]
     },
     "execution_count": 20,
     "metadata": {},
     "output_type": "execute_result"
    }
   ],
   "source": [
    "popt"
   ]
  },
  {
   "cell_type": "markdown",
   "metadata": {},
   "source": [
    "# Convert Population to gwbench Network objects"
   ]
  },
  {
   "cell_type": "code",
   "execution_count": null,
   "metadata": {},
   "outputs": [],
   "source": [
    "def get_network_response(inj_params, network_spec = ['CE2-40-CBO_C', 'CE2-20-CBO_S', 'ET_ET1', 'ET_ET2', 'ET_ET3'], approximant='IMRPhenomXAS', deriv_symbs_string = 'Mc eta DL tc phic iota ra dec psi'):\n",
    "    \n",
    "    # initialize the network with the desired detectors\n",
    "    net = network.Network(network_spec)\n",
    "\n",
    "    # choose the desired waveform \n",
    "    wf_model_name = 'lal_bbh'\n",
    "    # pass the chosen waveform to the network for initialization\n",
    "    net.set_wf_vars(wf_model_name=wf_model_name, wf_other_var_dic = {'approximant': approximant})\n",
    "\n",
    "    # pick the desired frequency range\n",
    "    f_min = 5.\n",
    "    f_max = 1024.\n",
    "    d_f = 2**-4\n",
    "    f = np.arange(f_min, f_max, d_f)\n",
    "\n",
    "    # choose whether to take Earth's rotation into account\n",
    "    use_rot = 0\n",
    "\n",
    "    # pass all these variables to the network\n",
    "    net.set_net_vars(\n",
    "        f=f, inj_params=inj_params,\n",
    "        deriv_symbs_string=deriv_symbs_string,\n",
    "        use_rot=use_rot\n",
    "        )\n",
    "\n",
    "    # compute the WF polarizations\n",
    "    net.calc_wf_polarizations()\n",
    "    # compute the WF polarizations and their derivatives\n",
    "    net.calc_wf_polarizations_derivs_num()\n",
    "\n",
    "    # setup antenna patterns, location phase factors, and PSDs\n",
    "    net.setup_ant_pat_lpf_psds()\n",
    "\n",
    "    # compute the detector responses\n",
    "    net.calc_det_responses()\n",
    "    # compute the detector responses and their derivatives\n",
    "    net.calc_det_responses_derivs_num()\n",
    "\n",
    "    # calculate the network and detector SNRs\n",
    "    net.calc_snrs()\n",
    "\n",
    "    # calculate the network and detector Fisher matrices, condition numbers,\n",
    "    # covariance matrices, error estimates, and inversion errors\n",
    "    net.calc_errors()\n",
    "\n",
    "    # calculate the 90%-credible sky area (in deg)\n",
    "    net.calc_sky_area_90()\n",
    "\n",
    "    return net"
   ]
  },
  {
   "cell_type": "code",
   "execution_count": null,
   "metadata": {},
   "outputs": [],
   "source": [
    "from gwbench import injections\n",
    "mass_dict = {'dist': 'power', 'alpha': -1.5, 'mmin': 1., 'mmax':100.}\n",
    "seed=42\n",
    "num_injs = 1000\n",
    "# Mcs, etas = injections.mass_sampler(mass_dict,num_injs,seed)\n",
    "\n",
    "spin_dict = {'geom': 'spherical', 'dim':3, 'chi_lo':0., 'chi_hi':1.}\n",
    "cosmo_dict = {'sampler': 'uniform_comoving_volume_rejection', 'zmin':0., 'zmax':3.}\n",
    "data = injections.injections_CBC_params_redshift(cosmo_dict,mass_dict,spin_dict,num_injs=num_injs,seed=seed, redshifted=0)\n",
    "\n",
    "Mcs, etas, chi1x, chi1y, chi1z, chi2x, chi2y, chi2z, iotas, ras, decs, psis, zs, DLs = data"
   ]
  },
  {
   "cell_type": "code",
   "execution_count": null,
   "metadata": {},
   "outputs": [
    {
     "data": {
      "text/plain": [
       "1000"
      ]
     },
     "execution_count": 40,
     "metadata": {},
     "output_type": "execute_result"
    }
   ],
   "source": [
    "len(Mcs)"
   ]
  },
  {
   "cell_type": "code",
   "execution_count": null,
   "metadata": {},
   "outputs": [
    {
     "name": "stdout",
     "output_type": "stream",
     "text": [
      "Polarizations calculated.\n",
      "Calculate numeric derivatives of polarizations.\n",
      "Polarizations calculated.\n",
      "Numeric derivatives of polarizations calculated.\n",
      "PSDs loaded.\n",
      "Antenna patterns and LPFs loaded.\n",
      "Detector responses calculated.\n",
      "Calculate numeric derivatives of detector responses.\n",
      "  CE2-40-CBO_C\n",
      "  CE2-20-CBO_S\n",
      "  ET_ET1\n",
      "  ET_ET2\n",
      "  ET_ET3\n",
      "Numeric derivatives of detector responses calculated.\n",
      "Calculate SNRs.\n",
      "SNRs calculated.\n",
      "Calculate errors (Fisher & cov matrices).\n",
      "  CE2-40-CBO_C\n",
      "  CE2-20-CBO_S\n",
      "  ET_ET1\n",
      "  ET_ET2\n",
      "  ET_ET3\n",
      "Errors calculated.\n",
      "Calculate 90% sky area.\n",
      "Sky area calculated.\n",
      "Polarizations calculated.\n",
      "Calculate numeric derivatives of polarizations.\n",
      "Polarizations calculated.\n",
      "Numeric derivatives of polarizations calculated.\n",
      "PSDs loaded.\n",
      "Antenna patterns and LPFs loaded.\n",
      "Detector responses calculated.\n",
      "Calculate numeric derivatives of detector responses.\n",
      "  CE2-40-CBO_C\n",
      "  CE2-20-CBO_S\n",
      "  ET_ET1\n",
      "  ET_ET2\n",
      "  ET_ET3\n",
      "Numeric derivatives of detector responses calculated.\n",
      "Calculate SNRs.\n",
      "SNRs calculated.\n",
      "Calculate errors (Fisher & cov matrices).\n",
      "  CE2-40-CBO_C\n",
      "  CE2-20-CBO_S\n",
      "  ET_ET1\n",
      "  ET_ET2\n",
      "  ET_ET3\n",
      "Errors calculated.\n",
      "Calculate 90% sky area.\n",
      "Sky area calculated.\n",
      "Network pickled.\n",
      "Network pickled.\n"
     ]
    }
   ],
   "source": [
    "deriv_symbs_string = 'Mc eta DL tc phic iota ra dec psi'\n",
    "param_list = deriv_symbs_string.split()\n",
    "    \n",
    "for i in range(1):\n",
    "    inj_params = {\n",
    "        'Mc':    Mcs[i],\n",
    "        'eta':   etas[i],\n",
    "        'chi1x': 0.,\n",
    "        'chi2x': 0.,\n",
    "        'chi1y': 0.,\n",
    "        'chi2y': 0.,\n",
    "        'chi1z': 0.,\n",
    "        'chi2z': 0.,\n",
    "        'DL':    DLs[i],\n",
    "        'tc':    0,\n",
    "        'phic':  0,\n",
    "        'iota':  iotas[i],\n",
    "        'ra':    ras[i],\n",
    "        'dec':   decs[i],\n",
    "        'psi':   psis[i],\n",
    "        'gmst0': 0\n",
    "        }\n",
    "\n",
    "    \n",
    "    net1 = get_network_response(inj_params=inj_params, approximant='IMRPhenomXAS')\n",
    "    net2 = get_network_response(inj_params=inj_params, approximant='IMRPhenomD')\n",
    "\n",
    "    net1.save_network(f'gwbench_networks/net_xas_{i}')\n",
    "    net2.save_network(f'gwbench_networks/net_d_{i}')"
   ]
  },
  {
   "cell_type": "markdown",
   "metadata": {},
   "source": [
    "# Parallelize the Network Calcs"
   ]
  },
  {
   "cell_type": "code",
   "execution_count": null,
   "metadata": {},
   "outputs": [],
   "source": [
    "from mpi4py import MPI\n",
    "\n",
    "comm = MPI.COMM_WORLD\n",
    "rank = comm.Get_rank()\n",
    "size = comm.Get_size()"
   ]
  },
  {
   "cell_type": "code",
   "execution_count": null,
   "metadata": {},
   "outputs": [
    {
     "name": "stdout",
     "output_type": "stream",
     "text": [
      "Task number 0 (0) being done by processor 0 of 1\n",
      "0\n",
      "Task number 1 (1) being done by processor 0 of 1\n",
      "1\n",
      "Task number 2 (2) being done by processor 0 of 1\n",
      "2\n",
      "Task number 3 (3) being done by processor 0 of 1\n",
      "3\n",
      "Task number 4 (4) being done by processor 0 of 1\n",
      "4\n",
      "Task number 5 (5) being done by processor 0 of 1\n",
      "5\n",
      "Task number 6 (6) being done by processor 0 of 1\n",
      "6\n",
      "Task number 7 (7) being done by processor 0 of 1\n",
      "7\n",
      "Task number 8 (8) being done by processor 0 of 1\n",
      "8\n",
      "Task number 9 (9) being done by processor 0 of 1\n",
      "9\n",
      "Task number 10 (10) being done by processor 0 of 1\n",
      "10\n",
      "Task number 11 (11) being done by processor 0 of 1\n",
      "11\n",
      "Task number 12 (12) being done by processor 0 of 1\n",
      "12\n",
      "Task number 13 (13) being done by processor 0 of 1\n",
      "13\n",
      "Task number 14 (14) being done by processor 0 of 1\n",
      "14\n",
      "Task number 15 (15) being done by processor 0 of 1\n",
      "15\n",
      "Task number 16 (16) being done by processor 0 of 1\n",
      "16\n",
      "Task number 17 (17) being done by processor 0 of 1\n",
      "17\n",
      "Task number 18 (18) being done by processor 0 of 1\n",
      "18\n",
      "Task number 19 (19) being done by processor 0 of 1\n",
      "19\n",
      "Task number 20 (20) being done by processor 0 of 1\n",
      "20\n",
      "Task number 21 (21) being done by processor 0 of 1\n",
      "21\n",
      "Task number 22 (22) being done by processor 0 of 1\n",
      "22\n",
      "Task number 23 (23) being done by processor 0 of 1\n",
      "23\n",
      "Task number 24 (24) being done by processor 0 of 1\n",
      "24\n",
      "Task number 25 (25) being done by processor 0 of 1\n",
      "25\n",
      "Task number 26 (26) being done by processor 0 of 1\n",
      "26\n",
      "Task number 27 (27) being done by processor 0 of 1\n",
      "27\n",
      "Task number 28 (28) being done by processor 0 of 1\n",
      "28\n",
      "Task number 29 (29) being done by processor 0 of 1\n",
      "29\n",
      "Task number 30 (30) being done by processor 0 of 1\n",
      "30\n",
      "Task number 31 (31) being done by processor 0 of 1\n",
      "31\n",
      "Task number 32 (32) being done by processor 0 of 1\n",
      "32\n",
      "Task number 33 (33) being done by processor 0 of 1\n",
      "33\n",
      "Task number 34 (34) being done by processor 0 of 1\n",
      "34\n",
      "Task number 35 (35) being done by processor 0 of 1\n",
      "35\n",
      "Task number 36 (36) being done by processor 0 of 1\n",
      "36\n",
      "Task number 37 (37) being done by processor 0 of 1\n",
      "37\n",
      "Task number 38 (38) being done by processor 0 of 1\n",
      "38\n",
      "Task number 39 (39) being done by processor 0 of 1\n",
      "39\n",
      "Task number 40 (40) being done by processor 0 of 1\n",
      "40\n",
      "Task number 41 (41) being done by processor 0 of 1\n",
      "41\n",
      "Task number 42 (42) being done by processor 0 of 1\n",
      "42\n",
      "Task number 43 (43) being done by processor 0 of 1\n",
      "43\n",
      "Task number 44 (44) being done by processor 0 of 1\n",
      "44\n",
      "Task number 45 (45) being done by processor 0 of 1\n",
      "45\n",
      "Task number 46 (46) being done by processor 0 of 1\n",
      "46\n",
      "Task number 47 (47) being done by processor 0 of 1\n",
      "47\n",
      "Task number 48 (48) being done by processor 0 of 1\n",
      "48\n",
      "Task number 49 (49) being done by processor 0 of 1\n",
      "49\n",
      "Task number 50 (50) being done by processor 0 of 1\n",
      "50\n",
      "Task number 51 (51) being done by processor 0 of 1\n",
      "51\n",
      "Task number 52 (52) being done by processor 0 of 1\n",
      "52\n",
      "Task number 53 (53) being done by processor 0 of 1\n",
      "53\n",
      "Task number 54 (54) being done by processor 0 of 1\n",
      "54\n",
      "Task number 55 (55) being done by processor 0 of 1\n",
      "55\n",
      "Task number 56 (56) being done by processor 0 of 1\n",
      "56\n",
      "Task number 57 (57) being done by processor 0 of 1\n",
      "57\n",
      "Task number 58 (58) being done by processor 0 of 1\n",
      "58\n",
      "Task number 59 (59) being done by processor 0 of 1\n",
      "59\n",
      "Task number 60 (60) being done by processor 0 of 1\n",
      "60\n",
      "Task number 61 (61) being done by processor 0 of 1\n",
      "61\n",
      "Task number 62 (62) being done by processor 0 of 1\n",
      "62\n",
      "Task number 63 (63) being done by processor 0 of 1\n",
      "63\n",
      "Task number 64 (64) being done by processor 0 of 1\n",
      "64\n",
      "Task number 65 (65) being done by processor 0 of 1\n",
      "65\n",
      "Task number 66 (66) being done by processor 0 of 1\n",
      "66\n",
      "Task number 67 (67) being done by processor 0 of 1\n",
      "67\n",
      "Task number 68 (68) being done by processor 0 of 1\n",
      "68\n",
      "Task number 69 (69) being done by processor 0 of 1\n",
      "69\n",
      "Task number 70 (70) being done by processor 0 of 1\n",
      "70\n",
      "Task number 71 (71) being done by processor 0 of 1\n",
      "71\n",
      "Task number 72 (72) being done by processor 0 of 1\n",
      "72\n",
      "Task number 73 (73) being done by processor 0 of 1\n",
      "73\n",
      "Task number 74 (74) being done by processor 0 of 1\n",
      "74\n",
      "Task number 75 (75) being done by processor 0 of 1\n",
      "75\n",
      "Task number 76 (76) being done by processor 0 of 1\n",
      "76\n",
      "Task number 77 (77) being done by processor 0 of 1\n",
      "77\n",
      "Task number 78 (78) being done by processor 0 of 1\n",
      "78\n",
      "Task number 79 (79) being done by processor 0 of 1\n",
      "79\n",
      "Task number 80 (80) being done by processor 0 of 1\n",
      "80\n",
      "Task number 81 (81) being done by processor 0 of 1\n",
      "81\n",
      "Task number 82 (82) being done by processor 0 of 1\n",
      "82\n",
      "Task number 83 (83) being done by processor 0 of 1\n",
      "83\n",
      "Task number 84 (84) being done by processor 0 of 1\n",
      "84\n",
      "Task number 85 (85) being done by processor 0 of 1\n",
      "85\n",
      "Task number 86 (86) being done by processor 0 of 1\n",
      "86\n",
      "Task number 87 (87) being done by processor 0 of 1\n",
      "87\n",
      "Task number 88 (88) being done by processor 0 of 1\n",
      "88\n",
      "Task number 89 (89) being done by processor 0 of 1\n",
      "89\n",
      "Task number 90 (90) being done by processor 0 of 1\n",
      "90\n",
      "Task number 91 (91) being done by processor 0 of 1\n",
      "91\n",
      "Task number 92 (92) being done by processor 0 of 1\n",
      "92\n",
      "Task number 93 (93) being done by processor 0 of 1\n",
      "93\n",
      "Task number 94 (94) being done by processor 0 of 1\n",
      "94\n",
      "Task number 95 (95) being done by processor 0 of 1\n",
      "95\n",
      "Task number 96 (96) being done by processor 0 of 1\n",
      "96\n",
      "Task number 97 (97) being done by processor 0 of 1\n",
      "97\n",
      "Task number 98 (98) being done by processor 0 of 1\n",
      "98\n",
      "Task number 99 (99) being done by processor 0 of 1\n",
      "99\n"
     ]
    }
   ],
   "source": [
    "task_list = range(100)\n",
    "#parallelized version\n",
    "#the enumerate function gives us a number i in addition\n",
    "#to the task.  (In this specific case i is the same as task!  But that's\n",
    "#not true usually)\n",
    "for i,task in enumerate(task_list):\n",
    "  #This is how we split up the jobs.\n",
    "  #The % sign is a modulus, and the \"continue\" means\n",
    "  #\"skip the rest of this bit and go to the next time\n",
    "  #through the loop\"\n",
    "  # If we had e.g. 4 processors, this would mean\n",
    "  # that proc zero did tasks 0, 4, 8, 12, 16, ...\n",
    "  # and proc one did tasks 1, 5, 9, 13, 17, ...\n",
    "  # and do on.\n",
    "  if i%size!=rank: continue\n",
    "  print (\"Task number %d (%d) being done by processor %d of %d\" % (i, task, rank, size))\n",
    "  print(task)"
   ]
  },
  {
   "cell_type": "code",
   "execution_count": null,
   "metadata": {},
   "outputs": [],
   "source": [
    "import pandas as pd"
   ]
  },
  {
   "cell_type": "code",
   "execution_count": null,
   "metadata": {},
   "outputs": [],
   "source": [
    "df = pd.DataFrame()"
   ]
  },
  {
   "cell_type": "code",
   "execution_count": null,
   "metadata": {},
   "outputs": [
    {
     "name": "stdout",
     "output_type": "stream",
     "text": [
      "1.0\n",
      "12.0\n",
      "23.0\n",
      "34.0\n",
      "45.0\n",
      "56.0\n",
      "67.0\n",
      "78.0\n",
      "89.0\n",
      "100.0\n"
     ]
    }
   ],
   "source": [
    "for i, lam in enumerate(np.linspace(1, 100, 10)):\n",
    "    print(lam)"
   ]
  },
  {
   "cell_type": "code",
   "execution_count": null,
   "metadata": {},
   "outputs": [],
   "source": [
    "hp1_pyc = FrequencySeries(net1.hfp, delta_f=delta_f)\n",
    "\n",
    "hp2_pyc = FrequencySeries(net2.hfp, delta_f=delta_f)\n",
    "full_faith, index = match(hp1_pyc, hp2_pyc, psd=psd, low_frequency_cutoff=net1.f[0])\n",
    "\n",
    "# print(\"getting hybrid waveform\")\n",
    "hp_hyb, hc_hyb = get_hyb_wf(net1.hfp, net1.hfc, net2.hfp, net2.hfc, max_lam)\n",
    "hp_hyb_pyc = FrequencySeries(hp_hyb, delta_f=delta_f)\n",
    "\n",
    "\n",
    "# print(\"calculating faithfulness the pycbc way\")\n",
    "min_faith, index = match(hp1_pyc, hp_hyb_pyc, psd=psd, low_frequency_cutoff=net1.f[0])\n",
    "\n",
    "# Compute the inner product (unoptimized faithfulness)   \n",
    "hp1_norm = np.sum((hp1_pyc * np.conjugate(hp1_pyc) / psd).data)\n",
    "hp2_norm = np.sum((hp2_pyc * np.conjugate(hp2_pyc) / psd).data)\n",
    "hyb_norm = np.sum((hp_hyb_pyc * np.conjugate(hp_hyb_pyc) / psd).data)\n",
    "\n",
    "full_inner_prod = np.abs(np.sum((hp1_pyc * np.conjugate(hp2_pyc)/psd).data)) / np.abs(np.sqrt(hp1_norm*hp2_norm))\n",
    "min_inner_prod = np.abs(np.sum((hp1_pyc * np.conjugate(hp_hyb_pyc)/psd).data)) / np.abs(np.sqrt(hp1_norm*hyb_norm))\n"
   ]
  },
  {
   "cell_type": "code",
   "execution_count": null,
   "metadata": {},
   "outputs": [
    {
     "data": {
      "text/html": [
       "<div>\n",
       "<style scoped>\n",
       "    .dataframe tbody tr th:only-of-type {\n",
       "        vertical-align: middle;\n",
       "    }\n",
       "\n",
       "    .dataframe tbody tr th {\n",
       "        vertical-align: top;\n",
       "    }\n",
       "\n",
       "    .dataframe thead th {\n",
       "        text-align: right;\n",
       "    }\n",
       "</style>\n",
       "<table border=\"1\" class=\"dataframe\">\n",
       "  <thead>\n",
       "    <tr style=\"text-align: right;\">\n",
       "      <th></th>\n",
       "      <th>bias_0</th>\n",
       "      <th>bias_1</th>\n",
       "      <th>bias_2</th>\n",
       "      <th>bias_3</th>\n",
       "      <th>faith_0</th>\n",
       "      <th>faith_1</th>\n",
       "      <th>faith_2</th>\n",
       "      <th>faith_3</th>\n",
       "    </tr>\n",
       "  </thead>\n",
       "  <tbody>\n",
       "    <tr>\n",
       "      <th>0</th>\n",
       "      <td>0.0</td>\n",
       "      <td>0.0</td>\n",
       "      <td>0.0</td>\n",
       "      <td>0.0</td>\n",
       "      <td>1.0</td>\n",
       "      <td>1.0</td>\n",
       "      <td>1.0</td>\n",
       "      <td>1.0</td>\n",
       "    </tr>\n",
       "    <tr>\n",
       "      <th>1</th>\n",
       "      <td>0.0</td>\n",
       "      <td>0.0</td>\n",
       "      <td>0.0</td>\n",
       "      <td>0.0</td>\n",
       "      <td>1.0</td>\n",
       "      <td>1.0</td>\n",
       "      <td>1.0</td>\n",
       "      <td>1.0</td>\n",
       "    </tr>\n",
       "    <tr>\n",
       "      <th>2</th>\n",
       "      <td>0.0</td>\n",
       "      <td>0.0</td>\n",
       "      <td>0.0</td>\n",
       "      <td>0.0</td>\n",
       "      <td>1.0</td>\n",
       "      <td>1.0</td>\n",
       "      <td>1.0</td>\n",
       "      <td>1.0</td>\n",
       "    </tr>\n",
       "    <tr>\n",
       "      <th>3</th>\n",
       "      <td>0.0</td>\n",
       "      <td>0.0</td>\n",
       "      <td>0.0</td>\n",
       "      <td>0.0</td>\n",
       "      <td>1.0</td>\n",
       "      <td>1.0</td>\n",
       "      <td>1.0</td>\n",
       "      <td>1.0</td>\n",
       "    </tr>\n",
       "    <tr>\n",
       "      <th>4</th>\n",
       "      <td>0.0</td>\n",
       "      <td>0.0</td>\n",
       "      <td>0.0</td>\n",
       "      <td>0.0</td>\n",
       "      <td>1.0</td>\n",
       "      <td>1.0</td>\n",
       "      <td>1.0</td>\n",
       "      <td>1.0</td>\n",
       "    </tr>\n",
       "    <tr>\n",
       "      <th>5</th>\n",
       "      <td>0.0</td>\n",
       "      <td>0.0</td>\n",
       "      <td>0.0</td>\n",
       "      <td>0.0</td>\n",
       "      <td>1.0</td>\n",
       "      <td>1.0</td>\n",
       "      <td>1.0</td>\n",
       "      <td>1.0</td>\n",
       "    </tr>\n",
       "    <tr>\n",
       "      <th>6</th>\n",
       "      <td>0.0</td>\n",
       "      <td>0.0</td>\n",
       "      <td>0.0</td>\n",
       "      <td>0.0</td>\n",
       "      <td>1.0</td>\n",
       "      <td>1.0</td>\n",
       "      <td>1.0</td>\n",
       "      <td>1.0</td>\n",
       "    </tr>\n",
       "    <tr>\n",
       "      <th>7</th>\n",
       "      <td>0.0</td>\n",
       "      <td>0.0</td>\n",
       "      <td>0.0</td>\n",
       "      <td>0.0</td>\n",
       "      <td>1.0</td>\n",
       "      <td>1.0</td>\n",
       "      <td>1.0</td>\n",
       "      <td>1.0</td>\n",
       "    </tr>\n",
       "    <tr>\n",
       "      <th>8</th>\n",
       "      <td>30.0</td>\n",
       "      <td>30.0</td>\n",
       "      <td>30.0</td>\n",
       "      <td>30.0</td>\n",
       "      <td>1.0</td>\n",
       "      <td>1.0</td>\n",
       "      <td>1.0</td>\n",
       "      <td>1.0</td>\n",
       "    </tr>\n",
       "    <tr>\n",
       "      <th>9</th>\n",
       "      <td>0.0</td>\n",
       "      <td>0.0</td>\n",
       "      <td>0.0</td>\n",
       "      <td>0.0</td>\n",
       "      <td>1.0</td>\n",
       "      <td>1.0</td>\n",
       "      <td>1.0</td>\n",
       "      <td>1.0</td>\n",
       "    </tr>\n",
       "  </tbody>\n",
       "</table>\n",
       "</div>"
      ],
      "text/plain": [
       "   bias_0  bias_1  bias_2  bias_3  faith_0  faith_1  faith_2  faith_3\n",
       "0     0.0     0.0     0.0     0.0      1.0      1.0      1.0      1.0\n",
       "1     0.0     0.0     0.0     0.0      1.0      1.0      1.0      1.0\n",
       "2     0.0     0.0     0.0     0.0      1.0      1.0      1.0      1.0\n",
       "3     0.0     0.0     0.0     0.0      1.0      1.0      1.0      1.0\n",
       "4     0.0     0.0     0.0     0.0      1.0      1.0      1.0      1.0\n",
       "5     0.0     0.0     0.0     0.0      1.0      1.0      1.0      1.0\n",
       "6     0.0     0.0     0.0     0.0      1.0      1.0      1.0      1.0\n",
       "7     0.0     0.0     0.0     0.0      1.0      1.0      1.0      1.0\n",
       "8    30.0    30.0    30.0    30.0      1.0      1.0      1.0      1.0\n",
       "9     0.0     0.0     0.0     0.0      1.0      1.0      1.0      1.0"
      ]
     },
     "execution_count": 45,
     "metadata": {},
     "output_type": "execute_result"
    }
   ],
   "source": [
    "lams = np.zeros((4, 10))\n",
    "lams[:, 8] =30\n",
    "l_colnames = ['bias_'+str(id) for id in range(4)]\n",
    "df[l_colnames] = lams.T\n",
    "df\n"
   ]
  },
  {
   "cell_type": "code",
   "execution_count": null,
   "metadata": {},
   "outputs": [
    {
     "data": {
      "text/html": [
       "<div>\n",
       "<style scoped>\n",
       "    .dataframe tbody tr th:only-of-type {\n",
       "        vertical-align: middle;\n",
       "    }\n",
       "\n",
       "    .dataframe tbody tr th {\n",
       "        vertical-align: top;\n",
       "    }\n",
       "\n",
       "    .dataframe thead th {\n",
       "        text-align: right;\n",
       "    }\n",
       "</style>\n",
       "<table border=\"1\" class=\"dataframe\">\n",
       "  <thead>\n",
       "    <tr style=\"text-align: right;\">\n",
       "      <th></th>\n",
       "      <th>bias_0</th>\n",
       "      <th>bias_1</th>\n",
       "      <th>bias_2</th>\n",
       "      <th>bias_3</th>\n",
       "      <th>faith_0</th>\n",
       "      <th>faith_1</th>\n",
       "      <th>faith_2</th>\n",
       "      <th>faith_3</th>\n",
       "    </tr>\n",
       "  </thead>\n",
       "  <tbody>\n",
       "    <tr>\n",
       "      <th>0</th>\n",
       "      <td>0.0</td>\n",
       "      <td>0.0</td>\n",
       "      <td>0.0</td>\n",
       "      <td>0.0</td>\n",
       "      <td>1.0</td>\n",
       "      <td>1.0</td>\n",
       "      <td>1.0</td>\n",
       "      <td>1.0</td>\n",
       "    </tr>\n",
       "    <tr>\n",
       "      <th>1</th>\n",
       "      <td>0.0</td>\n",
       "      <td>0.0</td>\n",
       "      <td>0.0</td>\n",
       "      <td>0.0</td>\n",
       "      <td>1.0</td>\n",
       "      <td>1.0</td>\n",
       "      <td>1.0</td>\n",
       "      <td>1.0</td>\n",
       "    </tr>\n",
       "    <tr>\n",
       "      <th>2</th>\n",
       "      <td>0.0</td>\n",
       "      <td>0.0</td>\n",
       "      <td>0.0</td>\n",
       "      <td>0.0</td>\n",
       "      <td>1.0</td>\n",
       "      <td>1.0</td>\n",
       "      <td>1.0</td>\n",
       "      <td>1.0</td>\n",
       "    </tr>\n",
       "    <tr>\n",
       "      <th>3</th>\n",
       "      <td>0.0</td>\n",
       "      <td>0.0</td>\n",
       "      <td>0.0</td>\n",
       "      <td>0.0</td>\n",
       "      <td>1.0</td>\n",
       "      <td>1.0</td>\n",
       "      <td>1.0</td>\n",
       "      <td>1.0</td>\n",
       "    </tr>\n",
       "    <tr>\n",
       "      <th>4</th>\n",
       "      <td>0.0</td>\n",
       "      <td>0.0</td>\n",
       "      <td>0.0</td>\n",
       "      <td>0.0</td>\n",
       "      <td>1.0</td>\n",
       "      <td>1.0</td>\n",
       "      <td>1.0</td>\n",
       "      <td>1.0</td>\n",
       "    </tr>\n",
       "    <tr>\n",
       "      <th>5</th>\n",
       "      <td>0.0</td>\n",
       "      <td>0.0</td>\n",
       "      <td>0.0</td>\n",
       "      <td>0.0</td>\n",
       "      <td>1.0</td>\n",
       "      <td>1.0</td>\n",
       "      <td>1.0</td>\n",
       "      <td>1.0</td>\n",
       "    </tr>\n",
       "    <tr>\n",
       "      <th>6</th>\n",
       "      <td>0.0</td>\n",
       "      <td>0.0</td>\n",
       "      <td>0.0</td>\n",
       "      <td>0.0</td>\n",
       "      <td>1.0</td>\n",
       "      <td>1.0</td>\n",
       "      <td>1.0</td>\n",
       "      <td>1.0</td>\n",
       "    </tr>\n",
       "    <tr>\n",
       "      <th>7</th>\n",
       "      <td>0.0</td>\n",
       "      <td>0.0</td>\n",
       "      <td>0.0</td>\n",
       "      <td>0.0</td>\n",
       "      <td>1.0</td>\n",
       "      <td>1.0</td>\n",
       "      <td>1.0</td>\n",
       "      <td>1.0</td>\n",
       "    </tr>\n",
       "    <tr>\n",
       "      <th>8</th>\n",
       "      <td>0.0</td>\n",
       "      <td>0.0</td>\n",
       "      <td>0.0</td>\n",
       "      <td>0.0</td>\n",
       "      <td>1.0</td>\n",
       "      <td>1.0</td>\n",
       "      <td>1.0</td>\n",
       "      <td>1.0</td>\n",
       "    </tr>\n",
       "    <tr>\n",
       "      <th>9</th>\n",
       "      <td>0.0</td>\n",
       "      <td>0.0</td>\n",
       "      <td>0.0</td>\n",
       "      <td>0.0</td>\n",
       "      <td>1.0</td>\n",
       "      <td>1.0</td>\n",
       "      <td>1.0</td>\n",
       "      <td>1.0</td>\n",
       "    </tr>\n",
       "  </tbody>\n",
       "</table>\n",
       "</div>"
      ],
      "text/plain": [
       "   bias_0  bias_1  bias_2  bias_3  faith_0  faith_1  faith_2  faith_3\n",
       "0     0.0     0.0     0.0     0.0      1.0      1.0      1.0      1.0\n",
       "1     0.0     0.0     0.0     0.0      1.0      1.0      1.0      1.0\n",
       "2     0.0     0.0     0.0     0.0      1.0      1.0      1.0      1.0\n",
       "3     0.0     0.0     0.0     0.0      1.0      1.0      1.0      1.0\n",
       "4     0.0     0.0     0.0     0.0      1.0      1.0      1.0      1.0\n",
       "5     0.0     0.0     0.0     0.0      1.0      1.0      1.0      1.0\n",
       "6     0.0     0.0     0.0     0.0      1.0      1.0      1.0      1.0\n",
       "7     0.0     0.0     0.0     0.0      1.0      1.0      1.0      1.0\n",
       "8     0.0     0.0     0.0     0.0      1.0      1.0      1.0      1.0\n",
       "9     0.0     0.0     0.0     0.0      1.0      1.0      1.0      1.0"
      ]
     },
     "execution_count": 42,
     "metadata": {},
     "output_type": "execute_result"
    }
   ],
   "source": [
    "faiths = np.ones((4, 10))\n",
    "f_colnames = ['faith_'+str(id) for id in range(4)]\n",
    "df[f_colnames] = faiths.T\n",
    "df"
   ]
  },
  {
   "attachments": {},
   "cell_type": "markdown",
   "metadata": {},
   "source": [
    "# Madau Fragos SFR test"
   ]
  },
  {
   "cell_type": "code",
   "execution_count": null,
   "metadata": {},
   "outputs": [],
   "source": [
    "z_min = 0.01\n",
    "z_max = 50.0"
   ]
  },
  {
   "attachments": {},
   "cell_type": "markdown",
   "metadata": {},
   "source": [
    "The Mada, Fragos (2017) SFR is given by (Eq. 1 in https://iopscience.iop.org/article/10.3847/1538-4357/aa6af9/pdf):\n",
    "\n",
    "$$ \\psi(z) = 0.01 \\frac{(1+z)^{2.6}}{1+ [(1+z)/3.2]^{6.2}} \\quad \\rm{M}_\\odot \\rm{yr}^{-1} \\rm{Mpc}^{-3}. $$\n",
    "\n",
    "We will assume that the BBH merger rate follows the SFR. This is obviously not a correct assumption, but we can address it later."
   ]
  },
  {
   "cell_type": "code",
   "execution_count": null,
   "metadata": {},
   "outputs": [],
   "source": [
    "def p_z_madau_fragos(z, z_min, z_max):\n",
    "    '''\n",
    "    Return normalized z-distribution from the Madau Fragos (2017)\n",
    "    star formation rate density.\n",
    "    '''\n",
    "    term_1 = (1+z)**(2.6)\n",
    "    term_2 = 1 + ((1+z)/3.2)**(6.2)\n",
    "\n",
    "    psi = 0.01 * term_1/term_2\n",
    "    norm = np.sum(psi)\n",
    "    psi = psi/norm\n",
    "\n",
    "    return psi"
   ]
  },
  {
   "cell_type": "code",
   "execution_count": null,
   "metadata": {},
   "outputs": [],
   "source": [
    "num_injs = 100\n",
    "z_range = np.linspace(z_min, z_max, 1000)\n",
    "\n",
    "pdf_z = p_z_madau_fragos(z_range, z_min, z_max)\n",
    "cdf_z = integrate.cumulative_trapezoid(pdf_z, z_range, initial=0)\n",
    "inv_cdf_z = interpolate.interp1d(cdf_z / cdf_z[-1], z_range)\n",
    "z_events = inv_cdf_z(np.random.rand(num_injs))"
   ]
  },
  {
   "cell_type": "code",
   "execution_count": null,
   "metadata": {},
   "outputs": [
    {
     "data": {
      "image/png": "[encoded data removed]",
      "text/plain": [
       "<Figure size 432x288 with 1 Axes>"
      ]
     },
     "metadata": {
      "needs_background": "light"
     },
     "output_type": "display_data"
    }
   ],
   "source": [
    "bins = np.linspace(z_min, z_max, num_injs)\n",
    "plt.hist(z_events, bins=bins, density=False, label='sampled zs')\n",
    "plt.plot(z_range, 10000*pdf_z, label=\"pdf\")\n",
    "plt.xlim(0, 10)\n",
    "\n",
    "plt.legend()\n",
    "plt.xlabel(\"z\")\n",
    "plt.ylabel(\"SFR density (PDF)\")\n",
    "plt.show()"
   ]
  },
  {
   "cell_type": "code",
   "execution_count": null,
   "metadata": {},
   "outputs": [],
   "source": []
  }
 ],
 "metadata": {
  "kernelspec": {
   "display_name": "Python 3.7.13 ('gwbench')",
   "language": "python",
   "name": "python3"
  },
  "language_info": {
   "codemirror_mode": {
    "name": "ipython",
    "version": 3
   },
   "file_extension": ".py",
   "mimetype": "text/x-python",
   "name": "python",
   "nbconvert_exporter": "python",
   "pygments_lexer": "ipython3",
   "version": "3.7.13"
  },
  "orig_nbformat": 4,
  "vscode": {
   "interpreter": {
    "hash": "cbe1fb295ede18687e704982bc89cf918a072ae67c1f3b9a387e3fbbe13ee567"
   }
  }
 },
 "nbformat": 4,
 "nbformat_minor": 2
}
